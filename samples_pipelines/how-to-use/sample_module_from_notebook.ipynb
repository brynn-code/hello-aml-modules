{
 "cells": [
  {
   "cell_type": "code",
   "execution_count": 1,
   "metadata": {
    "tags": []
   },
   "outputs": [],
   "source": [
    "import os\n",
    "from azureml.core import Workspace, Datastore, Dataset\n",
    "from azureml.pipeline.wrapper import Module, dsl, Pipeline\n",
    "from azureml.pipeline.wrapper._dataset import get_global_dataset_by_path\n",
    "from azureml.core.compute import AmlCompute, ComputeTarget"
   ]
  },
  {
   "cell_type": "code",
   "execution_count": 2,
   "metadata": {
    "tags": []
   },
   "outputs": [
    {
     "output_type": "stream",
     "name": "stderr",
     "text": "Warning: Falling back to use azure cli login credentials.\nIf you run your code in unattended mode, i.e., where you can't give a user input, then we recommend to use ServicePrincipalAuthentication or MsiAuthentication.\nPlease refer to aka.ms/aml-notebook-auth for different authentication mechanisms in azureml-sdk.\nDesignerTest-EUS\nDesignerTestRG\neastus\n4faaaf21-663f-4391-96fd-47197c630979\nFound existing compute target: aml-compute\n"
    }
   ],
   "source": [
    "ws = Workspace.from_config()\n",
    "print(ws.name, ws.resource_group, ws.location, ws.subscription_id, sep='\\n')\n",
    "\n",
    "aml_compute_target = \"aml-compute\"\n",
    "try:\n",
    "    aml_compute = AmlCompute(ws, aml_compute_target)\n",
    "    print(\"Found existing compute target: {}\".format(aml_compute_target))\n",
    "except:\n",
    "    print(\"Creating new compute target: {}\".format(aml_compute_target))\n",
    "\n",
    "    provisioning_config = AmlCompute.provisioning_configuration(vm_size=\"STANDARD_D2_V2\",\n",
    "                                                                min_nodes=1,\n",
    "                                                                max_nodes=4)    \n",
    "    aml_compute = ComputeTarget.create(ws, aml_compute_target, provisioning_config)\n",
    "    aml_compute.wait_for_completion(show_output=True, min_node_count=None, timeout_in_minutes=20)"
   ]
  },
  {
   "cell_type": "code",
   "execution_count": 3,
   "metadata": {
    "tags": []
   },
   "outputs": [
    {
     "output_type": "stream",
     "name": "stdout",
     "text": "INFO     - Extracting dsl module info from the notebook\nINFO     - Module entry file '_from_notebook.py' is dumped.\n"
    }
   ],
   "source": [
    "blob_input_data = get_global_dataset_by_path(\n",
    "    ws, 'Automobile_price_data',\n",
    "    'GenericCSV/Automobile_price_data_(Raw)')\n",
    "notebook_module_func = Module.from_notebook(ws, 'authoring/sample_module_from_notebook/from_notebook.ipynb')\n",
    "module1 = notebook_module_func(input=blob_input_data, param1='aaa0', param2='bbb0',i=1,j=2,flag=False)\n",
    "module2 = notebook_module_func(input=module1.outputs['output'], param1='aaa1', param2='bbb1',i=2,j=3,flag=True)\n",
    "steps = [module1, module2]"
   ]
  },
  {
   "cell_type": "code",
   "execution_count": 4,
   "metadata": {
    "tags": []
   },
   "outputs": [
    {
     "output_type": "stream",
     "name": "stdout",
     "text": "Submitted PipelineRun c06c490e-310d-460c-a430-46892d441c9f\nLink to Azure Machine Learning Portal: https://ml.azure.com/experiments/notebook_test/runs/c06c490e-310d-460c-a430-46892d441c9f?wsid=/subscriptions/4faaaf21-663f-4391-96fd-47197c630979/resourcegroups/DesignerTestRG/workspaces/DesignerTest-EUS\nc06c490e-310d-460c-a430-46892d441c9f\nPipelineRunId: c06c490e-310d-460c-a430-46892d441c9f\nLink to Azure Machine Learning Portal: https://ml.azure.com/experiments/notebook_test/runs/c06c490e-310d-460c-a430-46892d441c9f?wsid=/subscriptions/4faaaf21-663f-4391-96fd-47197c630979/resourcegroups/DesignerTestRG/workspaces/DesignerTest-EUS\n"
    },
    {
     "output_type": "display_data",
     "data": {
      "text/plain": "<IPython.core.display.Javascript object>",
      "application/javascript": "try {\n    require.undef(\"validate_widget\")\n\n    define('validate_widget', [\"@jupyter-widgets/base\"], function(widgets) {\n        var ValidateView = widgets.DOMWidgetView.extend({\n            render () {\n                window.widget_self = this\n                var visualize_id = this.model.get('visualize_id')\n\n                if (!window._renderLock) {\n                    window._renderLock = {}\n                }\n                if (window._renderLock[visualize_id]) {\n                    return\n                }\n                window._renderLock[visualize_id] = \"widget\"\n                console.log(\"load as widget\", Date.now())\n\n                var lib_url = this.model.get('lib_url')\n                var graph_json = JSON.parse(this.model.get('graph_json'))\n                var env_json = JSON.parse(this.model.get('env_json'))\n                var container_id = this.model.get('container_id')\n\n                window.render_container_id = container_id\n                window.graph_json = graph_json\n                window.graph_json_to_compare = undefined\n                window.env_json = env_json\n                window.before_script = performance.now()\n\n                var container = document.createElement('div')\n                container.id = container_id\n                this.el.appendChild(container)\n\n                var style = document.createElement('style')\n                style.innerHTML = [\n                    \"#\", container_id, \" svg.react-dag-editor-svg-container { height: 800px; }\",\n                    \".cell-output-ipywidget-background { background: transparent !important }\"\n                ].join('')\n                this.el.appendChild(style)\n\n                this.model.on('msg:custom', dispatchMessage, this);\n\n                if (!window.__event_hub) {\n                    window.__event_hub = {}\n                }\n                if (!window.__event_hub[container_id]) {\n                    window.__event_hub[container_id] = {}\n                }\n\n                if (!window.__send_event) {\n                    window.__send_event = {}\n                }\n                window.__send_event[container_id] = sendMessage.bind(this)\n\n                function sendMessage(message, uid, content) {\n                    return new Promise((resolve) => {\n                        this.model.send({\n                            message: `${message}:request`,\n                            body: {\n                                uid,\n                                content\n                            }\n                        })\n    \n                        var respMessageKey = `${message}:response`\n                        if (!window.__event_hub[container_id][respMessageKey]) {\n                            window.__event_hub[container_id][respMessageKey] = []\n                        }\n                        window.__event_hub[container_id][respMessageKey].push(callback)\n    \n                        function callback (response) {\n                            if (response.uid !== uid) {\n                                return\n                            }\n\n                            var idx = window.__event_hub[container_id][respMessageKey].indexOf(callback) \n                            window.__event_hub[container_id][respMessageKey].splice(idx, 1)\n                            \n                            resolve(response)\n                        }\n                    })\n                }\n\n                function dispatchMessage (rawMessage) {\n                    var message = rawMessage.message\n                    var body = rawMessage.body\n\n                    if (!window.__event_hub[container_id][message]) {\n                        window.__event_hub[container_id][message] = []\n                    }\n                    var listeners = window.__event_hub[container_id][message]\n\n                    listeners.forEach(cb => {\n                        try {\n                            cb(body)\n                        } catch (e) {\n                            console.error(\"Unexpected error in listener\", e)\n                        }\n                    })\n\n                    console.log(body)\n                }\n\n                var script = document.createElement('script')\n                script.src = lib_url\n                this.el.appendChild(script)\n            }\n        });\n\n        return {\n            ValidateView\n        }\n    })\n} catch (e) {\n    console.log(\"create validation widget failed\", e)\n}"
     },
     "metadata": {}
    },
    {
     "output_type": "display_data",
     "data": {
      "text/plain": "ValidateView(container_id='container_id_ee4c2ee3-a507-4b1e-9dd2-d66001151f70_widget', env_json='{}', graph_jso…",
      "application/vnd.jupyter.widget-view+json": {
       "version_major": 2,
       "version_minor": 0,
       "model_id": "253a6d10a151493e96f3b083a768e74f"
      }
     },
     "metadata": {}
    },
    {
     "output_type": "display_data",
     "data": {
      "text/plain": "<IPython.core.display.HTML object>",
      "text/html": "\n        <style>\n        #container_id_ee4c2ee3-a507-4b1e-9dd2-d66001151f70_script svg.react-dag-editor-svg-container {\n            height: 800px;\n        }\n        </style>\n        <div id=\"container_id_ee4c2ee3-a507-4b1e-9dd2-d66001151f70_script\"></div>\n        <script>\n            (function () {\n                if (!window._renderLock) {\n                    window._renderLock = {}\n                }\n                if (window._renderLock[\"ee4c2ee3-a507-4b1e-9dd2-d66001151f70\"]) {\n                    return\n                }\n                window._renderLock[\"ee4c2ee3-a507-4b1e-9dd2-d66001151f70\"] = \"script\"\n                console.log(\"load as script\", Date.now())\n                window.render_container_id=\"container_id_ee4c2ee3-a507-4b1e-9dd2-d66001151f70_script\";\n                window.graph_json={\"pipeline\": {\"name\": [\"notebook_test\"], \"data_references\": {\"genericcsv_automobile_price_data_raw\": {\"datastore\": \"azureml_globaldatasets\", \"path_on_datastore\": \"GenericCSV/Automobile_price_data_(Raw)\"}}, \"steps\": {\"e403b20b\": {\"inputs\": {\"input\": {\"source\": \"genericcsv_automobile_price_data_raw\"}}, \"outputs\": {\"output\": {\"destination\": \"630740e7-a0db-48ee-a964-c3396b33e882_output\"}}, \"module\": {\"id\": \"5dcd5446-1dc0-4e23-ab83-effc1e481eaa\", \"version\": \"0.0.1\"}, \"parameters\": {\"param1\": \"aaa0\", \"param2\": \"bbb0\", \"i\": 1, \"j\": 2, \"flag\": false}, \"validate\": {\"error\": [], \"module_id\": \"5dcd5446-1dc0-4e23-ab83-effc1e481eaa\", \"namespace\": \"DesignerTest-EUS\", \"module_name\": \"from notebook123123\", \"module_version\": \"0.0.1\"}}, \"dc2489ad\": {\"inputs\": {\"input\": {\"source\": \"630740e7-a0db-48ee-a964-c3396b33e882_output\"}}, \"outputs\": {\"output\": {\"destination\": \"6f7105fa-f276-4611-ada2-99b4ed8b3b1c_output\"}}, \"module\": {\"id\": \"5dcd5446-1dc0-4e23-ab83-effc1e481eaa\", \"version\": \"0.0.1\"}, \"parameters\": {\"param1\": \"aaa1\", \"param2\": \"bbb1\", \"i\": 2, \"j\": 3, \"flag\": true}, \"validate\": {\"error\": [], \"module_id\": \"5dcd5446-1dc0-4e23-ab83-effc1e481eaa\", \"namespace\": \"DesignerTest-EUS\", \"module_name\": \"from notebook123123\", \"module_version\": \"0.0.1\"}}}}, \"modules\": [{\"module_id\": \"5dcd5446-1dc0-4e23-ab83-effc1e481eaa\", \"version\": \"0.0.1\", \"name\": \"from notebook123123\", \"namespace\": \"DesignerTest-EUS\", \"structured_interface\": {\"inputs\": [{\"name\": \"input\", \"label\": \"input\", \"description\": \"input1\", \"data_type_ids_list\": [\"AnyDirectory\"]}], \"outputs\": [{\"name\": \"output\", \"label\": \"output\", \"description\": \"output1\", \"data_type_id\": \"AnyDirectory\"}]}}], \"datasources\": [{\"data_reference_name\": \"genericcsv_automobile_price_data_raw\", \"path_on_datastore\": \"GenericCSV/Automobile_price_data_(Raw)\", \"datastore\": \"azureml_globaldatasets\", \"nodeId\": \"fada1314-c106-37d2-81dc-6ea1068f7f9a\"}], \"subGraphInfo\": [{\"name\": \"notebook_test\", \"default_compute_target\": {}, \"default_data_store\": {\"data_store_name\": \"workspaceblobstore\"}, \"id\": \"6e47ec41-6cfb-4660-b616-470eb8a346ba\", \"pipeline_definition_id\": \"866cebb1-8a2c-4c83-b7f3-2f801f625416\", \"sub_graph_parameter_assignment\": [], \"sub_graph_data_path_parameter_assignment\": [], \"sub_graph_default_compute_target_nodes\": [\"e403b20b\", \"dc2489ad\"], \"sub_graph_default_data_store_nodes\": [\"e403b20b\", \"dc2489ad\"], \"inputs\": [], \"outputs\": [{\"name\": \"output\", \"internal\": [{\"node_id\": \"dc2489ad\", \"port_name\": \"output\"}], \"external\": []}]}], \"nodeIdToSubGraphIdMapping\": {\"e403b20b\": \"6e47ec41-6cfb-4660-b616-470eb8a346ba\", \"dc2489ad\": \"6e47ec41-6cfb-4660-b616-470eb8a346ba\"}, \"subPipelineDefinition\": [{\"name\": \"notebook_test\", \"default_compute_target\": {}, \"default_data_store\": {\"data_store_name\": \"workspaceblobstore\"}, \"id\": \"866cebb1-8a2c-4c83-b7f3-2f801f625416\", \"parameter_list\": []}]};\n                window.graph_json_to_compare=undefined;\n                window.env_json={};\n                window.before_script = performance.now();\n                var script = document.createElement('script')\n                script.src = \"https://yucongj-test.azureedge.net/libs/test/index.js?t=1597370558\"\n                document.getElementById(\"container_id_ee4c2ee3-a507-4b1e-9dd2-d66001151f70_script\").appendChild(script)\n            })()\n        </script>\n        "
     },
     "metadata": {}
    },
    {
     "output_type": "execute_result",
     "data": {
      "text/plain": "<RunStatus.completed: 'Completed'>"
     },
     "metadata": {},
     "execution_count": 4
    }
   ],
   "source": [
    "pipeline_name = \"notebook_test\"\n",
    "pipeline = Pipeline(name=pipeline_name, nodes=steps,\n",
    "                    outputs={**steps[-1].outputs})\n",
    "run = pipeline.submit(pipeline_name, \"aml-compute\")\n",
    "print(run.id)\n",
    "run.wait_for_completion()\n",
    "\n"
   ]
  },
  {
   "cell_type": "code",
   "execution_count": 7,
   "metadata": {
    "tags": []
   },
   "outputs": [
    {
     "output_type": "display_data",
     "data": {
      "text/plain": "<IPython.core.display.Javascript object>",
      "application/javascript": "try {\n    require.undef(\"validate_widget\")\n\n    define('validate_widget', [\"@jupyter-widgets/base\"], function(widgets) {\n        var ValidateView = widgets.DOMWidgetView.extend({\n            render () {\n                window.widget_self = this\n                var visualize_id = this.model.get('visualize_id')\n\n                if (!window._renderLock) {\n                    window._renderLock = {}\n                }\n                if (window._renderLock[visualize_id]) {\n                    return\n                }\n                window._renderLock[visualize_id] = \"widget\"\n                console.log(\"load as widget\", Date.now())\n\n                var lib_url = this.model.get('lib_url')\n                var graph_json = JSON.parse(this.model.get('graph_json'))\n                var env_json = JSON.parse(this.model.get('env_json'))\n                var container_id = this.model.get('container_id')\n\n                window.render_container_id = container_id\n                window.graph_json = graph_json\n                window.graph_json_to_compare = undefined\n                window.env_json = env_json\n                window.before_script = performance.now()\n\n                var container = document.createElement('div')\n                container.id = container_id\n                this.el.appendChild(container)\n\n                var style = document.createElement('style')\n                style.innerHTML = [\n                    \"#\", container_id, \" svg.react-dag-editor-svg-container { height: 800px; }\",\n                    \".cell-output-ipywidget-background { background: transparent !important }\"\n                ].join('')\n                this.el.appendChild(style)\n\n                this.model.on('msg:custom', dispatchMessage, this);\n\n                if (!window.__event_hub) {\n                    window.__event_hub = {}\n                }\n                if (!window.__event_hub[container_id]) {\n                    window.__event_hub[container_id] = {}\n                }\n\n                if (!window.__send_event) {\n                    window.__send_event = {}\n                }\n                window.__send_event[container_id] = sendMessage.bind(this)\n\n                function sendMessage(message, uid, content) {\n                    return new Promise((resolve) => {\n                        this.model.send({\n                            message: `${message}:request`,\n                            body: {\n                                uid,\n                                content\n                            }\n                        })\n    \n                        var respMessageKey = `${message}:response`\n                        if (!window.__event_hub[container_id][respMessageKey]) {\n                            window.__event_hub[container_id][respMessageKey] = []\n                        }\n                        window.__event_hub[container_id][respMessageKey].push(callback)\n    \n                        function callback (response) {\n                            if (response.uid !== uid) {\n                                return\n                            }\n\n                            var idx = window.__event_hub[container_id][respMessageKey].indexOf(callback) \n                            window.__event_hub[container_id][respMessageKey].splice(idx, 1)\n                            \n                            resolve(response)\n                        }\n                    })\n                }\n\n                function dispatchMessage (rawMessage) {\n                    var message = rawMessage.message\n                    var body = rawMessage.body\n\n                    if (!window.__event_hub[container_id][message]) {\n                        window.__event_hub[container_id][message] = []\n                    }\n                    var listeners = window.__event_hub[container_id][message]\n\n                    listeners.forEach(cb => {\n                        try {\n                            cb(body)\n                        } catch (e) {\n                            console.error(\"Unexpected error in listener\", e)\n                        }\n                    })\n\n                    console.log(body)\n                }\n\n                var script = document.createElement('script')\n                script.src = lib_url\n                this.el.appendChild(script)\n            }\n        });\n\n        return {\n            ValidateView\n        }\n    })\n} catch (e) {\n    console.log(\"create validation widget failed\", e)\n}"
     },
     "metadata": {}
    },
    {
     "output_type": "display_data",
     "data": {
      "text/plain": "ValidateView(container_id='container_id_2b019728-9324-4be6-828c-3f10bfe0ea58_widget', env_json='{\"subscription…",
      "application/vnd.jupyter.widget-view+json": {
       "version_major": 2,
       "version_minor": 0,
       "model_id": "f209fb069b744293a101faa85c03c72c"
      }
     },
     "metadata": {}
    },
    {
     "output_type": "display_data",
     "data": {
      "text/plain": "<IPython.core.display.HTML object>",
      "text/html": "\n        <style>\n        #container_id_2b019728-9324-4be6-828c-3f10bfe0ea58_script svg.react-dag-editor-svg-container {\n            height: 800px;\n        }\n        </style>\n        <div id=\"container_id_2b019728-9324-4be6-828c-3f10bfe0ea58_script\"></div>\n        <script>\n            (function () {\n                if (!window._renderLock) {\n                    window._renderLock = {}\n                }\n                if (window._renderLock[\"2b019728-9324-4be6-828c-3f10bfe0ea58\"]) {\n                    return\n                }\n                window._renderLock[\"2b019728-9324-4be6-828c-3f10bfe0ea58\"] = \"script\"\n                console.log(\"load as script\", Date.now())\n                window.render_container_id=\"container_id_2b019728-9324-4be6-828c-3f10bfe0ea58_script\";\n                window.graph_json={\"pipeline\": {\"name\": [\"notebook_test\"], \"data_references\": {\"genericcsv_automobile_price_data_raw\": {\"datastore\": \"azureml_globaldatasets\", \"path_on_datastore\": \"GenericCSV/Automobile_price_data_(Raw)\"}}, \"steps\": {\"5ec03329\": {\"inputs\": {\"input\": {\"source\": \"genericcsv_automobile_price_data_raw\"}}, \"outputs\": {\"output\": {\"destination\": \"630740e7-a0db-48ee-a964-c3396b33e882_output\"}}, \"module\": {\"id\": \"5dcd5446-1dc0-4e23-ab83-effc1e481eaa\", \"version\": \"0.0.1\"}, \"parameters\": {\"param1\": \"aaa0\", \"param2\": \"bbb0\", \"i\": 1, \"j\": 2, \"flag\": false}, \"validate\": {\"error\": [], \"module_id\": \"5dcd5446-1dc0-4e23-ab83-effc1e481eaa\", \"namespace\": \"DesignerTest-EUS\", \"module_name\": \"from notebook123123\", \"module_version\": \"0.0.1\"}}, \"ec74f457\": {\"inputs\": {\"input\": {\"source\": \"630740e7-a0db-48ee-a964-c3396b33e882_output\"}}, \"outputs\": {\"output\": {\"destination\": \"6f7105fa-f276-4611-ada2-99b4ed8b3b1c_output\"}}, \"module\": {\"id\": \"5dcd5446-1dc0-4e23-ab83-effc1e481eaa\", \"version\": \"0.0.1\"}, \"parameters\": {\"param1\": \"aaa1\", \"param2\": \"bbb1\", \"i\": 2, \"j\": 3, \"flag\": true}, \"validate\": {\"error\": [], \"module_id\": \"5dcd5446-1dc0-4e23-ab83-effc1e481eaa\", \"namespace\": \"DesignerTest-EUS\", \"module_name\": \"from notebook123123\", \"module_version\": \"0.0.1\"}}}}, \"modules\": [{\"module_id\": \"5dcd5446-1dc0-4e23-ab83-effc1e481eaa\", \"version\": \"0.0.1\", \"name\": \"from notebook123123\", \"namespace\": \"DesignerTest-EUS\", \"structured_interface\": {\"inputs\": [{\"name\": \"input\", \"label\": \"input\", \"description\": \"input1\", \"data_type_ids_list\": [\"AnyDirectory\"]}], \"outputs\": [{\"name\": \"output\", \"label\": \"output\", \"description\": \"output1\", \"data_type_id\": \"AnyDirectory\"}]}}], \"datasources\": [{\"data_reference_name\": \"genericcsv_automobile_price_data_raw\", \"path_on_datastore\": \"GenericCSV/Automobile_price_data_(Raw)\", \"datastore\": \"azureml_globaldatasets\", \"nodeId\": \"fada1314-c106-37d2-81dc-6ea1068f7f9a\"}], \"subGraphInfo\": [{\"name\": \"notebook_test\", \"default_compute_target\": {}, \"default_data_store\": {\"data_store_name\": \"workspaceblobstore\"}, \"id\": \"6e47ec41-6cfb-4660-b616-470eb8a346ba\", \"pipeline_definition_id\": \"866cebb1-8a2c-4c83-b7f3-2f801f625416\", \"sub_graph_parameter_assignment\": [], \"sub_graph_data_path_parameter_assignment\": [], \"sub_graph_default_compute_target_nodes\": [\"5ec03329\", \"ec74f457\"], \"sub_graph_default_data_store_nodes\": [\"5ec03329\", \"ec74f457\"], \"inputs\": [], \"outputs\": [{\"name\": \"output\", \"internal\": [{\"node_id\": \"ec74f457\", \"port_name\": \"output\"}], \"external\": []}]}], \"nodeIdToSubGraphIdMapping\": {\"5ec03329\": \"6e47ec41-6cfb-4660-b616-470eb8a346ba\", \"ec74f457\": \"6e47ec41-6cfb-4660-b616-470eb8a346ba\"}, \"subPipelineDefinition\": [{\"name\": \"notebook_test\", \"default_compute_target\": {}, \"default_data_store\": {\"data_store_name\": \"workspaceblobstore\"}, \"id\": \"866cebb1-8a2c-4c83-b7f3-2f801f625416\", \"parameter_list\": []}]};\n                window.graph_json_to_compare=undefined;\n                window.env_json={\"subscription_id\": \"4faaaf21-663f-4391-96fd-47197c630979\"};\n                window.before_script = performance.now();\n                var script = document.createElement('script')\n                script.src = \"https://yucongj-test.azureedge.net/libs/test/index.js?t=1597371157\"\n                document.getElementById(\"container_id_2b019728-9324-4be6-828c-3f10bfe0ea58_script\").appendChild(script)\n            })()\n        </script>\n        "
     },
     "metadata": {}
    },
    {
     "output_type": "stream",
     "name": "stdout",
     "text": "Working dir: C:\\Users\\zhohuang\\AppData\\Local\\Temp\\notebook_test\\80f7bb71-98f3-482c-b25d-0eca4ffe1108\nRunId: 80f7bb71-98f3-482c-b25d-0eca4ffe1108\nLink to Azure Machine Learning Portal: https://ml.azure.com/experiments/notebook_test/runs/80f7bb71-98f3-482c-b25d-0eca4ffe1108?wsid=/subscriptions/4faaaf21-663f-4391-96fd-47197c630979/resourcegroups/DesignerTestRG/workspaces/DesignerTest-EUS\nPreparing pipeline dataset.\nDownloading GenericCSV/Automobile_price_data_(Raw)/_data.parquet\nDownloading GenericCSV/Automobile_price_data_(Raw)/_data.visualization\nDownloading GenericCSV/Automobile_price_data_(Raw)/_meta.yaml\nDownloading GenericCSV/Automobile_price_data_(Raw)/data_type.json\nDownloading GenericCSV/Automobile_price_data_(Raw)/schema/_schema.json\nDownloaded GenericCSV/Automobile_price_data_(Raw)/_data.parquet, 1 files out of an estimated total of 5\nDownloaded GenericCSV/Automobile_price_data_(Raw)/_meta.yaml, 2 files out of an estimated total of 5\nDownloaded GenericCSV/Automobile_price_data_(Raw)/data_type.json, 3 files out of an estimated total of 5\nDownloaded GenericCSV/Automobile_price_data_(Raw)/schema/_schema.json, 4 files out of an estimated total of 5\nDownloaded GenericCSV/Automobile_price_data_(Raw)/_data.visualization, 5 files out of an estimated total of 5\nPrepared pipeline dataset.\n"
    },
    {
     "output_type": "execute_result",
     "data": {
      "text/plain": "'Completed'"
     },
     "metadata": {},
     "execution_count": 7
    }
   ],
   "source": [
    "pipeline.run()"
   ]
  },
  {
   "cell_type": "markdown",
   "metadata": {},
   "source": [
    "You can also create module from notebook file by using Azure CLI"
   ]
  },
  {
   "cell_type": "code",
   "execution_count": 2,
   "metadata": {
    "tags": []
   },
   "outputs": [
    {
     "output_type": "stream",
     "name": "stderr",
     "text": "INFO     - Module project builder version: 0.1.0.19749058 Python executable: C:\\Users\\zhohuang\\Miniconda3\\envs\\aml\\python.exe\nINFO     ========== Init started: c:\\Users\\zhohuang\\Desktop\\hello-aml-modules\\samples_pipelines\\how-to-use ==========\nINFO     - Determining if source authoring/sample_module_from_notebook/from_notebook.ipynb is function...\nINFO     - Determining if source authoring/sample_module_from_notebook/from_notebook.ipynb is notebook...\nINFO     - Attempting to generate dsl.module from notebook...\nINFO     - Extracting dsl module info from the notebook\nINFO     - Module entry file 'authoring\\sample_module_from_notebook\\from_notebook_entry.py' is dumped.\nINFO     - Initializing from notebook...\nINFO     - \t\tCreated \t authoring\\sample_module_from_notebook\\from_notebook_entry.py -> authoring\\sample_module_from_notebook\\from_notebook_entry.spec.yaml\nINFO     - \t\tCreated \t from_notebook_entry_test.ipynb\nINFO     - \t\tCreated \t from_notebook_entry_test.py\nINFO     - \t\tCreated \t .gitignore\nINFO     - \t\tCreated \t .amlignore\nWARNING  - \t\tSkipped: \t config.json\nINFO     - Initializing vscode settings...\nINFO     - \t\tCreated \t .vscode\\launch.json\nWARNING  - \t\tSkipped: \t .vscode\\settings.json\nINFO     ========== Init succeeded ==========\nINFO     - Dumping configurations into c:\\Users\\zhohuang\\Desktop\\hello-aml-modules\\samples_pipelines\\how-to-use\\.moduleproj\nINFO     - Time Elapsed 0:00:09.724043\nFailure while loading azureml_run_type_providers. Failed to load entrypoint hyperdrive = azureml.train.hyperdrive:HyperDriveRun._from_run_dto with exception (flake8 3.8.3 (c:\\users\\zhohuang\\miniconda3\\envs\\aml\\lib\\site-packages), Requirement.parse('flake8<=3.7.9,>=3.1.0; python_version >= \"3.6\"')).\n\nFailure while loading azureml_run_type_providers. Failed to load entrypoint automl = azureml.train.automl.run:AutoMLRun._from_run_dto with exception The 'cloudpickle>=1.1.0' distribution was not found and is required by azureml-dataprep.\n\nWarning: Falling back to use azure cli login credentials.\n\nIf you run your code in unattended mode, i.e., where you can't give a user input, then we recommend to use ServicePrincipalAuthentication or MsiAuthentication.\n\nPlease refer to aka.ms/aml-notebook-auth for different authentication mechanisms in azureml-sdk.\n\n"
    }
   ],
   "source": [
    "!az ml module init --source authoring/sample_module_from_notebook/from_notebook.ipynb"
   ]
  },
  {
   "cell_type": "code",
   "execution_count": null,
   "metadata": {},
   "outputs": [],
   "source": []
  }
 ],
 "metadata": {
  "authors": [
   {
    "name": "clwan"
   }
  ],
  "file_extension": ".py",
  "kernelspec": {
   "display_name": "Python 3.7.6 64-bit ('aml': conda)",
   "language": "python",
   "name": "python37664bitamlcondae575e403a6e3482c9ad24749d3e7be80"
  },
  "language_info": {
   "codemirror_mode": {
    "name": "ipython",
    "version": 3
   },
   "file_extension": ".py",
   "mimetype": "text/x-python",
   "name": "python",
   "nbconvert_exporter": "python",
   "pygments_lexer": "ipython3",
   "version": "3.7.6-final"
  },
  "mimetype": "text/x-python",
  "name": "python",
  "npconvert_exporter": "python",
  "pygments_lexer": "ipython3",
  "version": 3
 },
 "nbformat": 4,
 "nbformat_minor": 2
}