{
 "cells": [
  {
   "cell_type": "code",
   "execution_count": 1,
   "metadata": {
    "tags": []
   },
   "outputs": [
    {
     "output_type": "stream",
     "name": "stderr",
     "text": "Failure while loading azureml_run_type_providers. Failed to load entrypoint hyperdrive = azureml.train.hyperdrive:HyperDriveRun._from_run_dto with exception cannot import name '_update_args_and_inputs' from 'azureml.core.script_run_config' (C:\\Users\\zhohuang\\AppData\\Roaming\\Python\\Python37\\site-packages\\azureml\\core\\script_run_config.py).\n"
    }
   ],
   "source": [
    "import os\n",
    "from azureml.core import Workspace, Datastore, Dataset\n",
    "from azureml.pipeline.wrapper import Module, dsl, Pipeline\n",
    "from azureml.pipeline.wrapper._dataset import get_global_dataset_by_path\n",
    "from azureml.core.compute import AmlCompute, ComputeTarget"
   ]
  },
  {
   "cell_type": "code",
   "execution_count": 2,
   "metadata": {
    "tags": []
   },
   "outputs": [
    {
     "output_type": "stream",
     "name": "stderr",
     "text": "WARNING - Warning: Falling back to use azure cli login credentials.\nIf you run your code in unattended mode, i.e., where you can't give a user input, then we recommend to use ServicePrincipalAuthentication or MsiAuthentication.\nPlease refer to aka.ms/aml-notebook-auth for different authentication mechanisms in azureml-sdk.\nDesignerTest-EUS\nDesignerTestRG\neastus\n4faaaf21-663f-4391-96fd-47197c630979\nFound existing compute target: aml-compute\n"
    }
   ],
   "source": [
    "ws = Workspace.from_config()\n",
    "print(ws.name, ws.resource_group, ws.location, ws.subscription_id, sep='\\n')\n",
    "\n",
    "aml_compute_target = \"aml-compute\"\n",
    "try:\n",
    "    aml_compute = AmlCompute(ws, aml_compute_target)\n",
    "    print(\"Found existing compute target: {}\".format(aml_compute_target))\n",
    "except:\n",
    "    print(\"Creating new compute target: {}\".format(aml_compute_target))\n",
    "\n",
    "    provisioning_config = AmlCompute.provisioning_configuration(vm_size=\"STANDARD_D2_V2\",\n",
    "                                                                min_nodes=1,\n",
    "                                                                max_nodes=4)    \n",
    "    aml_compute = ComputeTarget.create(ws, aml_compute_target, provisioning_config)\n",
    "    aml_compute.wait_for_completion(show_output=True, min_node_count=None, timeout_in_minutes=20)"
   ]
  },
  {
   "cell_type": "code",
   "execution_count": 3,
   "metadata": {
    "tags": []
   },
   "outputs": [
    {
     "output_type": "stream",
     "name": "stdout",
     "text": "INFO     - Extracting dsl module info from the notebook\nINFO     - Module entry file '_from_notebook.py' is dumped.\n"
    }
   ],
   "source": [
    "blob_input_data = get_global_dataset_by_path(\n",
    "    ws, 'Automobile_price_data',\n",
    "    'GenericCSV/Automobile_price_data_(Raw)')\n",
    "notebook_module_func = Module.from_notebook(ws, 'authoring/sample_module_from_notebook/from_notebook.ipynb')\n",
    "module1 = notebook_module_func(input=blob_input_data, param1='aaa0', param2='bbb0',i=1,j=2,flag=False)\n",
    "module2 = notebook_module_func(input=module1.outputs['output'], param1='aaa1', param2='bbb1',i=2,j=3,flag=True)\n",
    "steps = [module1, module2]"
   ]
  },
  {
   "cell_type": "code",
   "execution_count": 4,
   "metadata": {
    "tags": []
   },
   "outputs": [
    {
     "output_type": "stream",
     "name": "stdout",
     "text": "Submitted PipelineRun 9262aeb0-23a8-4975-b978-eedf02fd0def\nLink to Azure Machine Learning Portal: https://ml.azure.com/experiments/notebook_test/runs/9262aeb0-23a8-4975-b978-eedf02fd0def?wsid=/subscriptions/4faaaf21-663f-4391-96fd-47197c630979/resourcegroups/DesignerTestRG/workspaces/DesignerTest-EUS\n9262aeb0-23a8-4975-b978-eedf02fd0def\nPipelineRunId: 9262aeb0-23a8-4975-b978-eedf02fd0def\nLink to Azure Machine Learning Portal: https://ml.azure.com/experiments/notebook_test/runs/9262aeb0-23a8-4975-b978-eedf02fd0def?wsid=/subscriptions/4faaaf21-663f-4391-96fd-47197c630979/resourcegroups/DesignerTestRG/workspaces/DesignerTest-EUS\n"
    },
    {
     "output_type": "display_data",
     "data": {
      "text/plain": "<IPython.core.display.Javascript object>",
      "application/javascript": "try {\n    require.undef(\"validate_widget\")\n\n    define('validate_widget', [\"@jupyter-widgets/base\"], function(widgets) {\n        var ValidateView = widgets.DOMWidgetView.extend({\n            render () {\n                window.widget_self = this\n                var visualize_id = this.model.get('visualize_id')\n\n                if (!window._renderLock) {\n                    window._renderLock = {}\n                }\n                if (window._renderLock[visualize_id]) {\n                    return\n                }\n                window._renderLock[visualize_id] = \"widget\"\n                console.log(\"load as widget\", Date.now())\n\n                var lib_url = this.model.get('lib_url')\n                var graph_json = JSON.parse(this.model.get('graph_json'))\n                var env_json = JSON.parse(this.model.get('env_json'))\n                var container_id = this.model.get('container_id')\n\n                window.render_container_id = container_id\n                window.graph_json = graph_json\n                window.graph_json_to_compare = undefined\n                window.env_json = env_json\n                window.before_script = performance.now()\n\n                var container = document.createElement('div')\n                container.id = container_id\n                this.el.appendChild(container)\n\n                var style = document.createElement('style')\n                style.innerHTML = [\n                    \"#\", container_id, \" svg.react-dag-editor-svg-container { height: 800px; }\",\n                    \".cell-output-ipywidget-background { background: transparent !important }\"\n                ].join('')\n                this.el.appendChild(style)\n\n                this.model.on('msg:custom', dispatchMessage, this);\n\n                if (!window.__event_hub) {\n                    window.__event_hub = {}\n                }\n                if (!window.__event_hub[container_id]) {\n                    window.__event_hub[container_id] = {}\n                }\n\n                if (!window.__send_event) {\n                    window.__send_event = {}\n                }\n                window.__send_event[container_id] = sendMessage.bind(this)\n\n                function sendMessage(message, uid, content) {\n                    return new Promise((resolve) => {\n                        this.model.send({\n                            message: `${message}:request`,\n                            body: {\n                                uid,\n                                content\n                            }\n                        })\n    \n                        var respMessageKey = `${message}:response`\n                        if (!window.__event_hub[container_id][respMessageKey]) {\n                            window.__event_hub[container_id][respMessageKey] = []\n                        }\n                        window.__event_hub[container_id][respMessageKey].push(callback)\n    \n                        function callback (response) {\n                            if (response.uid !== uid) {\n                                return\n                            }\n\n                            var idx = window.__event_hub[container_id][respMessageKey].indexOf(callback) \n                            window.__event_hub[container_id][respMessageKey].splice(idx, 1)\n                            \n                            resolve(response)\n                        }\n                    })\n                }\n\n                function dispatchMessage (rawMessage) {\n                    var message = rawMessage.message\n                    var body = rawMessage.body\n\n                    if (!window.__event_hub[container_id][message]) {\n                        window.__event_hub[container_id][message] = []\n                    }\n                    var listeners = window.__event_hub[container_id][message]\n\n                    listeners.forEach(cb => {\n                        try {\n                            cb(body)\n                        } catch (e) {\n                            console.error(\"Unexpected error in listener\", e)\n                        }\n                    })\n\n                    console.log(body)\n                }\n\n                var script = document.createElement('script')\n                script.src = lib_url\n                this.el.appendChild(script)\n            }\n        });\n\n        return {\n            ValidateView\n        }\n    })\n} catch (e) {\n    console.log(\"create validation widget failed\", e)\n}"
     },
     "metadata": {}
    },
    {
     "output_type": "display_data",
     "data": {
      "text/plain": "ValidateView(container_id='container_id_dae93185-aa7d-4aa6-ac5e-976479136dd8_widget', env_json='{}', graph_jso…",
      "application/vnd.jupyter.widget-view+json": {
       "version_major": 2,
       "version_minor": 0,
       "model_id": "8c93b12065064dca83c7e0c6510383b9"
      }
     },
     "metadata": {}
    },
    {
     "output_type": "display_data",
     "data": {
      "text/plain": "<IPython.core.display.HTML object>",
      "text/html": "\n        <style>\n        #container_id_dae93185-aa7d-4aa6-ac5e-976479136dd8_script svg.react-dag-editor-svg-container {\n            height: 800px;\n        }\n        </style>\n        <div id=\"container_id_dae93185-aa7d-4aa6-ac5e-976479136dd8_script\"></div>\n        <script>\n            (function () {\n                if (!window._renderLock) {\n                    window._renderLock = {}\n                }\n                if (window._renderLock[\"dae93185-aa7d-4aa6-ac5e-976479136dd8\"]) {\n                    return\n                }\n                window._renderLock[\"dae93185-aa7d-4aa6-ac5e-976479136dd8\"] = \"script\"\n                console.log(\"load as script\", Date.now())\n                window.render_container_id=\"container_id_dae93185-aa7d-4aa6-ac5e-976479136dd8_script\";\n                window.graph_json={\"pipeline\": {\"name\": [\"notebook_test\"], \"data_references\": {\"genericcsv_automobile_price_data_raw\": {\"datastore\": \"azureml_globaldatasets\", \"path_on_datastore\": \"GenericCSV/Automobile_price_data_(Raw)\"}}, \"steps\": {\"450f6335\": {\"inputs\": {\"input\": {\"source\": \"genericcsv_automobile_price_data_raw\"}}, \"outputs\": {\"output\": {\"destination\": \"fb18b35a-00f6-41ac-a194-ed025814aa66_output\"}}, \"module\": {\"id\": \"71826f6c-0123-4e16-896f-ccb2de386618\", \"version\": \"0.1.0\"}, \"parameters\": {\"param1\": \"aaa0\", \"param2\": \"bbb0\", \"i\": 1, \"j\": 2, \"flag\": false}, \"validate\": {\"error\": [], \"module_id\": \"71826f6c-0123-4e16-896f-ccb2de386618\", \"namespace\": \"notebook test namespace\", \"module_name\": \"from notebook\", \"module_version\": \"0.1.0\"}}, \"ec294257\": {\"inputs\": {\"input\": {\"source\": \"fb18b35a-00f6-41ac-a194-ed025814aa66_output\"}}, \"outputs\": {\"output\": {\"destination\": \"fe805ee1-f2ba-43ac-ba3f-f502c724f945_output\"}}, \"module\": {\"id\": \"71826f6c-0123-4e16-896f-ccb2de386618\", \"version\": \"0.1.0\"}, \"parameters\": {\"param1\": \"aaa1\", \"param2\": \"bbb1\", \"i\": 2, \"j\": 3, \"flag\": true}, \"validate\": {\"error\": [], \"module_id\": \"71826f6c-0123-4e16-896f-ccb2de386618\", \"namespace\": \"notebook test namespace\", \"module_name\": \"from notebook\", \"module_version\": \"0.1.0\"}}}}, \"modules\": [{\"module_id\": \"71826f6c-0123-4e16-896f-ccb2de386618\", \"version\": \"0.1.0\", \"name\": \"from notebook\", \"namespace\": \"notebook test namespace\", \"structured_interface\": {\"inputs\": [{\"name\": \"input\", \"label\": \"input\", \"description\": \"input1\", \"data_type_ids_list\": [\"AnyDirectory\"]}], \"outputs\": [{\"name\": \"output\", \"label\": \"output\", \"description\": \"output1\", \"data_type_id\": \"AnyDirectory\"}]}}], \"datasources\": [{\"data_reference_name\": \"genericcsv_automobile_price_data_raw\", \"path_on_datastore\": \"GenericCSV/Automobile_price_data_(Raw)\", \"datastore\": \"azureml_globaldatasets\", \"nodeId\": \"fada1314-c106-37d2-81dc-6ea1068f7f9a\"}], \"subGraphInfo\": [{\"name\": \"notebook_test\", \"default_compute_target\": {}, \"default_data_store\": {\"data_store_name\": \"workspaceblobstore\"}, \"id\": \"bc4feb3d-c273-4993-a6bd-9607f434de76\", \"pipeline_definition_id\": \"1964d6b3-d275-4c38-86e1-827698077689\", \"sub_graph_parameter_assignment\": [], \"sub_graph_data_path_parameter_assignment\": [], \"sub_graph_default_compute_target_nodes\": [\"450f6335\", \"ec294257\"], \"sub_graph_default_data_store_nodes\": [\"450f6335\", \"ec294257\"], \"inputs\": [], \"outputs\": [{\"name\": \"output\", \"internal\": [{\"node_id\": \"ec294257\", \"port_name\": \"output\"}], \"external\": []}]}], \"nodeIdToSubGraphIdMapping\": {\"450f6335\": \"bc4feb3d-c273-4993-a6bd-9607f434de76\", \"ec294257\": \"bc4feb3d-c273-4993-a6bd-9607f434de76\"}, \"subPipelineDefinition\": [{\"name\": \"notebook_test\", \"default_compute_target\": {}, \"default_data_store\": {\"data_store_name\": \"workspaceblobstore\"}, \"id\": \"1964d6b3-d275-4c38-86e1-827698077689\", \"parameter_list\": []}]};\n                window.graph_json_to_compare=None;\n                window.env_json={};\n                window.before_script = performance.now();\n                var script = document.createElement('script')\n                script.src = \"https://yucongj-test.azureedge.net/libs/test/index.js?t=1597139556\"\n                document.getElementById(\"container_id_dae93185-aa7d-4aa6-ac5e-976479136dd8_script\").appendChild(script)\n            })()\n        </script>\n        "
     },
     "metadata": {}
    },
    {
     "output_type": "execute_result",
     "data": {
      "text/plain": "<RunStatus.failed: 'Failed'>"
     },
     "metadata": {},
     "execution_count": 4
    }
   ],
   "source": [
    "pipeline_name = \"notebook_test\"\n",
    "pipeline = Pipeline(name=pipeline_name, nodes=steps,\n",
    "                    outputs={**steps[-1].outputs})\n",
    "run = pipeline.submit(pipeline_name, \"aml-compute\")\n",
    "print(run.id)\n",
    "run.wait_for_completion()\n",
    "\n"
   ]
  },
  {
   "cell_type": "code",
   "execution_count": null,
   "metadata": {},
   "outputs": [],
   "source": []
  }
 ],
 "metadata": {
  "authors": [
   {
    "name": "clwan"
   }
  ],
  "file_extension": ".py",
  "kernelspec": {
   "display_name": "Python 3.7.5 64-bit",
   "language": "python",
   "name": "python_defaultSpec_1597139506497"
  },
  "language_info": {
   "codemirror_mode": {
    "name": "ipython",
    "version": 3
   },
   "file_extension": ".py",
   "mimetype": "text/x-python",
   "name": "python",
   "nbconvert_exporter": "python",
   "pygments_lexer": "ipython3",
   "version": "3.6.5-final"
  },
  "mimetype": "text/x-python",
  "name": "python",
  "npconvert_exporter": "python",
  "pygments_lexer": "ipython3",
  "version": 3
 },
 "nbformat": 4,
 "nbformat_minor": 2
}