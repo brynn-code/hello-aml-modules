{
 "cells": [
  {
   "cell_type": "markdown",
   "metadata": {},
   "source": [
    "# PipelineEndpoint Demo"
   ]
  },
  {
   "cell_type": "code",
   "execution_count": 33,
   "metadata": {},
   "outputs": [],
   "source": [
    "from azureml.pipeline.wrapper import Module, dsl\n",
    "from workspace_helpers import setup_default_workspace, load_or_register_dataset\n",
    "from azureml.pipeline.wrapper._pipeline_endpoint import PipelineEndpoint"
   ]
  },
  {
   "cell_type": "code",
   "execution_count": 34,
   "metadata": {},
   "outputs": [],
   "source": [
    "workspace = setup_default_workspace()"
   ]
  },
  {
   "cell_type": "code",
   "execution_count": 3,
   "metadata": {},
   "outputs": [],
   "source": [
    "experiment_name = \"TestPipelineEndpoint\"\n",
    "module_func = Module.load(workspace, namespace='azureml', name='Select Columns in Dataset')\n",
    "test_pipeline_endpoint_name = \"test_pipeline_endpoint\"\n",
    "test_pipeline_endpoint_id = \"b27eb28c-da34-4064-9c13-e515fdb2c71b\"\n",
    "\n",
    "blob_input_data = load_or_register_dataset(workspace, name='Automobile_price_data_(Raw)',\n",
    "                                           datastore_name='azureml_globaldatasets',\n",
    "                                           path='GenericCSV/Automobile_price_data_(Raw)')\n",
    "select_columns = \"{\\\"isFilter\\\":true,\\\"rules\\\":[{\\\"exclude\\\":true,\\\"ruleType\\\":\\\"ColumnNames\\\",\\\"columns\\\":\" \\\n",
    "                 \"[\\\"normalized-losses\\\"]}]}\"\n",
    "\n",
    "@dsl.pipeline(name='test-pipeline', default_compute_target='aml-compute')\n",
    "def test_pipeline(_select_columns):\n",
    "    module1 = module_func(\n",
    "        dataset=blob_input_data,\n",
    "        select_columns=_select_columns\n",
    "    )\n",
    "    return module1.outputs"
   ]
  },
  {
   "cell_type": "code",
   "execution_count": 4,
   "metadata": {},
   "outputs": [
    {
     "name": "stdout",
     "output_type": "stream",
     "text": [
      "Submitted PipelineRun 610950df-3041-4abf-8161-15e95f97d451\n",
      "Link to Azure Machine Learning Portal: https://ml.azure.com/experiments/TestPipelineEndpoint/runs/610950df-3041-4abf-8161-15e95f97d451?wsid=/subscriptions/4faaaf21-663f-4391-96fd-47197c630979/resourcegroups/DesignerTestRG/workspaces/DesignerTest-EUS\n"
     ]
    }
   ],
   "source": [
    "pipeline = test_pipeline(_select_columns=select_columns)\n",
    "pipeline_run = pipeline.submit(experiment_name=experiment_name)"
   ]
  },
  {
   "cell_type": "markdown",
   "source": [
    "### 1. Publish\n",
    "Create a PipelineEndpoint with the specified name and pipeline/pipeline_run."
   ],
   "metadata": {
    "collapsed": false,
    "pycharm": {
     "name": "#%% md\n"
    }
   }
  },
  {
   "cell_type": "markdown",
   "source": [
    "#### 1.1 publish by pipeline"
   ],
   "metadata": {
    "collapsed": false,
    "pycharm": {
     "name": "#%% md\n"
    }
   }
  },
  {
   "cell_type": "code",
   "execution_count": 5,
   "outputs": [
    {
     "name": "stdout",
     "output_type": "stream",
     "text": [
      "Using existing pipeline endpoint \"test_pipeline_endpoint\"\n",
      "Pipeline endpoint with name \"test_pipeline_endpoint\" already exist, published pipeline to \"test_pipeline_endpoint\"\n"
     ]
    },
    {
     "data": {
      "text/plain": "PipelineEndpoint(Name: test_pipeline_endpoint,\nDescription: None,\nDate updated: 2020-08-07 06:54:28.950082+00:00,\nUpdated by: Liyuan Wu,\nLast run submit time: 2020-08-07 06:40:52.606778+00:00,\nLast run status: 2,\nStatus: Active,\nrest_endpoint: https://eastus.api.azureml.ms/pipelines/v1.0/subscriptions/4faaaf21-663f-4391-96fd-47197c630979/resourceGroups/DesignerTestRG/providers/Microsoft.MachineLearningServices/workspaces/DesignerTest-EUS/PipelineRuns/PipelineEndpointSubmit/Id/b27eb28c-da34-4064-9c13-e515fdb2c71b)"
     },
     "execution_count": 5,
     "metadata": {},
     "output_type": "execute_result"
    }
   ],
   "source": [
    "pipeline_endpoint_published_by_pipeline = PipelineEndpoint.publish(\n",
    "    workspace=workspace,\n",
    "    name=test_pipeline_endpoint_name,\n",
    "    description=\"description_for_test_endpoint_publish\",\n",
    "    pipeline=pipeline)\n",
    "\n",
    "pipeline_endpoint_published_by_pipeline"
   ],
   "metadata": {
    "collapsed": false,
    "pycharm": {
     "name": "#%%\n"
    }
   }
  },
  {
   "cell_type": "markdown",
   "source": [
    "#### 1.2 publish by pipeline_run"
   ],
   "metadata": {
    "collapsed": false,
    "pycharm": {
     "name": "#%% md\n"
    }
   }
  },
  {
   "cell_type": "code",
   "execution_count": 6,
   "outputs": [
    {
     "name": "stderr",
     "output_type": "stream",
     "text": [
      "method publish_to_endpoint: This is an experimental method, and may change at any time.<br/>For more information, see https://aka.ms/azuremlexperimental.\n"
     ]
    },
    {
     "name": "stdout",
     "output_type": "stream",
     "text": [
      "Using existing pipeline endpoint \"test_pipeline_endpoint\"\n",
      "Pipeline endpoint with name \"test_pipeline_endpoint\" already exist, published pipeline to \"test_pipeline_endpoint\"\n"
     ]
    },
    {
     "data": {
      "text/plain": "PipelineEndpoint(Name: test_pipeline_endpoint,\nDescription: None,\nDate updated: 2020-08-07 06:54:46.040358+00:00,\nUpdated by: Liyuan Wu,\nLast run submit time: 2020-08-07 06:40:52.606778+00:00,\nLast run status: 2,\nStatus: Active,\nrest_endpoint: https://eastus.api.azureml.ms/pipelines/v1.0/subscriptions/4faaaf21-663f-4391-96fd-47197c630979/resourceGroups/DesignerTestRG/providers/Microsoft.MachineLearningServices/workspaces/DesignerTest-EUS/PipelineRuns/PipelineEndpointSubmit/Id/b27eb28c-da34-4064-9c13-e515fdb2c71b)"
     },
     "execution_count": 6,
     "metadata": {},
     "output_type": "execute_result"
    }
   ],
   "source": [
    "# pipeline_run test\n",
    "pipeline_endpoint_published_by_pipeline_run = PipelineEndpoint.publish(\n",
    "    workspace=workspace,\n",
    "    name=test_pipeline_endpoint_name,\n",
    "    description=\"description_for_test_endpoint_publish\",\n",
    "    pipeline=pipeline_run\n",
    ")\n",
    "\n",
    "pipeline_endpoint_published_by_pipeline_run"
   ],
   "metadata": {
    "collapsed": false,
    "pycharm": {
     "name": "#%%\n"
    }
   }
  },
  {
   "attachments": {},
   "cell_type": "markdown",
   "metadata": {},
   "source": [
    "### 2. Get pipeline endpoint\n",
    "Get the PipelineEndpoint by name or ID"
   ]
  },
  {
   "cell_type": "markdown",
   "metadata": {},
   "source": [
    "#### 2.1 get by id"
   ]
  },
  {
   "cell_type": "code",
   "execution_count": 7,
   "metadata": {},
   "outputs": [
    {
     "data": {
      "text/plain": "PipelineEndpoint(Name: test_pipeline_endpoint,\nDescription: None,\nDate updated: 2020-08-07 06:54:46.040358+00:00,\nUpdated by: Liyuan Wu,\nLast run submit time: 2020-08-07 06:40:52.606778+00:00,\nLast run status: 2,\nStatus: Active,\nrest_endpoint: https://eastus.api.azureml.ms/pipelines/v1.0/subscriptions/4faaaf21-663f-4391-96fd-47197c630979/resourceGroups/DesignerTestRG/providers/Microsoft.MachineLearningServices/workspaces/DesignerTest-EUS/PipelineRuns/PipelineEndpointSubmit/Id/b27eb28c-da34-4064-9c13-e515fdb2c71b)"
     },
     "execution_count": 7,
     "metadata": {},
     "output_type": "execute_result"
    }
   ],
   "source": [
    "endpoint_got_by_id = PipelineEndpoint.get(workspace=workspace, id=test_pipeline_endpoint_id)\n",
    "\n",
    "endpoint_got_by_id"
   ]
  },
  {
   "cell_type": "markdown",
   "metadata": {},
   "source": [
    "#### 2.2 get by name"
   ]
  },
  {
   "cell_type": "code",
   "execution_count": 8,
   "metadata": {},
   "outputs": [
    {
     "data": {
      "text/plain": "PipelineEndpoint(Name: test_pipeline_endpoint,\nDescription: None,\nDate updated: 2020-08-07 06:54:46.040358+00:00,\nUpdated by: Liyuan Wu,\nLast run submit time: 2020-08-07 06:40:52.606778+00:00,\nLast run status: 2,\nStatus: Active,\nrest_endpoint: https://eastus.api.azureml.ms/pipelines/v1.0/subscriptions/4faaaf21-663f-4391-96fd-47197c630979/resourceGroups/DesignerTestRG/providers/Microsoft.MachineLearningServices/workspaces/DesignerTest-EUS/PipelineRuns/PipelineEndpointSubmit/Id/b27eb28c-da34-4064-9c13-e515fdb2c71b)"
     },
     "execution_count": 8,
     "metadata": {},
     "output_type": "execute_result"
    }
   ],
   "source": [
    "endpoint_got_by_name = PipelineEndpoint.get(workspace=workspace, name=test_pipeline_endpoint_name)\n",
    "\n",
    "endpoint_got_by_name"
   ]
  },
  {
   "cell_type": "markdown",
   "metadata": {},
   "source": [
    "#### 2.3 get not-exist endpoint"
   ]
  },
  {
   "cell_type": "code",
   "execution_count": 9,
   "metadata": {
    "collapsed": true
   },
   "outputs": [
    {
     "ename": "UserErrorException",
     "evalue": "UserErrorException:\n\tMessage: Pipeline Endpoint \"pipeline_endpoint_not_exist\" not exist.\n\tInnerException None\n\tErrorResponse \n{\n    \"error\": {\n        \"code\": \"UserError\",\n        \"message\": \"Pipeline Endpoint \\\"pipeline_endpoint_not_exist\\\" not exist.\"\n    }\n}",
     "output_type": "error",
     "traceback": [
      "\u001B[1;31m---------------------------------------------------------------------------\u001B[0m",
      "\u001B[1;31mUserErrorException\u001B[0m                        Traceback (most recent call last)",
      "\u001B[1;32m<ipython-input-9-d97b82fcd6d4>\u001B[0m in \u001B[0;36m<module>\u001B[1;34m\u001B[0m\n\u001B[1;32m----> 1\u001B[1;33m \u001B[0mPipelineEndpoint\u001B[0m\u001B[1;33m.\u001B[0m\u001B[0mget\u001B[0m\u001B[1;33m(\u001B[0m\u001B[0mworkspace\u001B[0m\u001B[1;33m=\u001B[0m\u001B[0mworkspace\u001B[0m\u001B[1;33m,\u001B[0m \u001B[0mname\u001B[0m\u001B[1;33m=\u001B[0m\u001B[1;34m\"pipeline_endpoint_not_exist\"\u001B[0m\u001B[1;33m)\u001B[0m\u001B[1;33m\u001B[0m\u001B[1;33m\u001B[0m\u001B[0m\n\u001B[0m",
      "\u001B[1;32m~\\PycharmProjects\\AzureMlCli\\src\\azureml-pipeline-wrapper\\azureml\\pipeline\\wrapper\\_loggerfactory.py\u001B[0m in \u001B[0;36mwrapper\u001B[1;34m(*args, **kwargs)\u001B[0m\n\u001B[0;32m    130\u001B[0m                                                activity_type, custom_dimensions) as al:\n\u001B[0;32m    131\u001B[0m                 \u001B[1;32mtry\u001B[0m\u001B[1;33m:\u001B[0m\u001B[1;33m\u001B[0m\u001B[1;33m\u001B[0m\u001B[0m\n\u001B[1;32m--> 132\u001B[1;33m                     \u001B[1;32mreturn\u001B[0m \u001B[0mfunc\u001B[0m\u001B[1;33m(\u001B[0m\u001B[1;33m*\u001B[0m\u001B[0margs\u001B[0m\u001B[1;33m,\u001B[0m \u001B[1;33m**\u001B[0m\u001B[0mkwargs\u001B[0m\u001B[1;33m)\u001B[0m\u001B[1;33m\u001B[0m\u001B[1;33m\u001B[0m\u001B[0m\n\u001B[0m\u001B[0;32m    133\u001B[0m                 \u001B[1;32mexcept\u001B[0m \u001B[0mException\u001B[0m \u001B[1;32mas\u001B[0m \u001B[0me\u001B[0m\u001B[1;33m:\u001B[0m\u001B[1;33m\u001B[0m\u001B[1;33m\u001B[0m\u001B[0m\n\u001B[0;32m    134\u001B[0m                     \u001B[0mal\u001B[0m\u001B[1;33m.\u001B[0m\u001B[0mactivity_info\u001B[0m\u001B[1;33m[\u001B[0m\u001B[1;34m'exception_type'\u001B[0m\u001B[1;33m]\u001B[0m \u001B[1;33m=\u001B[0m \u001B[0mtype\u001B[0m\u001B[1;33m(\u001B[0m\u001B[0me\u001B[0m\u001B[1;33m)\u001B[0m\u001B[1;33m.\u001B[0m\u001B[0m__name__\u001B[0m\u001B[1;33m\u001B[0m\u001B[1;33m\u001B[0m\u001B[0m\n",
      "\u001B[1;32m~\\PycharmProjects\\AzureMlCli\\src\\azureml-pipeline-wrapper\\azureml\\pipeline\\wrapper\\_pipeline_endpoint.py\u001B[0m in \u001B[0;36mget\u001B[1;34m(workspace, id, name)\u001B[0m\n\u001B[0;32m    241\u001B[0m         \u001B[0mservice_caller\u001B[0m \u001B[1;33m=\u001B[0m \u001B[0mDesignerServiceCaller\u001B[0m\u001B[1;33m(\u001B[0m\u001B[0mworkspace\u001B[0m\u001B[1;33m=\u001B[0m\u001B[0mworkspace\u001B[0m\u001B[1;33m)\u001B[0m\u001B[1;33m\u001B[0m\u001B[1;33m\u001B[0m\u001B[0m\n\u001B[0;32m    242\u001B[0m         result = service_caller.get_pipeline_endpoint(pipeline_endpoint_id=id,\n\u001B[1;32m--> 243\u001B[1;33m                                                       pipeline_endpoint_name=name)\n\u001B[0m\u001B[0;32m    244\u001B[0m \u001B[1;33m\u001B[0m\u001B[0m\n\u001B[0;32m    245\u001B[0m         \u001B[0mpipeline_endpoint\u001B[0m \u001B[1;33m=\u001B[0m \u001B[0mPipelineEndpoint\u001B[0m\u001B[1;33m.\u001B[0m\u001B[0m_from_service_caller_model\u001B[0m\u001B[1;33m(\u001B[0m\u001B[0mworkspace\u001B[0m\u001B[1;33m,\u001B[0m \u001B[0mresult\u001B[0m\u001B[1;33m)\u001B[0m\u001B[1;33m\u001B[0m\u001B[1;33m\u001B[0m\u001B[0m\n",
      "\u001B[1;32m~\\PycharmProjects\\AzureMlCli\\src\\azureml-pipeline-wrapper\\azureml\\pipeline\\wrapper\\_loggerfactory.py\u001B[0m in \u001B[0;36mwrapper\u001B[1;34m(*args, **kwargs)\u001B[0m\n\u001B[0;32m    130\u001B[0m                                                activity_type, custom_dimensions) as al:\n\u001B[0;32m    131\u001B[0m                 \u001B[1;32mtry\u001B[0m\u001B[1;33m:\u001B[0m\u001B[1;33m\u001B[0m\u001B[1;33m\u001B[0m\u001B[0m\n\u001B[1;32m--> 132\u001B[1;33m                     \u001B[1;32mreturn\u001B[0m \u001B[0mfunc\u001B[0m\u001B[1;33m(\u001B[0m\u001B[1;33m*\u001B[0m\u001B[0margs\u001B[0m\u001B[1;33m,\u001B[0m \u001B[1;33m**\u001B[0m\u001B[0mkwargs\u001B[0m\u001B[1;33m)\u001B[0m\u001B[1;33m\u001B[0m\u001B[1;33m\u001B[0m\u001B[0m\n\u001B[0m\u001B[0;32m    133\u001B[0m                 \u001B[1;32mexcept\u001B[0m \u001B[0mException\u001B[0m \u001B[1;32mas\u001B[0m \u001B[0me\u001B[0m\u001B[1;33m:\u001B[0m\u001B[1;33m\u001B[0m\u001B[1;33m\u001B[0m\u001B[0m\n\u001B[0;32m    134\u001B[0m                     \u001B[0mal\u001B[0m\u001B[1;33m.\u001B[0m\u001B[0mactivity_info\u001B[0m\u001B[1;33m[\u001B[0m\u001B[1;34m'exception_type'\u001B[0m\u001B[1;33m]\u001B[0m \u001B[1;33m=\u001B[0m \u001B[0mtype\u001B[0m\u001B[1;33m(\u001B[0m\u001B[0me\u001B[0m\u001B[1;33m)\u001B[0m\u001B[1;33m.\u001B[0m\u001B[0m__name__\u001B[0m\u001B[1;33m\u001B[0m\u001B[1;33m\u001B[0m\u001B[0m\n",
      "\u001B[1;32m~\\PycharmProjects\\AzureMlCli\\src\\azureml-pipeline-wrapper\\azureml\\pipeline\\wrapper\\_restclients\\service_caller.py\u001B[0m in \u001B[0;36mget_pipeline_endpoint\u001B[1;34m(self, pipeline_endpoint_id, pipeline_endpoint_name)\u001B[0m\n\u001B[0;32m    524\u001B[0m             \u001B[0mendpoints_name_list\u001B[0m \u001B[1;33m=\u001B[0m \u001B[1;33m[\u001B[0m\u001B[0mendpoint\u001B[0m\u001B[1;33m.\u001B[0m\u001B[0mname\u001B[0m \u001B[1;32mfor\u001B[0m \u001B[0mendpoint\u001B[0m \u001B[1;32min\u001B[0m \u001B[0mendpoints\u001B[0m\u001B[1;33m]\u001B[0m\u001B[1;33m\u001B[0m\u001B[1;33m\u001B[0m\u001B[0m\n\u001B[0;32m    525\u001B[0m             \u001B[1;32mif\u001B[0m \u001B[0mpipeline_endpoint_name\u001B[0m \u001B[1;32mnot\u001B[0m \u001B[1;32min\u001B[0m \u001B[0mendpoints_name_list\u001B[0m\u001B[1;33m:\u001B[0m\u001B[1;33m\u001B[0m\u001B[1;33m\u001B[0m\u001B[0m\n\u001B[1;32m--> 526\u001B[1;33m                 \u001B[1;32mraise\u001B[0m \u001B[0mUserErrorException\u001B[0m\u001B[1;33m(\u001B[0m\u001B[1;34m'Pipeline Endpoint \"{0}\" not exist.'\u001B[0m\u001B[1;33m.\u001B[0m\u001B[0mformat\u001B[0m\u001B[1;33m(\u001B[0m\u001B[0mpipeline_endpoint_name\u001B[0m\u001B[1;33m)\u001B[0m\u001B[1;33m)\u001B[0m\u001B[1;33m\u001B[0m\u001B[1;33m\u001B[0m\u001B[0m\n\u001B[0m\u001B[0;32m    527\u001B[0m             \u001B[1;32mfor\u001B[0m \u001B[0mendpoint\u001B[0m \u001B[1;32min\u001B[0m \u001B[0mendpoints\u001B[0m\u001B[1;33m:\u001B[0m\u001B[1;33m\u001B[0m\u001B[1;33m\u001B[0m\u001B[0m\n\u001B[0;32m    528\u001B[0m                 \u001B[1;32mif\u001B[0m \u001B[0mendpoint\u001B[0m\u001B[1;33m.\u001B[0m\u001B[0mname\u001B[0m \u001B[1;33m==\u001B[0m \u001B[0mpipeline_endpoint_name\u001B[0m\u001B[1;33m:\u001B[0m\u001B[1;33m\u001B[0m\u001B[1;33m\u001B[0m\u001B[0m\n",
      "\u001B[1;31mUserErrorException\u001B[0m: UserErrorException:\n\tMessage: Pipeline Endpoint \"pipeline_endpoint_not_exist\" not exist.\n\tInnerException None\n\tErrorResponse \n{\n    \"error\": {\n        \"code\": \"UserError\",\n        \"message\": \"Pipeline Endpoint \\\"pipeline_endpoint_not_exist\\\" not exist.\"\n    }\n}"
     ]
    }
   ],
   "source": [
    "PipelineEndpoint.get(workspace=workspace, name=\"pipeline_endpoint_not_exist\")"
   ]
  },
  {
   "cell_type": "markdown",
   "metadata": {},
   "source": [
    "### 3. Pipeline endpoint Submit\n",
    "Submit default version of endpoint."
   ]
  },
  {
   "cell_type": "code",
   "execution_count": 10,
   "metadata": {},
   "outputs": [
    {
     "name": "stdout",
     "output_type": "stream",
     "text": [
      "Submit pipeline test_pipeline_endpoint use default parameters {'_select_columns': '{\"isFilter\":true,\"rules\":[{\"exclude\":true,\"ruleType\":\"ColumnNames\",\"columns\":[\"normalized-losses\"]}]}'}\n",
      "Submitted PipelineEndpointRun 6c052484-6210-48c9-b6de-b7b9852df7e5\n",
      "Link to Azure Machine Learning Portal: https://ml.azure.com/experiments/test_submit_by_pipeline_endpoint/runs/6c052484-6210-48c9-b6de-b7b9852df7e5?wsid=/subscriptions/4faaaf21-663f-4391-96fd-47197c630979/resourcegroups/DesignerTestRG/workspaces/DesignerTest-EUS\n"
     ]
    }
   ],
   "source": [
    "test_submit_experiment_name = \"test_submit_by_pipeline_endpoint\"\n",
    "pipeline_endpoint = PipelineEndpoint.get(workspace=workspace, id=test_pipeline_endpoint_id)\n",
    "\n",
    "run_submitted_by_pipeline_endpoint = pipeline_endpoint.submit(experiment_name=test_submit_experiment_name)"
   ]
  },
  {
   "cell_type": "code",
   "execution_count": 11,
   "metadata": {},
   "outputs": [
    {
     "data": {
      "text/plain": "'19d79c94-279d-486f-b7f8-5014bd5e2071'"
     },
     "execution_count": 11,
     "metadata": {},
     "output_type": "execute_result"
    }
   ],
   "source": [
    "run_submitted_by_pipeline_endpoint.tags[\"azureml.pipelineid\"]"
   ]
  },
  {
   "cell_type": "code",
   "execution_count": 12,
   "metadata": {},
   "outputs": [
    {
     "data": {
      "text/plain": "'19d79c94-279d-486f-b7f8-5014bd5e2071'"
     },
     "execution_count": 12,
     "metadata": {},
     "output_type": "execute_result"
    }
   ],
   "source": [
    "pipeline_endpoint._default_pipeline_id"
   ]
  },
  {
   "cell_type": "markdown",
   "metadata": {},
   "source": [
    "### 4. List\n",
    "List active PipelineEndpoints in the current workspace."
   ]
  },
  {
   "cell_type": "code",
   "execution_count": 13,
   "metadata": {},
   "outputs": [],
   "source": [
    "pipeline_endpoints_list = PipelineEndpoint.list(workspace=workspace, active_only=True)"
   ]
  },
  {
   "cell_type": "code",
   "execution_count": 14,
   "metadata": {},
   "outputs": [
    {
     "data": {
      "text/plain": "[PipelineEndpoint(Name: test_pipeline_endpoint,\n Description: None,\n Date updated: 2020-08-07 06:54:46.040358+00:00,\n Updated by: Liyuan Wu,\n Last run submit time: 2020-08-07 06:55:35.987182+00:00,\n Last run status: 0,\n Status: Active,\n rest_endpoint: https://eastus.api.azureml.ms/pipelines/v1.0/subscriptions/4faaaf21-663f-4391-96fd-47197c630979/resourceGroups/DesignerTestRG/providers/Microsoft.MachineLearningServices/workspaces/DesignerTest-EUS/PipelineRuns/PipelineEndpointSubmit/Id/b27eb28c-da34-4064-9c13-e515fdb2c71b),\n PipelineEndpoint(Name: test_published_pipeline,\n Description: None,\n Date updated: 2020-08-07 06:46:41.859904+00:00,\n Updated by: 240bbec1-db0f-4c9c-a103-de1dd781f3f2,\n Last run submit time: 2020-08-07 06:40:33.356167+00:00,\n Last run status: 3,\n Status: Active,\n rest_endpoint: https://eastus.api.azureml.ms/pipelines/v1.0/subscriptions/4faaaf21-663f-4391-96fd-47197c630979/resourceGroups/DesignerTestRG/providers/Microsoft.MachineLearningServices/workspaces/DesignerTest-EUS/PipelineRuns/PipelineEndpointSubmit/Id/4ba503fa-ee2c-4200-a28e-4a96134b4dba),\n PipelineEndpoint(Name: test_publish_to_pipeline,\n Description: None,\n Date updated: 2020-08-07 06:45:47.694513+00:00,\n Updated by: 240bbec1-db0f-4c9c-a103-de1dd781f3f2,\n Last run submit time: None,\n Last run status: 0,\n Status: Active,\n rest_endpoint: https://eastus.api.azureml.ms/pipelines/v1.0/subscriptions/4faaaf21-663f-4391-96fd-47197c630979/resourceGroups/DesignerTestRG/providers/Microsoft.MachineLearningServices/workspaces/DesignerTest-EUS/PipelineRuns/PipelineEndpointSubmit/Id/3bdc0184-f487-4950-ac7f-59cd31b4c107),\n PipelineEndpoint(Name: test_endpoint_publish_endpoint,\n Description: test_endpoint_publish_endpoint_description,\n Date updated: 2020-08-07 03:18:05.144922+00:00,\n Updated by: Liyuan Wu,\n Last run submit time: None,\n Last run status: 0,\n Status: Active,\n rest_endpoint: https://eastus.api.azureml.ms/pipelines/v1.0/subscriptions/4faaaf21-663f-4391-96fd-47197c630979/resourceGroups/DesignerTestRG/providers/Microsoft.MachineLearningServices/workspaces/DesignerTest-EUS/PipelineRuns/PipelineEndpointSubmit/Id/f1d9b670-b250-4b23-9cfc-3ef09a74d59d),\n PipelineEndpoint(Name: test_endpoint_publish_endpoint_new,\n Description: test_endpoint_publish_endpoint_description,\n Date updated: 2020-08-06 12:30:20.195124+00:00,\n Updated by: Liyuan Wu,\n Last run submit time: None,\n Last run status: 0,\n Status: Active,\n rest_endpoint: https://eastus.api.azureml.ms/pipelines/v1.0/subscriptions/4faaaf21-663f-4391-96fd-47197c630979/resourceGroups/DesignerTestRG/providers/Microsoft.MachineLearningServices/workspaces/DesignerTest-EUS/PipelineRuns/PipelineEndpointSubmit/Id/cdb98be8-b0e3-4968-89f6-90127967b772),\n PipelineEndpoint(Name: A huge pipeline composed with nodes 1 in 2 outs,\n Description: ,\n Date updated: 2020-08-05 10:28:15.943253+00:00,\n Updated by: Nana Shangguan,\n Last run submit time: None,\n Last run status: 0,\n Status: Active,\n rest_endpoint: https://eastus.api.azureml.ms/pipelines/v1.0/subscriptions/4faaaf21-663f-4391-96fd-47197c630979/resourceGroups/DesignerTestRG/providers/Microsoft.MachineLearningServices/workspaces/DesignerTest-EUS/PipelineRuns/PipelineEndpointSubmit/Id/4438ebe4-5cef-4725-b46e-ca52040d5e46),\n PipelineEndpoint(Name: pipeline_export_test,\n Description: None,\n Date updated: 2020-07-29 07:08:10.959293+00:00,\n Updated by: Brynn Yin,\n Last run submit time: None,\n Last run status: 0,\n Status: Active,\n rest_endpoint: https://eastus.api.azureml.ms/pipelines/v1.0/subscriptions/4faaaf21-663f-4391-96fd-47197c630979/resourceGroups/DesignerTestRG/providers/Microsoft.MachineLearningServices/workspaces/DesignerTest-EUS/PipelineRuns/PipelineEndpointSubmit/Id/75ec8201-25e6-490a-9a27-3a91b598e9ba),\n PipelineEndpoint(Name: test,\n Description: None,\n Date updated: 2020-07-28 09:48:07.527230+00:00,\n Updated by: Brynn Yin,\n Last run submit time: None,\n Last run status: 0,\n Status: Active,\n rest_endpoint: https://eastus.api.azureml.ms/pipelines/v1.0/subscriptions/4faaaf21-663f-4391-96fd-47197c630979/resourceGroups/DesignerTestRG/providers/Microsoft.MachineLearningServices/workspaces/DesignerTest-EUS/PipelineRuns/PipelineEndpointSubmit/Id/e4e017ad-73f0-4b82-92aa-546629199923),\n PipelineEndpoint(Name: test-sub-graph,\n Description: None,\n Date updated: 2020-07-27 05:55:20.183021+00:00,\n Updated by: Brynn Yin,\n Last run submit time: None,\n Last run status: 0,\n Status: Active,\n rest_endpoint: https://eastus.api.azureml.ms/pipelines/v1.0/subscriptions/4faaaf21-663f-4391-96fd-47197c630979/resourceGroups/DesignerTestRG/providers/Microsoft.MachineLearningServices/workspaces/DesignerTest-EUS/PipelineRuns/PipelineEndpointSubmit/Id/10a4fdba-ee59-4172-93a0-536c89e8fe21),\n PipelineEndpoint(Name: Pipeline-Created-on-7-6-2020111,\n Description: ,\n Date updated: 2020-07-06 06:59:35.125229+00:00,\n Updated by: Brynn Yin,\n Last run submit time: None,\n Last run status: 0,\n Status: Active,\n rest_endpoint: https://eastus.api.azureml.ms/pipelines/v1.0/subscriptions/4faaaf21-663f-4391-96fd-47197c630979/resourceGroups/DesignerTestRG/providers/Microsoft.MachineLearningServices/workspaces/DesignerTest-EUS/PipelineRuns/PipelineEndpointSubmit/Id/ae68cd4c-5536-4d36-8ba8-2724cc3855d0),\n PipelineEndpoint(Name: Pipeline-Created-on-7-6-2020,\n Description: what's this?,\n Date updated: 2020-07-06 03:07:01.384952+00:00,\n Updated by: Brynn Yin,\n Last run submit time: None,\n Last run status: 0,\n Status: Active,\n rest_endpoint: https://eastus.api.azureml.ms/pipelines/v1.0/subscriptions/4faaaf21-663f-4391-96fd-47197c630979/resourceGroups/DesignerTestRG/providers/Microsoft.MachineLearningServices/workspaces/DesignerTest-EUS/PipelineRuns/PipelineEndpointSubmit/Id/70377305-85df-4e2a-b42f-9c8b1ffa99cc),\n PipelineEndpoint(Name: Sample 3: test2,\n Description: what's this if not set as default,\n Date updated: 2020-07-06 03:02:08.556009+00:00,\n Updated by: Brynn Yin,\n Last run submit time: 2020-07-06 04:10:05.757351+00:00,\n Last run status: 3,\n Status: Active,\n rest_endpoint: https://eastus.api.azureml.ms/pipelines/v1.0/subscriptions/4faaaf21-663f-4391-96fd-47197c630979/resourceGroups/DesignerTestRG/providers/Microsoft.MachineLearningServices/workspaces/DesignerTest-EUS/PipelineRuns/PipelineEndpointSubmit/Id/1475aeb2-6998-4e82-9f04-b48df89dae08),\n PipelineEndpoint(Name: Sample 3: Binary Classification with Feature Selection - Income Prediction,\n Description: what's this?,\n Date updated: 2020-07-06 03:01:40.811043+00:00,\n Updated by: Brynn Yin,\n Last run submit time: None,\n Last run status: 0,\n Status: Active,\n rest_endpoint: https://eastus.api.azureml.ms/pipelines/v1.0/subscriptions/4faaaf21-663f-4391-96fd-47197c630979/resourceGroups/DesignerTestRG/providers/Microsoft.MachineLearningServices/workspaces/DesignerTest-EUS/PipelineRuns/PipelineEndpointSubmit/Id/15622c4b-8a31-46e3-b5d1-561ee41f4416),\n PipelineEndpoint(Name: Sample 1: Regression - Automobile Price Prediction (Basic),\n Description: ,\n Date updated: 2020-07-06 02:54:13.048476+00:00,\n Updated by: Brynn Yin,\n Last run submit time: None,\n Last run status: 0,\n Status: Active,\n rest_endpoint: https://eastus.api.azureml.ms/pipelines/v1.0/subscriptions/4faaaf21-663f-4391-96fd-47197c630979/resourceGroups/DesignerTestRG/providers/Microsoft.MachineLearningServices/workspaces/DesignerTest-EUS/PipelineRuns/PipelineEndpointSubmit/Id/dd35ca5f-d3af-4dd8-b5d4-55347f728efe)]"
     },
     "execution_count": 14,
     "metadata": {},
     "output_type": "execute_result"
    }
   ],
   "source": [
    "pipeline_endpoints_list"
   ]
  },
  {
   "cell_type": "code",
   "execution_count": 15,
   "metadata": {},
   "outputs": [
    {
     "name": "stdout",
     "output_type": "stream",
     "text": [
      "pipeline endpoints name list:\n"
     ]
    },
    {
     "data": {
      "text/plain": "['test_pipeline_endpoint',\n 'test_published_pipeline',\n 'test_publish_to_pipeline',\n 'test_endpoint_publish_endpoint',\n 'test_endpoint_publish_endpoint_new',\n 'A huge pipeline composed with nodes 1 in 2 outs',\n 'pipeline_export_test',\n 'test',\n 'test-sub-graph',\n 'Pipeline-Created-on-7-6-2020111',\n 'Pipeline-Created-on-7-6-2020',\n 'Sample 3: test2',\n 'Sample 3: Binary Classification with Feature Selection - Income Prediction',\n 'Sample 1: Regression - Automobile Price Prediction (Basic)']"
     },
     "execution_count": 15,
     "metadata": {},
     "output_type": "execute_result"
    }
   ],
   "source": [
    "print(\"pipeline endpoints name list:\") \n",
    "[endpoint.name for endpoint in pipeline_endpoints_list]"
   ]
  },
  {
   "cell_type": "markdown",
   "metadata": {},
   "source": [
    "### 5. Enable & Disable"
   ]
  },
  {
   "cell_type": "code",
   "execution_count": 16,
   "metadata": {},
   "outputs": [
    {
     "name": "stdout",
     "output_type": "stream",
     "text": [
      "Active\n"
     ]
    }
   ],
   "source": [
    "pipeline_endpoint.enable()\n",
    "print(pipeline_endpoint.status)"
   ]
  },
  {
   "cell_type": "code",
   "execution_count": 17,
   "metadata": {},
   "outputs": [
    {
     "name": "stdout",
     "output_type": "stream",
     "text": [
      "Disabled\n"
     ]
    }
   ],
   "source": [
    "pipeline_endpoint.disable()\n",
    "print(pipeline_endpoint.status)"
   ]
  },
  {
   "cell_type": "code",
   "execution_count": 18,
   "metadata": {},
   "outputs": [
    {
     "name": "stdout",
     "output_type": "stream",
     "text": [
      "Active\n"
     ]
    }
   ],
   "source": [
    "pipeline_endpoint.enable()\n",
    "print(pipeline_endpoint.status)"
   ]
  },
  {
   "cell_type": "markdown",
   "source": [
    "### 6. Get Published Pipeline by version\n",
    "Get the pipeline of a specified version or the default; throws an exception if the version is not found."
   ],
   "metadata": {
    "collapsed": false
   }
  },
  {
   "cell_type": "code",
   "execution_count": 19,
   "outputs": [],
   "source": [
    "pipeline_version = '0'\n",
    "pipeline_got = pipeline_endpoint.get_pipeline(version=pipeline_version)"
   ],
   "metadata": {
    "collapsed": false,
    "pycharm": {
     "name": "#%%\n"
    }
   }
  },
  {
   "cell_type": "code",
   "execution_count": 20,
   "outputs": [
    {
     "data": {
      "text/plain": "PublishedPipeline(Name: test_pipeline_endpoint,\nDescription: None,\nDate updated: 2020-08-03 04:21:50.112827+00:00,\nPublished by: Brynn Yin,\nLast run submit time: None,\nLast run status: 0,\nStatus: Disabled,\nrest_endpoint: https://eastus.api.azureml.ms/pipelines/v1.0/subscriptions/4faaaf21-663f-4391-96fd-47197c630979/resourceGroups/DesignerTestRG/providers/Microsoft.MachineLearningServices/workspaces/DesignerTest-EUS/PipelineRuns/PipelineSubmit/6296c510-8095-4bcb-a65e-b813757050aa)"
     },
     "execution_count": 20,
     "metadata": {},
     "output_type": "execute_result"
    }
   ],
   "source": [
    "pipeline_got"
   ],
   "metadata": {
    "collapsed": false,
    "pycharm": {
     "name": "#%%\n"
    }
   }
  },
  {
   "cell_type": "code",
   "execution_count": 21,
   "outputs": [
    {
     "name": "stdout",
     "output_type": "stream",
     "text": [
      "pipeline_default.id: 19d79c94-279d-486f-b7f8-5014bd5e2071\n",
      "pipeline_endpoint default version: 19d79c94-279d-486f-b7f8-5014bd5e2071\n"
     ]
    }
   ],
   "source": [
    "# no vwesion is specified, got the default version\n",
    "pipeline_default = pipeline_endpoint.get_pipeline()\n",
    "\n",
    "print('pipeline_default.id:', pipeline_default.id)\n",
    "print('pipeline_endpoint default version:', pipeline_endpoint._default_pipeline_id)"
   ],
   "metadata": {
    "collapsed": false,
    "pycharm": {
     "name": "#%%\n"
    }
   }
  },
  {
   "cell_type": "code",
   "execution_count": 22,
   "outputs": [
    {
     "ename": "ValueError",
     "evalue": "Pipeline version \"not_exist\" not found in PipelineEndpoint \"test_pipeline_endpoint\"",
     "output_type": "error",
     "traceback": [
      "\u001B[1;31m---------------------------------------------------------------------------\u001B[0m",
      "\u001B[1;31mValueError\u001B[0m                                Traceback (most recent call last)",
      "\u001B[1;32m<ipython-input-22-fa3c13b771c7>\u001B[0m in \u001B[0;36m<module>\u001B[1;34m\u001B[0m\n\u001B[0;32m      1\u001B[0m \u001B[1;31m# not exist version\u001B[0m\u001B[1;33m\u001B[0m\u001B[1;33m\u001B[0m\u001B[1;33m\u001B[0m\u001B[0m\n\u001B[0;32m      2\u001B[0m \u001B[0mpipeline_version_not_exist\u001B[0m \u001B[1;33m=\u001B[0m \u001B[1;34m'not_exist'\u001B[0m\u001B[1;33m\u001B[0m\u001B[1;33m\u001B[0m\u001B[0m\n\u001B[1;32m----> 3\u001B[1;33m \u001B[0mpipeline_endpoint\u001B[0m\u001B[1;33m.\u001B[0m\u001B[0mget_pipeline\u001B[0m\u001B[1;33m(\u001B[0m\u001B[0mversion\u001B[0m\u001B[1;33m=\u001B[0m\u001B[0mpipeline_version_not_exist\u001B[0m\u001B[1;33m)\u001B[0m\u001B[1;33m\u001B[0m\u001B[1;33m\u001B[0m\u001B[0m\n\u001B[0m",
      "\u001B[1;32m~\\PycharmProjects\\AzureMlCli\\src\\azureml-pipeline-wrapper\\azureml\\pipeline\\wrapper\\_loggerfactory.py\u001B[0m in \u001B[0;36mwrapper\u001B[1;34m(*args, **kwargs)\u001B[0m\n\u001B[0;32m    130\u001B[0m                                                activity_type, custom_dimensions) as al:\n\u001B[0;32m    131\u001B[0m                 \u001B[1;32mtry\u001B[0m\u001B[1;33m:\u001B[0m\u001B[1;33m\u001B[0m\u001B[1;33m\u001B[0m\u001B[0m\n\u001B[1;32m--> 132\u001B[1;33m                     \u001B[1;32mreturn\u001B[0m \u001B[0mfunc\u001B[0m\u001B[1;33m(\u001B[0m\u001B[1;33m*\u001B[0m\u001B[0margs\u001B[0m\u001B[1;33m,\u001B[0m \u001B[1;33m**\u001B[0m\u001B[0mkwargs\u001B[0m\u001B[1;33m)\u001B[0m\u001B[1;33m\u001B[0m\u001B[1;33m\u001B[0m\u001B[0m\n\u001B[0m\u001B[0;32m    133\u001B[0m                 \u001B[1;32mexcept\u001B[0m \u001B[0mException\u001B[0m \u001B[1;32mas\u001B[0m \u001B[0me\u001B[0m\u001B[1;33m:\u001B[0m\u001B[1;33m\u001B[0m\u001B[1;33m\u001B[0m\u001B[0m\n\u001B[0;32m    134\u001B[0m                     \u001B[0mal\u001B[0m\u001B[1;33m.\u001B[0m\u001B[0mactivity_info\u001B[0m\u001B[1;33m[\u001B[0m\u001B[1;34m'exception_type'\u001B[0m\u001B[1;33m]\u001B[0m \u001B[1;33m=\u001B[0m \u001B[0mtype\u001B[0m\u001B[1;33m(\u001B[0m\u001B[0me\u001B[0m\u001B[1;33m)\u001B[0m\u001B[1;33m.\u001B[0m\u001B[0m__name__\u001B[0m\u001B[1;33m\u001B[0m\u001B[1;33m\u001B[0m\u001B[0m\n",
      "\u001B[1;32m~\\PycharmProjects\\AzureMlCli\\src\\azureml-pipeline-wrapper\\azureml\\pipeline\\wrapper\\_pipeline_endpoint.py\u001B[0m in \u001B[0;36mget_pipeline\u001B[1;34m(self, version)\u001B[0m\n\u001B[0;32m    191\u001B[0m                 \u001B[1;32mreturn\u001B[0m \u001B[0mpipeline\u001B[0m\u001B[1;33m\u001B[0m\u001B[1;33m\u001B[0m\u001B[0m\n\u001B[0;32m    192\u001B[0m \u001B[1;33m\u001B[0m\u001B[0m\n\u001B[1;32m--> 193\u001B[1;33m         \u001B[1;32mraise\u001B[0m \u001B[0mValueError\u001B[0m\u001B[1;33m(\u001B[0m\u001B[1;34m'Pipeline version \"{0}\" not found in PipelineEndpoint \"{1}\"'\u001B[0m\u001B[1;33m.\u001B[0m\u001B[0mformat\u001B[0m\u001B[1;33m(\u001B[0m\u001B[0mversion\u001B[0m\u001B[1;33m,\u001B[0m \u001B[0mself\u001B[0m\u001B[1;33m.\u001B[0m\u001B[0mname\u001B[0m\u001B[1;33m)\u001B[0m\u001B[1;33m)\u001B[0m\u001B[1;33m\u001B[0m\u001B[1;33m\u001B[0m\u001B[0m\n\u001B[0m\u001B[0;32m    194\u001B[0m \u001B[1;33m\u001B[0m\u001B[0m\n\u001B[0;32m    195\u001B[0m     \u001B[1;33m@\u001B[0m\u001B[0mtrack\u001B[0m\u001B[1;33m(\u001B[0m\u001B[0m_get_logger\u001B[0m\u001B[1;33m,\u001B[0m \u001B[0mactivity_type\u001B[0m\u001B[1;33m=\u001B[0m\u001B[0m_PUBLIC_API\u001B[0m\u001B[1;33m,\u001B[0m \u001B[0mactivity_name\u001B[0m\u001B[1;33m=\u001B[0m\u001B[1;34m\"PipelineEndpoint_get_pipelines\"\u001B[0m\u001B[1;33m)\u001B[0m\u001B[1;33m\u001B[0m\u001B[1;33m\u001B[0m\u001B[0m\n",
      "\u001B[1;31mValueError\u001B[0m: Pipeline version \"not_exist\" not found in PipelineEndpoint \"test_pipeline_endpoint\""
     ]
    }
   ],
   "source": [
    "# not exist version\n",
    "pipeline_version_not_exist = 'not_exist'\n",
    "pipeline_endpoint.get_pipeline(version=pipeline_version_not_exist)"
   ],
   "metadata": {
    "collapsed": false,
    "pycharm": {
     "name": "#%%\n"
    }
   }
  },
  {
   "cell_type": "markdown",
   "metadata": {},
   "source": [
    "### 7. Get pipelines\n",
    "Get list of PublishedPipelines in PipelineEndpoint, with format {\"version\": version, \"pipeline\": PublihsedPipeline}\n",
    "active_only: Whether to return only active pipelines."
   ]
  },
  {
   "cell_type": "code",
   "execution_count": 23,
   "metadata": {},
   "outputs": [],
   "source": [
    "pipelines_list = pipeline_endpoint.get_pipelines_list(active_only=True)"
   ]
  },
  {
   "cell_type": "code",
   "execution_count": 28,
   "metadata": {},
   "outputs": [
    {
     "data": {
      "text/plain": "'220'"
     },
     "execution_count": 28,
     "metadata": {},
     "output_type": "execute_result"
    }
   ],
   "source": [
    "pipelines_list[0]['version']"
   ]
  },
  {
   "cell_type": "code",
   "execution_count": 29,
   "metadata": {
    "pycharm": {
     "name": "#%%\n"
    }
   },
   "outputs": [
    {
     "data": {
      "text/plain": "PublishedPipeline(Name: TestPipelineEndpoint-08-07-2020-14-54-published,\nDescription: TestPipelineEndpointdescription for TestPipelineEndpoint-08-07-2020-14-54-published,\nDate updated: 2020-08-07 06:54:46.013822+00:00,\nPublished by: Liyuan Wu,\nLast run submit time: 2020-08-07 06:56:48.519708+00:00,\nLast run status: 1,\nStatus: Active,\nrest_endpoint: None)"
     },
     "execution_count": 29,
     "metadata": {},
     "output_type": "execute_result"
    }
   ],
   "source": [
    "pipelines_list[0]['pipeline']"
   ]
  },
  {
   "cell_type": "code",
   "execution_count": 32,
   "outputs": [],
   "source": [
    "pipelines_list[0]['pipeline'].disable()\n",
    "pipelines_list[1]['pipeline'].disable()"
   ],
   "metadata": {
    "collapsed": false,
    "pycharm": {
     "name": "#%%\n"
    }
   }
  },
  {
   "cell_type": "code",
   "execution_count": null,
   "outputs": [],
   "source": [],
   "metadata": {
    "collapsed": false,
    "pycharm": {
     "name": "#%%\n"
    }
   }
  }
 ],
 "metadata": {
  "kernelspec": {
   "display_name": "aml",
   "language": "python",
   "name": "aml"
  },
  "language_info": {
   "codemirror_mode": {
    "name": "ipython",
    "version": 3
   },
   "file_extension": ".py",
   "mimetype": "text/x-python",
   "name": "python",
   "nbconvert_exporter": "python",
   "pygments_lexer": "ipython3",
   "version": "3.7.6"
  }
 },
 "nbformat": 4,
 "nbformat_minor": 4
}