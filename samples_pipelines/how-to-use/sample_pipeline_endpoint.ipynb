{
 "cells": [
  {
   "cell_type": "markdown",
   "metadata": {},
   "source": [
    "# PipelineEndpoint Demo"
   ]
  },
  {
   "cell_type": "code",
   "execution_count": 1,
   "metadata": {},
   "outputs": [],
   "source": [
    "from azureml.pipeline.wrapper import Module, dsl\n",
    "from workspace_helpers import setup_default_workspace, load_or_register_dataset\n",
    "from azureml.pipeline.wrapper._pipeline_endpoint import PipelineEndpoint"
   ]
  },
  {
   "cell_type": "code",
   "execution_count": 33,
   "metadata": {},
   "outputs": [],
   "source": [
    "workspace = setup_default_workspace()"
   ]
  },
  {
   "cell_type": "code",
   "execution_count": 3,
   "metadata": {},
   "outputs": [],
   "source": [
    "experiment_name = \"TestPipelineEndpoint\"\n",
    "module_func = Module.load(workspace, namespace='azureml', name='Select Columns in Dataset')\n",
    "test_pipeline_endpoint_name = \"test_pipeline_endpoint\"\n",
    "test_pipeline_endpoint_id = \"b27eb28c-da34-4064-9c13-e515fdb2c71b\"\n",
    "\n",
    "blob_input_data = load_or_register_dataset(workspace, name='Automobile_price_data_(Raw)',\n",
    "                                           datastore_name='azureml_globaldatasets',\n",
    "                                           path='GenericCSV/Automobile_price_data_(Raw)')\n",
    "select_columns = \"{\\\"isFilter\\\":true,\\\"rules\\\":[{\\\"exclude\\\":true,\\\"ruleType\\\":\\\"ColumnNames\\\",\\\"columns\\\":\" \\\n",
    "                 \"[\\\"normalized-losses\\\"]}]}\"\n",
    "\n",
    "@dsl.pipeline(name='test-pipeline', default_compute_target='aml-compute')\n",
    "def test_pipeline(_select_columns):\n",
    "    module1 = module_func(\n",
    "        dataset=blob_input_data,\n",
    "        select_columns=_select_columns\n",
    "    )\n",
    "    return module1.outputs"
   ]
  },
  {
   "cell_type": "code",
   "execution_count": 4,
   "metadata": {},
   "outputs": [
    {
     "name": "stdout",
     "output_type": "stream",
     "text": [
      "Submitted PipelineRun 4c584969-a9ac-410a-bb01-dd1c23075163\n",
      "Link to Azure Machine Learning Portal: https://ml.azure.com/experiments/TestPipelineEndpoint/runs/4c584969-a9ac-410a-bb01-dd1c23075163?wsid=/subscriptions/4faaaf21-663f-4391-96fd-47197c630979/resourcegroups/DesignerTestRG/workspaces/DesignerTest-EUS\n"
     ]
    }
   ],
   "source": [
    "pipeline = test_pipeline(_select_columns=select_columns)\n",
    "pipeline_run = pipeline.submit(experiment_name=experiment_name)"
   ]
  },
  {
   "cell_type": "markdown",
   "metadata": {
    "pycharm": {
     "name": "#%% md\n"
    }
   },
   "source": [
    "### 1. Publish\n",
    "Create a PipelineEndpoint with the specified name and pipeline/pipeline_run."
   ]
  },
  {
   "cell_type": "markdown",
   "metadata": {
    "pycharm": {
     "name": "#%% md\n"
    }
   },
   "source": [
    "#### 1.1 publish by pipeline"
   ]
  },
  {
   "cell_type": "code",
   "execution_count": 5,
   "metadata": {
    "pycharm": {
     "name": "#%%\n"
    }
   },
   "outputs": [
    {
     "name": "stdout",
     "output_type": "stream",
     "text": [
      "Using existing pipeline endpoint \"test_pipeline_endpoint\"\n",
      "Pipeline endpoint with name \"test_pipeline_endpoint\" already exist, published pipeline to \"test_pipeline_endpoint\"\n"
     ]
    },
    {
     "data": {
      "text/html": [
       "<table style=\"width:100%\"><tr><th>Name</th><th>Description</th><th>Date updated</th><th>Updated by</th><th>Last run submit time</th><th>Last run status</th><th>Status</th><th>Portal Link</th></tr><tr><td>test_pipeline_endpoint</td><td></td><td>2020-08-11 08:33:13.271820+00:00</td><td>Liyuan Wu</td><td>2020-08-11 08:11:48.819178+00:00</td><td>2</td><td>Active</td><td><a href=\"https://ml.azure.com/endpoint/b27eb28c-da34-4064-9c13-e515fdb2c71b/test_pipeline_endpoint/pipelines?wsid=/subscriptions/4faaaf21-663f-4391-96fd-47197c630979/resourcegroups/DesignerTestRG/workspaces/DesignerTest-EUS\" target=\"_blank\" rel=\"noopener\">Link</a></td></tr></table>"
      ],
      "text/plain": [
       "PipelineEndpoint(Name: test_pipeline_endpoint,\n",
       "Description: None,\n",
       "Date updated: 2020-08-11 08:33:13.271820+00:00,\n",
       "Updated by: Liyuan Wu,\n",
       "Last run submit time: 2020-08-11 08:11:48.819178+00:00,\n",
       "Last run status: 2,\n",
       "Status: Active,\n",
       "Portal Link: https://ml.azure.com/endpoint/b27eb28c-da34-4064-9c13-e515fdb2c71b/test_pipeline_endpoint/pipelines?wsid=/subscriptions/4faaaf21-663f-4391-96fd-47197c630979/resourcegroups/DesignerTestRG/workspaces/DesignerTest-EUS)"
      ]
     },
     "execution_count": 5,
     "metadata": {},
     "output_type": "execute_result"
    }
   ],
   "source": [
    "pipeline_endpoint_published_by_pipeline = PipelineEndpoint.publish(\n",
    "    workspace=workspace,\n",
    "    name=test_pipeline_endpoint_name,\n",
    "    description=\"description_for_test_endpoint_publish\",\n",
    "    pipeline=pipeline)\n",
    "\n",
    "pipeline_endpoint_published_by_pipeline"
   ]
  },
  {
   "cell_type": "markdown",
   "metadata": {
    "pycharm": {
     "name": "#%% md\n"
    }
   },
   "source": [
    "#### 1.2 publish by pipeline_run"
   ]
  },
  {
   "cell_type": "code",
   "execution_count": 6,
   "metadata": {
    "pycharm": {
     "name": "#%%\n"
    }
   },
   "outputs": [
    {
     "name": "stdout",
     "output_type": "stream",
     "text": [
      "Using existing pipeline endpoint \"test_pipeline_endpoint\"\n",
      "Pipeline endpoint with name \"test_pipeline_endpoint\" already exist, published pipeline to \"test_pipeline_endpoint\"\n"
     ]
    },
    {
     "data": {
      "text/html": [
       "<table style=\"width:100%\"><tr><th>Name</th><th>Description</th><th>Date updated</th><th>Updated by</th><th>Last run submit time</th><th>Last run status</th><th>Status</th><th>Portal Link</th></tr><tr><td>test_pipeline_endpoint</td><td></td><td>2020-08-11 08:33:33.722210+00:00</td><td>Liyuan Wu</td><td>2020-08-11 08:11:48.819178+00:00</td><td>2</td><td>Active</td><td><a href=\"https://ml.azure.com/endpoint/b27eb28c-da34-4064-9c13-e515fdb2c71b/test_pipeline_endpoint/pipelines?wsid=/subscriptions/4faaaf21-663f-4391-96fd-47197c630979/resourcegroups/DesignerTestRG/workspaces/DesignerTest-EUS\" target=\"_blank\" rel=\"noopener\">Link</a></td></tr></table>"
      ],
      "text/plain": [
       "PipelineEndpoint(Name: test_pipeline_endpoint,\n",
       "Description: None,\n",
       "Date updated: 2020-08-11 08:33:33.722210+00:00,\n",
       "Updated by: Liyuan Wu,\n",
       "Last run submit time: 2020-08-11 08:11:48.819178+00:00,\n",
       "Last run status: 2,\n",
       "Status: Active,\n",
       "Portal Link: https://ml.azure.com/endpoint/b27eb28c-da34-4064-9c13-e515fdb2c71b/test_pipeline_endpoint/pipelines?wsid=/subscriptions/4faaaf21-663f-4391-96fd-47197c630979/resourcegroups/DesignerTestRG/workspaces/DesignerTest-EUS)"
      ]
     },
     "execution_count": 6,
     "metadata": {},
     "output_type": "execute_result"
    }
   ],
   "source": [
    "# pipeline_run test\n",
    "pipeline_endpoint_published_by_pipeline_run = PipelineEndpoint.publish(\n",
    "    workspace=workspace,\n",
    "    name=test_pipeline_endpoint_name,\n",
    "    description=\"description_for_test_endpoint_publish\",\n",
    "    pipeline=pipeline_run\n",
    ")\n",
    "\n",
    "pipeline_endpoint_published_by_pipeline_run"
   ]
  },
  {
   "cell_type": "markdown",
   "metadata": {
    "pycharm": {
     "name": "#%% md\n"
    }
   },
   "source": [
    "### 2. Get\n",
    "Get the PipelineEndpoint by name or ID"
   ]
  },
  {
   "cell_type": "markdown",
   "metadata": {},
   "source": [
    "#### 2.1 get by id"
   ]
  },
  {
   "cell_type": "code",
   "execution_count": 7,
   "metadata": {},
   "outputs": [
    {
     "data": {
      "text/html": [
       "<table style=\"width:100%\"><tr><th>Name</th><th>Description</th><th>Date updated</th><th>Updated by</th><th>Last run submit time</th><th>Last run status</th><th>Status</th><th>Portal Link</th></tr><tr><td>test_pipeline_endpoint</td><td></td><td>2020-08-11 08:33:33.722210+00:00</td><td>Liyuan Wu</td><td>2020-08-11 08:11:48.819178+00:00</td><td>2</td><td>Active</td><td><a href=\"https://ml.azure.com/endpoint/b27eb28c-da34-4064-9c13-e515fdb2c71b/test_pipeline_endpoint/pipelines?wsid=/subscriptions/4faaaf21-663f-4391-96fd-47197c630979/resourcegroups/DesignerTestRG/workspaces/DesignerTest-EUS\" target=\"_blank\" rel=\"noopener\">Link</a></td></tr></table>"
      ],
      "text/plain": [
       "PipelineEndpoint(Name: test_pipeline_endpoint,\n",
       "Description: None,\n",
       "Date updated: 2020-08-11 08:33:33.722210+00:00,\n",
       "Updated by: Liyuan Wu,\n",
       "Last run submit time: 2020-08-11 08:11:48.819178+00:00,\n",
       "Last run status: 2,\n",
       "Status: Active,\n",
       "Portal Link: https://ml.azure.com/endpoint/b27eb28c-da34-4064-9c13-e515fdb2c71b/test_pipeline_endpoint/pipelines?wsid=/subscriptions/4faaaf21-663f-4391-96fd-47197c630979/resourcegroups/DesignerTestRG/workspaces/DesignerTest-EUS)"
      ]
     },
     "execution_count": 7,
     "metadata": {},
     "output_type": "execute_result"
    }
   ],
   "source": [
    "endpoint_got_by_id = PipelineEndpoint.get(workspace=workspace, id=test_pipeline_endpoint_id)\n",
    "\n",
    "endpoint_got_by_id"
   ]
  },
  {
   "cell_type": "markdown",
   "metadata": {
    "pycharm": {
     "name": "#%% md\n"
    }
   },
   "source": [
    "#### 2.2 get by name"
   ]
  },
  {
   "cell_type": "code",
   "execution_count": 8,
   "metadata": {},
   "outputs": [
    {
     "data": {
      "text/html": [
       "<table style=\"width:100%\"><tr><th>Name</th><th>Description</th><th>Date updated</th><th>Updated by</th><th>Last run submit time</th><th>Last run status</th><th>Status</th><th>Portal Link</th></tr><tr><td>test_pipeline_endpoint</td><td></td><td>2020-08-11 08:33:33.722210+00:00</td><td>Liyuan Wu</td><td>2020-08-11 08:11:48.819178+00:00</td><td>2</td><td>Active</td><td><a href=\"https://ml.azure.com/endpoint/b27eb28c-da34-4064-9c13-e515fdb2c71b/test_pipeline_endpoint/pipelines?wsid=/subscriptions/4faaaf21-663f-4391-96fd-47197c630979/resourcegroups/DesignerTestRG/workspaces/DesignerTest-EUS\" target=\"_blank\" rel=\"noopener\">Link</a></td></tr></table>"
      ],
      "text/plain": [
       "PipelineEndpoint(Name: test_pipeline_endpoint,\n",
       "Description: None,\n",
       "Date updated: 2020-08-11 08:33:33.722210+00:00,\n",
       "Updated by: Liyuan Wu,\n",
       "Last run submit time: 2020-08-11 08:11:48.819178+00:00,\n",
       "Last run status: 2,\n",
       "Status: Active,\n",
       "Portal Link: https://ml.azure.com/endpoint/b27eb28c-da34-4064-9c13-e515fdb2c71b/test_pipeline_endpoint/pipelines?wsid=/subscriptions/4faaaf21-663f-4391-96fd-47197c630979/resourcegroups/DesignerTestRG/workspaces/DesignerTest-EUS)"
      ]
     },
     "execution_count": 8,
     "metadata": {},
     "output_type": "execute_result"
    }
   ],
   "source": [
    "endpoint_got_by_name = PipelineEndpoint.get(workspace=workspace, name=test_pipeline_endpoint_name)\n",
    "\n",
    "endpoint_got_by_name\n"
   ]
  },
  {
   "cell_type": "code",
   "execution_count": 9,
   "metadata": {
    "pycharm": {
     "name": "#%%\n"
    }
   },
   "outputs": [
    {
     "data": {
      "text/plain": [
       "'https://ml.azure.com/endpoint/b27eb28c-da34-4064-9c13-e515fdb2c71b/test_pipeline_endpoint/pipelines?wsid=/subscriptions/4faaaf21-663f-4391-96fd-47197c630979/resourcegroups/DesignerTestRG/workspaces/DesignerTest-EUS'"
      ]
     },
     "execution_count": 9,
     "metadata": {},
     "output_type": "execute_result"
    }
   ],
   "source": [
    "endpoint_got_by_name._get_portal_url()"
   ]
  },
  {
   "cell_type": "markdown",
   "metadata": {
    "pycharm": {
     "name": "#%% md\n"
    }
   },
   "source": [
    "### 3. Submit\n",
    "Submit default version of endpoint."
   ]
  },
  {
   "cell_type": "code",
   "execution_count": 10,
   "metadata": {},
   "outputs": [
    {
     "name": "stdout",
     "output_type": "stream",
     "text": [
      "Submitted PipelineEndpointRun a30e8502-d1e0-48af-8bf7-06ba3317b5f7\n",
      "Link to Azure Machine Learning Portal: https://ml.azure.com/experiments/test_submit_by_pipeline_endpoint/runs/a30e8502-d1e0-48af-8bf7-06ba3317b5f7?wsid=/subscriptions/4faaaf21-663f-4391-96fd-47197c630979/resourcegroups/DesignerTestRG/workspaces/DesignerTest-EUS\n"
     ]
    }
   ],
   "source": [
    "test_submit_experiment_name = \"test_submit_by_pipeline_endpoint\"\n",
    "pipeline_endpoint = PipelineEndpoint.get(workspace=workspace, id=test_pipeline_endpoint_id)\n",
    "\n",
    "paramesters = {'_select_columns': '{\"isFilter\":true,\"rules\":[{\"exclude\":true,\"ruleType\":\"ColumnNames\",\"columns\":[\"normalized-losses\"]}]}'}\n",
    "\n",
    "run_submitted_by_pipeline_endpoint = pipeline_endpoint.submit(experiment_name=test_submit_experiment_name,\n",
    "                                                              parameters=paramesters)"
   ]
  },
  {
   "cell_type": "code",
   "execution_count": 11,
   "metadata": {
    "pycharm": {
     "name": "#%%\n"
    }
   },
   "outputs": [
    {
     "data": {
      "text/plain": [
       "'315469be-6c26-404b-9844-eae0f6757756'"
      ]
     },
     "execution_count": 11,
     "metadata": {},
     "output_type": "execute_result"
    }
   ],
   "source": [
    "run_submitted_by_pipeline_endpoint.tags[\"azureml.pipelineid\"]"
   ]
  },
  {
   "cell_type": "code",
   "execution_count": 12,
   "metadata": {},
   "outputs": [
    {
     "data": {
      "text/plain": [
       "'315469be-6c26-404b-9844-eae0f6757756'"
      ]
     },
     "execution_count": 12,
     "metadata": {},
     "output_type": "execute_result"
    }
   ],
   "source": [
    "pipeline_endpoint._default_pipeline_id"
   ]
  },
  {
   "cell_type": "code",
   "execution_count": 13,
   "metadata": {
    "pycharm": {
     "name": "#%%\n"
    }
   },
   "outputs": [
    {
     "data": {
      "text/html": [
       "<table style=\"width:100%\"><tr><th>Experiment</th><th>Id</th><th>Type</th><th>Status</th><th>Details Page</th><th>Docs Page</th></tr><tr><td>test_submit_by_pipeline_endpoint</td><td>a30e8502-d1e0-48af-8bf7-06ba3317b5f7</td><td>azureml.PipelineRun</td><td>NotStarted</td><td><a href=\"https://ml.azure.com/experiments/test_submit_by_pipeline_endpoint/runs/a30e8502-d1e0-48af-8bf7-06ba3317b5f7?wsid=/subscriptions/4faaaf21-663f-4391-96fd-47197c630979/resourcegroups/DesignerTestRG/workspaces/DesignerTest-EUS\" target=\"_blank\" rel=\"noopener\">Link to Azure Machine Learning studio</a></td><td><a href=\"https://docs.microsoft.com/en-us/python/api/overview/azure/ml/intro?view=azure-ml-py\" target=\"_blank\" rel=\"noopener\">Link to Documentation</a></td></tr></table>"
      ],
      "text/plain": [
       "Run(Experiment: test_submit_by_pipeline_endpoint,\n",
       "Id: a30e8502-d1e0-48af-8bf7-06ba3317b5f7,\n",
       "Type: azureml.PipelineRun,\n",
       "Status: NotStarted)"
      ]
     },
     "execution_count": 13,
     "metadata": {},
     "output_type": "execute_result"
    }
   ],
   "source": [
    "run_submitted_by_pipeline_endpoint"
   ]
  },
  {
   "cell_type": "markdown",
   "metadata": {
    "pycharm": {
     "name": "#%% md\n"
    }
   },
   "source": [
    "### 4. List\n",
    "List active PipelineEndpoints in the current workspace."
   ]
  },
  {
   "cell_type": "code",
   "execution_count": 14,
   "metadata": {
    "pycharm": {
     "name": "#%%\n"
    }
   },
   "outputs": [],
   "source": [
    "pipeline_endpoints_list = PipelineEndpoint.list(workspace=workspace, active_only=True)"
   ]
  },
  {
   "cell_type": "code",
   "execution_count": 15,
   "metadata": {
    "collapsed": true
   },
   "outputs": [
    {
     "data": {
      "text/plain": [
       "[PipelineEndpoint(Name: test_pipeline_endpoint,\n",
       " Description: None,\n",
       " Date updated: 2020-08-11 08:33:33.722210+00:00,\n",
       " Updated by: Liyuan Wu,\n",
       " Last run submit time: 2020-08-11 08:34:09.957403+00:00,\n",
       " Last run status: 1,\n",
       " Status: Active,\n",
       " Portal Link: https://ml.azure.com/endpoint/b27eb28c-da34-4064-9c13-e515fdb2c71b/test_pipeline_endpoint/pipelines?wsid=/subscriptions/4faaaf21-663f-4391-96fd-47197c630979/resourcegroups/DesignerTestRG/workspaces/DesignerTest-EUS),\n",
       " PipelineEndpoint(Name: test_published_pipeline,\n",
       " Description: None,\n",
       " Date updated: 2020-08-11 08:34:12.886690+00:00,\n",
       " Updated by: 240bbec1-db0f-4c9c-a103-de1dd781f3f2,\n",
       " Last run submit time: 2020-08-11 08:30:53.251555+00:00,\n",
       " Last run status: 3,\n",
       " Status: Active,\n",
       " Portal Link: https://ml.azure.com/endpoint/4ba503fa-ee2c-4200-a28e-4a96134b4dba/test_published_pipeline/pipelines?wsid=/subscriptions/4faaaf21-663f-4391-96fd-47197c630979/resourcegroups/DesignerTestRG/workspaces/DesignerTest-EUS),\n",
       " PipelineEndpoint(Name: test_publish_to_pipeline,\n",
       " Description: None,\n",
       " Date updated: 2020-08-11 08:06:38.462440+00:00,\n",
       " Updated by: 240bbec1-db0f-4c9c-a103-de1dd781f3f2,\n",
       " Last run submit time: None,\n",
       " Last run status: 0,\n",
       " Status: Active,\n",
       " Portal Link: https://ml.azure.com/endpoint/3bdc0184-f487-4950-ac7f-59cd31b4c107/test_publish_to_pipeline/pipelines?wsid=/subscriptions/4faaaf21-663f-4391-96fd-47197c630979/resourcegroups/DesignerTestRG/workspaces/DesignerTest-EUS),\n",
       " PipelineEndpoint(Name: test_endpoint_publish_endpoint,\n",
       " Description: test_endpoint_publish_endpoint_description,\n",
       " Date updated: 2020-08-11 05:45:50.365663+00:00,\n",
       " Updated by: Liyuan Wu,\n",
       " Last run submit time: 2020-08-10 09:26:58.734852+00:00,\n",
       " Last run status: 3,\n",
       " Status: Active,\n",
       " Portal Link: https://ml.azure.com/endpoint/f1d9b670-b250-4b23-9cfc-3ef09a74d59d/test_endpoint_publish_endpoint/pipelines?wsid=/subscriptions/4faaaf21-663f-4391-96fd-47197c630979/resourcegroups/DesignerTestRG/workspaces/DesignerTest-EUS),\n",
       " PipelineEndpoint(Name: test_endpoint_publish_endpoint_new,\n",
       " Description: test_endpoint_publish_endpoint_description,\n",
       " Date updated: 2020-08-06 12:30:20.195124+00:00,\n",
       " Updated by: Liyuan Wu,\n",
       " Last run submit time: None,\n",
       " Last run status: 0,\n",
       " Status: Active,\n",
       " Portal Link: https://ml.azure.com/endpoint/cdb98be8-b0e3-4968-89f6-90127967b772/test_endpoint_publish_endpoint_new/pipelines?wsid=/subscriptions/4faaaf21-663f-4391-96fd-47197c630979/resourcegroups/DesignerTestRG/workspaces/DesignerTest-EUS),\n",
       " PipelineEndpoint(Name: A huge pipeline composed with nodes 1 in 2 outs,\n",
       " Description: ,\n",
       " Date updated: 2020-08-05 10:28:15.943253+00:00,\n",
       " Updated by: Nana Shangguan,\n",
       " Last run submit time: None,\n",
       " Last run status: 0,\n",
       " Status: Active,\n",
       " Portal Link: https://ml.azure.com/endpoint/4438ebe4-5cef-4725-b46e-ca52040d5e46/A huge pipeline composed with nodes 1 in 2 outs/pipelines?wsid=/subscriptions/4faaaf21-663f-4391-96fd-47197c630979/resourcegroups/DesignerTestRG/workspaces/DesignerTest-EUS),\n",
       " PipelineEndpoint(Name: pipeline_export_test,\n",
       " Description: None,\n",
       " Date updated: 2020-07-29 07:08:10.959293+00:00,\n",
       " Updated by: Brynn Yin,\n",
       " Last run submit time: None,\n",
       " Last run status: 0,\n",
       " Status: Active,\n",
       " Portal Link: https://ml.azure.com/endpoint/75ec8201-25e6-490a-9a27-3a91b598e9ba/pipeline_export_test/pipelines?wsid=/subscriptions/4faaaf21-663f-4391-96fd-47197c630979/resourcegroups/DesignerTestRG/workspaces/DesignerTest-EUS),\n",
       " PipelineEndpoint(Name: test,\n",
       " Description: None,\n",
       " Date updated: 2020-07-28 09:48:07.527230+00:00,\n",
       " Updated by: Brynn Yin,\n",
       " Last run submit time: None,\n",
       " Last run status: 0,\n",
       " Status: Active,\n",
       " Portal Link: https://ml.azure.com/endpoint/e4e017ad-73f0-4b82-92aa-546629199923/test/pipelines?wsid=/subscriptions/4faaaf21-663f-4391-96fd-47197c630979/resourcegroups/DesignerTestRG/workspaces/DesignerTest-EUS),\n",
       " PipelineEndpoint(Name: test-sub-graph,\n",
       " Description: None,\n",
       " Date updated: 2020-07-27 05:55:20.183021+00:00,\n",
       " Updated by: Brynn Yin,\n",
       " Last run submit time: None,\n",
       " Last run status: 0,\n",
       " Status: Active,\n",
       " Portal Link: https://ml.azure.com/endpoint/10a4fdba-ee59-4172-93a0-536c89e8fe21/test-sub-graph/pipelines?wsid=/subscriptions/4faaaf21-663f-4391-96fd-47197c630979/resourcegroups/DesignerTestRG/workspaces/DesignerTest-EUS),\n",
       " PipelineEndpoint(Name: Pipeline-Created-on-7-6-2020111,\n",
       " Description: ,\n",
       " Date updated: 2020-07-06 06:59:35.125229+00:00,\n",
       " Updated by: Brynn Yin,\n",
       " Last run submit time: None,\n",
       " Last run status: 0,\n",
       " Status: Active,\n",
       " Portal Link: https://ml.azure.com/endpoint/ae68cd4c-5536-4d36-8ba8-2724cc3855d0/Pipeline-Created-on-7-6-2020111/pipelines?wsid=/subscriptions/4faaaf21-663f-4391-96fd-47197c630979/resourcegroups/DesignerTestRG/workspaces/DesignerTest-EUS),\n",
       " PipelineEndpoint(Name: Pipeline-Created-on-7-6-2020,\n",
       " Description: what's this?,\n",
       " Date updated: 2020-07-06 03:07:01.384952+00:00,\n",
       " Updated by: Brynn Yin,\n",
       " Last run submit time: None,\n",
       " Last run status: 0,\n",
       " Status: Active,\n",
       " Portal Link: https://ml.azure.com/endpoint/70377305-85df-4e2a-b42f-9c8b1ffa99cc/Pipeline-Created-on-7-6-2020/pipelines?wsid=/subscriptions/4faaaf21-663f-4391-96fd-47197c630979/resourcegroups/DesignerTestRG/workspaces/DesignerTest-EUS),\n",
       " PipelineEndpoint(Name: Sample 3: test2,\n",
       " Description: what's this if not set as default,\n",
       " Date updated: 2020-07-06 03:02:08.556009+00:00,\n",
       " Updated by: Brynn Yin,\n",
       " Last run submit time: 2020-07-06 04:10:05.757351+00:00,\n",
       " Last run status: 3,\n",
       " Status: Active,\n",
       " Portal Link: https://ml.azure.com/endpoint/1475aeb2-6998-4e82-9f04-b48df89dae08/Sample 3: test2/pipelines?wsid=/subscriptions/4faaaf21-663f-4391-96fd-47197c630979/resourcegroups/DesignerTestRG/workspaces/DesignerTest-EUS),\n",
       " PipelineEndpoint(Name: Sample 3: Binary Classification with Feature Selection - Income Prediction,\n",
       " Description: what's this?,\n",
       " Date updated: 2020-07-06 03:01:40.811043+00:00,\n",
       " Updated by: Brynn Yin,\n",
       " Last run submit time: None,\n",
       " Last run status: 0,\n",
       " Status: Active,\n",
       " Portal Link: https://ml.azure.com/endpoint/15622c4b-8a31-46e3-b5d1-561ee41f4416/Sample 3: Binary Classification with Feature Selection - Income Prediction/pipelines?wsid=/subscriptions/4faaaf21-663f-4391-96fd-47197c630979/resourcegroups/DesignerTestRG/workspaces/DesignerTest-EUS),\n",
       " PipelineEndpoint(Name: Sample 1: Regression - Automobile Price Prediction (Basic),\n",
       " Description: ,\n",
       " Date updated: 2020-07-06 02:54:13.048476+00:00,\n",
       " Updated by: Brynn Yin,\n",
       " Last run submit time: None,\n",
       " Last run status: 0,\n",
       " Status: Active,\n",
       " Portal Link: https://ml.azure.com/endpoint/dd35ca5f-d3af-4dd8-b5d4-55347f728efe/Sample 1: Regression - Automobile Price Prediction (Basic)/pipelines?wsid=/subscriptions/4faaaf21-663f-4391-96fd-47197c630979/resourcegroups/DesignerTestRG/workspaces/DesignerTest-EUS)]"
      ]
     },
     "execution_count": 15,
     "metadata": {},
     "output_type": "execute_result"
    }
   ],
   "source": [
    "pipeline_endpoints_list"
   ]
  },
  {
   "cell_type": "code",
   "execution_count": 16,
   "metadata": {},
   "outputs": [
    {
     "name": "stdout",
     "output_type": "stream",
     "text": [
      "pipeline endpoints name list:\n"
     ]
    },
    {
     "data": {
      "text/plain": [
       "['test_pipeline_endpoint',\n",
       " 'test_published_pipeline',\n",
       " 'test_publish_to_pipeline',\n",
       " 'test_endpoint_publish_endpoint',\n",
       " 'test_endpoint_publish_endpoint_new',\n",
       " 'A huge pipeline composed with nodes 1 in 2 outs',\n",
       " 'pipeline_export_test',\n",
       " 'test',\n",
       " 'test-sub-graph',\n",
       " 'Pipeline-Created-on-7-6-2020111',\n",
       " 'Pipeline-Created-on-7-6-2020',\n",
       " 'Sample 3: test2',\n",
       " 'Sample 3: Binary Classification with Feature Selection - Income Prediction',\n",
       " 'Sample 1: Regression - Automobile Price Prediction (Basic)']"
      ]
     },
     "execution_count": 16,
     "metadata": {},
     "output_type": "execute_result"
    }
   ],
   "source": [
    "print(\"pipeline endpoints name list:\")\n",
    "[endpoint.name for endpoint in pipeline_endpoints_list]"
   ]
  },
  {
   "cell_type": "markdown",
   "metadata": {
    "pycharm": {
     "name": "#%% md\n"
    }
   },
   "source": [
    "### 5. Enable & Disable"
   ]
  },
  {
   "cell_type": "code",
   "execution_count": 17,
   "metadata": {
    "pycharm": {
     "name": "#%%\n"
    }
   },
   "outputs": [
    {
     "name": "stdout",
     "output_type": "stream",
     "text": [
      "Active\n"
     ]
    }
   ],
   "source": [
    "pipeline_endpoint.enable()\n",
    "print(pipeline_endpoint.status)"
   ]
  },
  {
   "cell_type": "code",
   "execution_count": 18,
   "metadata": {
    "pycharm": {
     "name": "#%%\n"
    }
   },
   "outputs": [
    {
     "name": "stdout",
     "output_type": "stream",
     "text": [
      "Disabled\n"
     ]
    }
   ],
   "source": [
    "pipeline_endpoint.disable()\n",
    "print(pipeline_endpoint.status)"
   ]
  },
  {
   "cell_type": "code",
   "execution_count": 19,
   "metadata": {
    "pycharm": {
     "name": "#%%\n"
    }
   },
   "outputs": [
    {
     "name": "stdout",
     "output_type": "stream",
     "text": [
      "Active\n"
     ]
    }
   ],
   "source": [
    "pipeline_endpoint.enable()\n",
    "print(pipeline_endpoint.status)"
   ]
  },
  {
   "cell_type": "markdown",
   "metadata": {},
   "source": [
    "### 6. Get Pipeline\n",
    "Get the pipeline of a specified version or the default; throws an exception if the version is not found."
   ]
  },
  {
   "cell_type": "code",
   "execution_count": 20,
   "metadata": {
    "pycharm": {
     "name": "#%%\n"
    }
   },
   "outputs": [],
   "source": [
    "pipeline_version = '0'\n",
    "pipeline_got = pipeline_endpoint.get_pipeline(version=pipeline_version)"
   ]
  },
  {
   "cell_type": "code",
   "execution_count": 21,
   "metadata": {
    "pycharm": {
     "name": "#%%\n"
    }
   },
   "outputs": [
    {
     "data": {
      "text/html": [
       "<table style=\"width:100%\"><tr><th>Name</th><th>Description</th><th>Date updated</th><th>Published by</th><th>Last run submit time</th><th>Last run status</th><th>Status</th><th>Portal Link</th></tr><tr><td>test_pipeline_endpoint</td><td></td><td>2020-08-03 04:21:50.112827+00:00</td><td>Brynn Yin</td><td></td><td>0</td><td>Disabled</td><td><a href=\"https://ml.azure.com/pipeline/published/6296c510-8095-4bcb-a65e-b813757050aa/detail?wsid=/subscriptions/4faaaf21-663f-4391-96fd-47197c630979/resourcegroups/DesignerTestRG/workspaces/DesignerTest-EUS\" target=\"_blank\" rel=\"noopener\">Link</a></td></tr></table>"
      ],
      "text/plain": [
       "PublishedPipeline(Name: test_pipeline_endpoint,\n",
       "Description: None,\n",
       "Date updated: 2020-08-03 04:21:50.112827+00:00,\n",
       "Published by: Brynn Yin,\n",
       "Last run submit time: None,\n",
       "Last run status: 0,\n",
       "Status: Disabled,\n",
       "Portal Link: https://ml.azure.com/pipeline/published/6296c510-8095-4bcb-a65e-b813757050aa/detail?wsid=/subscriptions/4faaaf21-663f-4391-96fd-47197c630979/resourcegroups/DesignerTestRG/workspaces/DesignerTest-EUS)"
      ]
     },
     "execution_count": 21,
     "metadata": {},
     "output_type": "execute_result"
    }
   ],
   "source": [
    "pipeline_got"
   ]
  },
  {
   "cell_type": "code",
   "execution_count": 22,
   "metadata": {
    "pycharm": {
     "name": "#%%\n"
    }
   },
   "outputs": [
    {
     "name": "stdout",
     "output_type": "stream",
     "text": [
      "pipeline_default.id: 315469be-6c26-404b-9844-eae0f6757756\n",
      "pipeline_endpoint default version: 315469be-6c26-404b-9844-eae0f6757756\n"
     ]
    }
   ],
   "source": [
    "# no version is specified, got the default version\n",
    "pipeline_default = pipeline_endpoint.get_pipeline()\n",
    "\n",
    "print('pipeline_default.id:', pipeline_default.id)\n",
    "print('pipeline_endpoint default version:', pipeline_endpoint._default_pipeline_id)"
   ]
  },
  {
   "cell_type": "markdown",
   "metadata": {},
   "source": [
    "### 7. Get pipelines\n",
    "Get list of PublishedPipelines in PipelineEndpoint, with format {\"version\": version, \"pipeline\": PublihsedPipeline}\n",
    "\n",
    "active_only: Whether to return only active pipelines."
   ]
  },
  {
   "cell_type": "code",
   "execution_count": 23,
   "metadata": {
    "pycharm": {
     "name": "#%%\n"
    }
   },
   "outputs": [],
   "source": [
    "pipelines_list = pipeline_endpoint.get_pipelines(active_only=True)"
   ]
  },
  {
   "cell_type": "code",
   "execution_count": 24,
   "metadata": {
    "collapsed": true,
    "pycharm": {
     "name": "#%%\n"
    }
   },
   "outputs": [
    {
     "data": {
      "text/plain": [
       "{'278': PublishedPipeline(Name: TestPipelineEndpoint-08-11-2020-16-33-published,\n",
       " Description: TestPipelineEndpointdescription for TestPipelineEndpoint-08-11-2020-16-33-published,\n",
       " Date updated: 2020-08-11 08:33:33.722989+00:00,\n",
       " Published by: Liyuan Wu,\n",
       " Last run submit time: 2020-08-11 08:34:09.957403+00:00,\n",
       " Last run status: 2,\n",
       " Status: Active,\n",
       " Portal Link: https://ml.azure.com/pipeline/published/315469be-6c26-404b-9844-eae0f6757756/detail?wsid=/subscriptions/4faaaf21-663f-4391-96fd-47197c630979/resourcegroups/DesignerTestRG/workspaces/DesignerTest-EUS),\n",
       " '277': PublishedPipeline(Name: test-pipeline-08-11-2020-16-33-published,\n",
       " Description: description for test-pipeline-08-11-2020-16-33-published,\n",
       " Date updated: 2020-08-11 08:33:13.258049+00:00,\n",
       " Published by: Liyuan Wu,\n",
       " Last run submit time: None,\n",
       " Last run status: 0,\n",
       " Status: Active,\n",
       " Portal Link: https://ml.azure.com/pipeline/published/53d58e0e-bf94-41ff-97fd-40514115cbe4/detail?wsid=/subscriptions/4faaaf21-663f-4391-96fd-47197c630979/resourcegroups/DesignerTestRG/workspaces/DesignerTest-EUS),\n",
       " '276': PublishedPipeline(Name: TestPipelineEndpoint-08-11-2020-16-06-published,\n",
       " Description: TestPipelineEndpointdescription for TestPipelineEndpoint-08-11-2020-16-06-published,\n",
       " Date updated: 2020-08-11 08:07:36.249726+00:00,\n",
       " Published by: Liyuan Wu,\n",
       " Last run submit time: 2020-08-11 08:11:48.819178+00:00,\n",
       " Last run status: 2,\n",
       " Status: Active,\n",
       " Portal Link: https://ml.azure.com/pipeline/published/8fd8b172-28af-4f74-8f52-d98e6919ba51/detail?wsid=/subscriptions/4faaaf21-663f-4391-96fd-47197c630979/resourcegroups/DesignerTestRG/workspaces/DesignerTest-EUS),\n",
       " '275': PublishedPipeline(Name: test-pipeline-08-11-2020-16-06-published,\n",
       " Description: description for test-pipeline-08-11-2020-16-06-published,\n",
       " Date updated: 2020-08-11 08:06:51.076554+00:00,\n",
       " Published by: Liyuan Wu,\n",
       " Last run submit time: None,\n",
       " Last run status: 0,\n",
       " Status: Active,\n",
       " Portal Link: https://ml.azure.com/pipeline/published/f5deed47-9838-4ad7-a6fb-eeb79c02db63/detail?wsid=/subscriptions/4faaaf21-663f-4391-96fd-47197c630979/resourcegroups/DesignerTestRG/workspaces/DesignerTest-EUS),\n",
       " '267': PublishedPipeline(Name: test_pipeline_endpoint,\n",
       " Description: None,\n",
       " Date updated: 2020-08-11 06:41:19.727184+00:00,\n",
       " Published by: Liyuan Wu,\n",
       " Last run submit time: None,\n",
       " Last run status: 0,\n",
       " Status: Active,\n",
       " Portal Link: https://ml.azure.com/pipeline/published/86fc3bbd-aaa5-45a7-8942-c98d016184b1/detail?wsid=/subscriptions/4faaaf21-663f-4391-96fd-47197c630979/resourcegroups/DesignerTestRG/workspaces/DesignerTest-EUS),\n",
       " '266': PublishedPipeline(Name: test_pipeline_endpoint,\n",
       " Description: None,\n",
       " Date updated: 2020-08-11 06:38:10.856714+00:00,\n",
       " Published by: Liyuan Wu,\n",
       " Last run submit time: None,\n",
       " Last run status: 0,\n",
       " Status: Active,\n",
       " Portal Link: https://ml.azure.com/pipeline/published/ef68ba65-2576-42dd-8b67-255743453907/detail?wsid=/subscriptions/4faaaf21-663f-4391-96fd-47197c630979/resourcegroups/DesignerTestRG/workspaces/DesignerTest-EUS),\n",
       " '255': PublishedPipeline(Name: TestPipelineEndpoint-08-11-2020-11-31-published,\n",
       " Description: TestPipelineEndpointdescription for TestPipelineEndpoint-08-11-2020-11-31-published,\n",
       " Date updated: 2020-08-11 03:31:57.792781+00:00,\n",
       " Published by: Liyuan Wu,\n",
       " Last run submit time: 2020-08-11 03:33:48.779620+00:00,\n",
       " Last run status: 2,\n",
       " Status: Active,\n",
       " Portal Link: https://ml.azure.com/pipeline/published/2643897d-c65f-4a87-a1a9-53e8e141c174/detail?wsid=/subscriptions/4faaaf21-663f-4391-96fd-47197c630979/resourcegroups/DesignerTestRG/workspaces/DesignerTest-EUS),\n",
       " '254': PublishedPipeline(Name: test-pipeline-08-11-2020-11-31-published,\n",
       " Description: description for test-pipeline-08-11-2020-11-31-published,\n",
       " Date updated: 2020-08-11 03:31:36.453792+00:00,\n",
       " Published by: Liyuan Wu,\n",
       " Last run submit time: None,\n",
       " Last run status: 0,\n",
       " Status: Active,\n",
       " Portal Link: https://ml.azure.com/pipeline/published/a05c7086-90d9-476d-bc93-95e8159fbab8/detail?wsid=/subscriptions/4faaaf21-663f-4391-96fd-47197c630979/resourcegroups/DesignerTestRG/workspaces/DesignerTest-EUS),\n",
       " '250': PublishedPipeline(Name: TestPipelineEndpoint-08-10-2020-16-23-published,\n",
       " Description: TestPipelineEndpointdescription for TestPipelineEndpoint-08-10-2020-16-23-published,\n",
       " Date updated: 2020-08-10 08:23:23.740435+00:00,\n",
       " Published by: Liyuan Wu,\n",
       " Last run submit time: 2020-08-10 13:36:24.437132+00:00,\n",
       " Last run status: 2,\n",
       " Status: Active,\n",
       " Portal Link: https://ml.azure.com/pipeline/published/1502e6b1-a99c-418b-9e3c-52cd531aa7c8/detail?wsid=/subscriptions/4faaaf21-663f-4391-96fd-47197c630979/resourcegroups/DesignerTestRG/workspaces/DesignerTest-EUS),\n",
       " '249': PublishedPipeline(Name: test-pipeline-08-10-2020-16-22-published,\n",
       " Description: description for test-pipeline-08-10-2020-16-22-published,\n",
       " Date updated: 2020-08-10 08:23:05.332110+00:00,\n",
       " Published by: Liyuan Wu,\n",
       " Last run submit time: None,\n",
       " Last run status: 0,\n",
       " Status: Active,\n",
       " Portal Link: https://ml.azure.com/pipeline/published/7a27ebee-fa4c-4376-b950-a3411e033aa4/detail?wsid=/subscriptions/4faaaf21-663f-4391-96fd-47197c630979/resourcegroups/DesignerTestRG/workspaces/DesignerTest-EUS),\n",
       " '246': PublishedPipeline(Name: TestPipelineEndpoint-08-10-2020-15-40-published,\n",
       " Description: TestPipelineEndpointdescription for TestPipelineEndpoint-08-10-2020-15-40-published,\n",
       " Date updated: 2020-08-10 07:41:00.397025+00:00,\n",
       " Published by: Liyuan Wu,\n",
       " Last run submit time: 2020-08-10 07:42:43.316439+00:00,\n",
       " Last run status: 2,\n",
       " Status: Active,\n",
       " Portal Link: https://ml.azure.com/pipeline/published/abaf734c-b9ec-4f4e-9d7f-865a8bfa65cc/detail?wsid=/subscriptions/4faaaf21-663f-4391-96fd-47197c630979/resourcegroups/DesignerTestRG/workspaces/DesignerTest-EUS),\n",
       " '245': PublishedPipeline(Name: test-pipeline-08-10-2020-15-40-published,\n",
       " Description: description for test-pipeline-08-10-2020-15-40-published,\n",
       " Date updated: 2020-08-10 07:40:41.130383+00:00,\n",
       " Published by: Liyuan Wu,\n",
       " Last run submit time: None,\n",
       " Last run status: 0,\n",
       " Status: Active,\n",
       " Portal Link: https://ml.azure.com/pipeline/published/0bdf1f41-62a2-450f-8ce3-aac0a353f7cd/detail?wsid=/subscriptions/4faaaf21-663f-4391-96fd-47197c630979/resourcegroups/DesignerTestRG/workspaces/DesignerTest-EUS),\n",
       " '244': PublishedPipeline(Name: TestPipelineEndpoint-08-10-2020-15-33-published,\n",
       " Description: TestPipelineEndpointdescription for TestPipelineEndpoint-08-10-2020-15-33-published,\n",
       " Date updated: 2020-08-10 07:33:42.418805+00:00,\n",
       " Published by: Liyuan Wu,\n",
       " Last run submit time: 2020-08-10 07:34:39.092669+00:00,\n",
       " Last run status: 2,\n",
       " Status: Active,\n",
       " Portal Link: https://ml.azure.com/pipeline/published/2e62bcd1-de9c-4277-900a-6c04489082ef/detail?wsid=/subscriptions/4faaaf21-663f-4391-96fd-47197c630979/resourcegroups/DesignerTestRG/workspaces/DesignerTest-EUS),\n",
       " '243': PublishedPipeline(Name: test-pipeline-08-10-2020-15-33-published,\n",
       " Description: description for test-pipeline-08-10-2020-15-33-published,\n",
       " Date updated: 2020-08-10 07:33:24.221553+00:00,\n",
       " Published by: Liyuan Wu,\n",
       " Last run submit time: None,\n",
       " Last run status: 0,\n",
       " Status: Active,\n",
       " Portal Link: https://ml.azure.com/pipeline/published/a834f7c0-c849-4b82-9419-c2a077b22614/detail?wsid=/subscriptions/4faaaf21-663f-4391-96fd-47197c630979/resourcegroups/DesignerTestRG/workspaces/DesignerTest-EUS),\n",
       " '218': PublishedPipeline(Name: TestPipelineEndpoint-08-07-2020-14-36-published,\n",
       " Description: TestPipelineEndpointdescription for TestPipelineEndpoint-08-07-2020-14-36-published,\n",
       " Date updated: 2020-08-07 06:36:43.704084+00:00,\n",
       " Published by: Liyuan Wu,\n",
       " Last run submit time: 2020-08-07 06:40:52.606778+00:00,\n",
       " Last run status: 2,\n",
       " Status: Active,\n",
       " Portal Link: https://ml.azure.com/pipeline/published/d6c5c3f6-9f49-47ab-abbe-7c82aab5d41f/detail?wsid=/subscriptions/4faaaf21-663f-4391-96fd-47197c630979/resourcegroups/DesignerTestRG/workspaces/DesignerTest-EUS),\n",
       " '217': PublishedPipeline(Name: test-pipeline-08-07-2020-14-36-published,\n",
       " Description: description for test-pipeline-08-07-2020-14-36-published,\n",
       " Date updated: 2020-08-07 06:36:23.514171+00:00,\n",
       " Published by: Liyuan Wu,\n",
       " Last run submit time: None,\n",
       " Last run status: 0,\n",
       " Status: Active,\n",
       " Portal Link: https://ml.azure.com/pipeline/published/d5cd8a91-5ea6-491e-94c6-575ca85447ed/detail?wsid=/subscriptions/4faaaf21-663f-4391-96fd-47197c630979/resourcegroups/DesignerTestRG/workspaces/DesignerTest-EUS),\n",
       " '216': PublishedPipeline(Name: test_pipeline_endpoint,\n",
       " Description: None,\n",
       " Date updated: 2020-08-07 06:24:31.498744+00:00,\n",
       " Published by: Liyuan Wu,\n",
       " Last run submit time: None,\n",
       " Last run status: 0,\n",
       " Status: Active,\n",
       " Portal Link: https://ml.azure.com/pipeline/published/4a598d85-3d5f-4b38-9262-463853d0602c/detail?wsid=/subscriptions/4faaaf21-663f-4391-96fd-47197c630979/resourcegroups/DesignerTestRG/workspaces/DesignerTest-EUS),\n",
       " '215': PublishedPipeline(Name: test-pipeline-08-07-2020-14-23-published,\n",
       " Description: description for test-pipeline-08-07-2020-14-23-published,\n",
       " Date updated: 2020-08-07 06:23:30.024499+00:00,\n",
       " Published by: Liyuan Wu,\n",
       " Last run submit time: None,\n",
       " Last run status: 0,\n",
       " Status: Active,\n",
       " Portal Link: https://ml.azure.com/pipeline/published/3efdf30a-cd1f-4ae9-8f8c-4419a2193917/detail?wsid=/subscriptions/4faaaf21-663f-4391-96fd-47197c630979/resourcegroups/DesignerTestRG/workspaces/DesignerTest-EUS),\n",
       " '214': PublishedPipeline(Name: test_pipeline_endpoint,\n",
       " Description: None,\n",
       " Date updated: 2020-08-07 06:05:33.885536+00:00,\n",
       " Published by: Liyuan Wu,\n",
       " Last run submit time: None,\n",
       " Last run status: 0,\n",
       " Status: Active,\n",
       " Portal Link: https://ml.azure.com/pipeline/published/55c382f5-8cb0-4100-bae8-d08e39ebc3f9/detail?wsid=/subscriptions/4faaaf21-663f-4391-96fd-47197c630979/resourcegroups/DesignerTestRG/workspaces/DesignerTest-EUS),\n",
       " '213': PublishedPipeline(Name: test_pipeline_endpoint,\n",
       " Description: None,\n",
       " Date updated: 2020-08-07 04:04:42.046560+00:00,\n",
       " Published by: Liyuan Wu,\n",
       " Last run submit time: None,\n",
       " Last run status: 0,\n",
       " Status: Active,\n",
       " Portal Link: https://ml.azure.com/pipeline/published/b3a595f9-38c0-45c5-a07d-f6367a4c7900/detail?wsid=/subscriptions/4faaaf21-663f-4391-96fd-47197c630979/resourcegroups/DesignerTestRG/workspaces/DesignerTest-EUS),\n",
       " '203': PublishedPipeline(Name: test_pipeline_endpoint,\n",
       " Description: None,\n",
       " Date updated: 2020-08-06 12:26:43.731596+00:00,\n",
       " Published by: Liyuan Wu,\n",
       " Last run submit time: None,\n",
       " Last run status: 0,\n",
       " Status: Active,\n",
       " Portal Link: https://ml.azure.com/pipeline/published/1cbd5c6e-132a-4540-9ec5-85b925f73102/detail?wsid=/subscriptions/4faaaf21-663f-4391-96fd-47197c630979/resourcegroups/DesignerTestRG/workspaces/DesignerTest-EUS),\n",
       " '193': PublishedPipeline(Name: test_pipeline_endpoint,\n",
       " Description: None,\n",
       " Date updated: 2020-08-06 11:50:45.103798+00:00,\n",
       " Published by: Liyuan Wu,\n",
       " Last run submit time: None,\n",
       " Last run status: 0,\n",
       " Status: Active,\n",
       " Portal Link: https://ml.azure.com/pipeline/published/f94dfe04-6652-4ea3-9b38-0f8077710732/detail?wsid=/subscriptions/4faaaf21-663f-4391-96fd-47197c630979/resourcegroups/DesignerTestRG/workspaces/DesignerTest-EUS),\n",
       " '191': PublishedPipeline(Name: test_pipeline_endpoint,\n",
       " Description: None,\n",
       " Date updated: 2020-08-06 11:46:30.612996+00:00,\n",
       " Published by: Liyuan Wu,\n",
       " Last run submit time: None,\n",
       " Last run status: 0,\n",
       " Status: Active,\n",
       " Portal Link: https://ml.azure.com/pipeline/published/e6380530-135b-43e7-bd89-10fc29162771/detail?wsid=/subscriptions/4faaaf21-663f-4391-96fd-47197c630979/resourcegroups/DesignerTestRG/workspaces/DesignerTest-EUS),\n",
       " '179': PublishedPipeline(Name: test_pipeline_endpoint,\n",
       " Description: None,\n",
       " Date updated: 2020-08-06 10:58:39.824921+00:00,\n",
       " Published by: Liyuan Wu,\n",
       " Last run submit time: None,\n",
       " Last run status: 0,\n",
       " Status: Active,\n",
       " Portal Link: https://ml.azure.com/pipeline/published/bd8b0303-5ed9-43e1-8fd4-6e23eaeb9f02/detail?wsid=/subscriptions/4faaaf21-663f-4391-96fd-47197c630979/resourcegroups/DesignerTestRG/workspaces/DesignerTest-EUS),\n",
       " '178': PublishedPipeline(Name: test_pipeline_endpoint,\n",
       " Description: None,\n",
       " Date updated: 2020-08-06 10:56:18.350551+00:00,\n",
       " Published by: Liyuan Wu,\n",
       " Last run submit time: None,\n",
       " Last run status: 0,\n",
       " Status: Active,\n",
       " Portal Link: https://ml.azure.com/pipeline/published/73549b3c-9011-46d4-a8c6-46b1fc9f2db7/detail?wsid=/subscriptions/4faaaf21-663f-4391-96fd-47197c630979/resourcegroups/DesignerTestRG/workspaces/DesignerTest-EUS),\n",
       " '177': PublishedPipeline(Name: test_pipeline_endpoint,\n",
       " Description: None,\n",
       " Date updated: 2020-08-06 10:54:53.027756+00:00,\n",
       " Published by: Liyuan Wu,\n",
       " Last run submit time: None,\n",
       " Last run status: 0,\n",
       " Status: Active,\n",
       " Portal Link: https://ml.azure.com/pipeline/published/74f5e6c9-fee1-40c5-97c9-4c9eb1a972c2/detail?wsid=/subscriptions/4faaaf21-663f-4391-96fd-47197c630979/resourcegroups/DesignerTestRG/workspaces/DesignerTest-EUS),\n",
       " '176': PublishedPipeline(Name: test_pipeline_endpoint,\n",
       " Description: None,\n",
       " Date updated: 2020-08-06 10:52:12.585797+00:00,\n",
       " Published by: Liyuan Wu,\n",
       " Last run submit time: None,\n",
       " Last run status: 0,\n",
       " Status: Active,\n",
       " Portal Link: https://ml.azure.com/pipeline/published/b4da6eca-7cb7-49cd-b94a-ce18f214a27b/detail?wsid=/subscriptions/4faaaf21-663f-4391-96fd-47197c630979/resourcegroups/DesignerTestRG/workspaces/DesignerTest-EUS),\n",
       " '175': PublishedPipeline(Name: test_pipeline_endpoint,\n",
       " Description: None,\n",
       " Date updated: 2020-08-06 10:45:05.898289+00:00,\n",
       " Published by: Liyuan Wu,\n",
       " Last run submit time: None,\n",
       " Last run status: 0,\n",
       " Status: Active,\n",
       " Portal Link: https://ml.azure.com/pipeline/published/6dd59dfe-a6d1-4c16-a432-ca5a150b4afe/detail?wsid=/subscriptions/4faaaf21-663f-4391-96fd-47197c630979/resourcegroups/DesignerTestRG/workspaces/DesignerTest-EUS),\n",
       " '174': PublishedPipeline(Name: test_pipeline_endpoint,\n",
       " Description: None,\n",
       " Date updated: 2020-08-06 09:44:45.075483+00:00,\n",
       " Published by: Liyuan Wu,\n",
       " Last run submit time: None,\n",
       " Last run status: 0,\n",
       " Status: Active,\n",
       " Portal Link: https://ml.azure.com/pipeline/published/481b5534-8331-4d17-9c00-4f83e5bd9285/detail?wsid=/subscriptions/4faaaf21-663f-4391-96fd-47197c630979/resourcegroups/DesignerTestRG/workspaces/DesignerTest-EUS),\n",
       " '173': PublishedPipeline(Name: test_pipeline_endpoint,\n",
       " Description: None,\n",
       " Date updated: 2020-08-06 09:41:12.726561+00:00,\n",
       " Published by: Liyuan Wu,\n",
       " Last run submit time: None,\n",
       " Last run status: 0,\n",
       " Status: Active,\n",
       " Portal Link: https://ml.azure.com/pipeline/published/73efdafa-01ee-4cfe-9d2f-50660d5e42c1/detail?wsid=/subscriptions/4faaaf21-663f-4391-96fd-47197c630979/resourcegroups/DesignerTestRG/workspaces/DesignerTest-EUS),\n",
       " '172': PublishedPipeline(Name: test_pipeline_endpoint,\n",
       " Description: None,\n",
       " Date updated: 2020-08-06 09:33:01.699030+00:00,\n",
       " Published by: Liyuan Wu,\n",
       " Last run submit time: None,\n",
       " Last run status: 0,\n",
       " Status: Active,\n",
       " Portal Link: https://ml.azure.com/pipeline/published/bf6054cf-fc2c-4fee-aedf-a3a4dc2e2af4/detail?wsid=/subscriptions/4faaaf21-663f-4391-96fd-47197c630979/resourcegroups/DesignerTestRG/workspaces/DesignerTest-EUS),\n",
       " '171': PublishedPipeline(Name: test_pipeline_endpoint,\n",
       " Description: None,\n",
       " Date updated: 2020-08-06 09:30:30.412994+00:00,\n",
       " Published by: Liyuan Wu,\n",
       " Last run submit time: None,\n",
       " Last run status: 0,\n",
       " Status: Active,\n",
       " Portal Link: https://ml.azure.com/pipeline/published/af0c97ff-dbc6-4b14-ae23-e29b094c9934/detail?wsid=/subscriptions/4faaaf21-663f-4391-96fd-47197c630979/resourcegroups/DesignerTestRG/workspaces/DesignerTest-EUS),\n",
       " '170': PublishedPipeline(Name: test_pipeline_endpoint,\n",
       " Description: None,\n",
       " Date updated: 2020-08-06 09:29:26.185599+00:00,\n",
       " Published by: Liyuan Wu,\n",
       " Last run submit time: None,\n",
       " Last run status: 0,\n",
       " Status: Active,\n",
       " Portal Link: https://ml.azure.com/pipeline/published/a9acdadc-33b8-49ae-b362-7145468cc16a/detail?wsid=/subscriptions/4faaaf21-663f-4391-96fd-47197c630979/resourcegroups/DesignerTestRG/workspaces/DesignerTest-EUS),\n",
       " '169': PublishedPipeline(Name: test_pipeline_endpoint,\n",
       " Description: None,\n",
       " Date updated: 2020-08-06 09:28:51.074061+00:00,\n",
       " Published by: Liyuan Wu,\n",
       " Last run submit time: None,\n",
       " Last run status: 0,\n",
       " Status: Active,\n",
       " Portal Link: https://ml.azure.com/pipeline/published/9fe64c10-8116-4147-bbed-149a974e0d77/detail?wsid=/subscriptions/4faaaf21-663f-4391-96fd-47197c630979/resourcegroups/DesignerTestRG/workspaces/DesignerTest-EUS),\n",
       " '168': PublishedPipeline(Name: test_pipeline_endpoint,\n",
       " Description: None,\n",
       " Date updated: 2020-08-06 09:25:50.664926+00:00,\n",
       " Published by: Liyuan Wu,\n",
       " Last run submit time: None,\n",
       " Last run status: 0,\n",
       " Status: Active,\n",
       " Portal Link: https://ml.azure.com/pipeline/published/fa65da56-10c3-48d4-b2b5-bb687a26df07/detail?wsid=/subscriptions/4faaaf21-663f-4391-96fd-47197c630979/resourcegroups/DesignerTestRG/workspaces/DesignerTest-EUS),\n",
       " '167': PublishedPipeline(Name: test_pipeline_endpoint,\n",
       " Description: None,\n",
       " Date updated: 2020-08-06 09:25:17.099579+00:00,\n",
       " Published by: Liyuan Wu,\n",
       " Last run submit time: None,\n",
       " Last run status: 0,\n",
       " Status: Active,\n",
       " Portal Link: https://ml.azure.com/pipeline/published/2015059b-1737-48e9-bb71-f3a4eab63733/detail?wsid=/subscriptions/4faaaf21-663f-4391-96fd-47197c630979/resourcegroups/DesignerTestRG/workspaces/DesignerTest-EUS),\n",
       " '166': PublishedPipeline(Name: test_pipeline_endpoint,\n",
       " Description: None,\n",
       " Date updated: 2020-08-06 09:24:23.501470+00:00,\n",
       " Published by: Liyuan Wu,\n",
       " Last run submit time: None,\n",
       " Last run status: 0,\n",
       " Status: Active,\n",
       " Portal Link: https://ml.azure.com/pipeline/published/743d71e9-8d3c-4225-a0b9-b943625ca39d/detail?wsid=/subscriptions/4faaaf21-663f-4391-96fd-47197c630979/resourcegroups/DesignerTestRG/workspaces/DesignerTest-EUS),\n",
       " '157': PublishedPipeline(Name: test_pipeline_endpoint,\n",
       " Description: None,\n",
       " Date updated: 2020-08-06 08:35:32.413940+00:00,\n",
       " Published by: Liyuan Wu,\n",
       " Last run submit time: None,\n",
       " Last run status: 0,\n",
       " Status: Active,\n",
       " Portal Link: https://ml.azure.com/pipeline/published/d5b41ebe-73e8-424d-b9da-83853f29ad6b/detail?wsid=/subscriptions/4faaaf21-663f-4391-96fd-47197c630979/resourcegroups/DesignerTestRG/workspaces/DesignerTest-EUS),\n",
       " '150': PublishedPipeline(Name: test_pipeline_endpoint,\n",
       " Description: None,\n",
       " Date updated: 2020-08-05 08:51:54.632914+00:00,\n",
       " Published by: Liyuan Wu,\n",
       " Last run submit time: 2020-08-05 09:11:57.799607+00:00,\n",
       " Last run status: 3,\n",
       " Status: Active,\n",
       " Portal Link: https://ml.azure.com/pipeline/published/baee7db6-b947-4b13-950e-c032f9285e44/detail?wsid=/subscriptions/4faaaf21-663f-4391-96fd-47197c630979/resourcegroups/DesignerTestRG/workspaces/DesignerTest-EUS),\n",
       " '126': PublishedPipeline(Name: test_pipeline_endpoint,\n",
       " Description: None,\n",
       " Date updated: 2020-08-04 15:07:53.151999+00:00,\n",
       " Published by: Liyuan Wu,\n",
       " Last run submit time: None,\n",
       " Last run status: 0,\n",
       " Status: Active,\n",
       " Portal Link: https://ml.azure.com/pipeline/published/131a6754-932e-4016-8e9c-53d7ce896a66/detail?wsid=/subscriptions/4faaaf21-663f-4391-96fd-47197c630979/resourcegroups/DesignerTestRG/workspaces/DesignerTest-EUS),\n",
       " '124': PublishedPipeline(Name: test_pipeline_endpoint,\n",
       " Description: None,\n",
       " Date updated: 2020-08-04 14:47:19.656365+00:00,\n",
       " Published by: Liyuan Wu,\n",
       " Last run submit time: None,\n",
       " Last run status: 0,\n",
       " Status: Active,\n",
       " Portal Link: https://ml.azure.com/pipeline/published/c3e54dbd-d0d4-4e0b-ab82-6adfaa1554e0/detail?wsid=/subscriptions/4faaaf21-663f-4391-96fd-47197c630979/resourcegroups/DesignerTestRG/workspaces/DesignerTest-EUS),\n",
       " '123': PublishedPipeline(Name: test_pipeline_endpoint,\n",
       " Description: None,\n",
       " Date updated: 2020-08-04 14:24:59.122034+00:00,\n",
       " Published by: Liyuan Wu,\n",
       " Last run submit time: None,\n",
       " Last run status: 0,\n",
       " Status: Active,\n",
       " Portal Link: https://ml.azure.com/pipeline/published/257b2e64-ea32-43db-98dd-2a564a1e90f3/detail?wsid=/subscriptions/4faaaf21-663f-4391-96fd-47197c630979/resourcegroups/DesignerTestRG/workspaces/DesignerTest-EUS),\n",
       " '120': PublishedPipeline(Name: test_pipeline_endpoint,\n",
       " Description: None,\n",
       " Date updated: 2020-08-04 14:00:27.042724+00:00,\n",
       " Published by: Liyuan Wu,\n",
       " Last run submit time: None,\n",
       " Last run status: 0,\n",
       " Status: Active,\n",
       " Portal Link: https://ml.azure.com/pipeline/published/5e122704-5f9b-4d62-9866-5b9cc900a536/detail?wsid=/subscriptions/4faaaf21-663f-4391-96fd-47197c630979/resourcegroups/DesignerTestRG/workspaces/DesignerTest-EUS),\n",
       " '109': PublishedPipeline(Name: test_pipeline_endpoint,\n",
       " Description: None,\n",
       " Date updated: 2020-08-04 10:40:02.294758+00:00,\n",
       " Published by: Liyuan Wu,\n",
       " Last run submit time: None,\n",
       " Last run status: 0,\n",
       " Status: Active,\n",
       " Portal Link: https://ml.azure.com/pipeline/published/54169ce9-346a-4584-8c90-4e7a774551d4/detail?wsid=/subscriptions/4faaaf21-663f-4391-96fd-47197c630979/resourcegroups/DesignerTestRG/workspaces/DesignerTest-EUS),\n",
       " '108': PublishedPipeline(Name: test_pipeline_endpoint,\n",
       " Description: None,\n",
       " Date updated: 2020-08-04 08:50:16.231529+00:00,\n",
       " Published by: Liyuan Wu,\n",
       " Last run submit time: 2020-08-04 08:50:45.159107+00:00,\n",
       " Last run status: 3,\n",
       " Status: Active,\n",
       " Portal Link: https://ml.azure.com/pipeline/published/d5211c80-d512-4103-8dcf-4daf8bae78c1/detail?wsid=/subscriptions/4faaaf21-663f-4391-96fd-47197c630979/resourcegroups/DesignerTestRG/workspaces/DesignerTest-EUS),\n",
       " '107': PublishedPipeline(Name: test_pipeline_endpoint,\n",
       " Description: None,\n",
       " Date updated: 2020-08-04 08:49:35.167572+00:00,\n",
       " Published by: Liyuan Wu,\n",
       " Last run submit time: None,\n",
       " Last run status: 0,\n",
       " Status: Active,\n",
       " Portal Link: https://ml.azure.com/pipeline/published/c0507c13-d9d3-4356-af96-456446ef35eb/detail?wsid=/subscriptions/4faaaf21-663f-4391-96fd-47197c630979/resourcegroups/DesignerTestRG/workspaces/DesignerTest-EUS),\n",
       " '106': PublishedPipeline(Name: test_pipeline_endpoint,\n",
       " Description: None,\n",
       " Date updated: 2020-08-04 08:46:21.418766+00:00,\n",
       " Published by: Liyuan Wu,\n",
       " Last run submit time: None,\n",
       " Last run status: 0,\n",
       " Status: Active,\n",
       " Portal Link: https://ml.azure.com/pipeline/published/a598a1f3-989e-4303-a752-8f3aec848c84/detail?wsid=/subscriptions/4faaaf21-663f-4391-96fd-47197c630979/resourcegroups/DesignerTestRG/workspaces/DesignerTest-EUS),\n",
       " '105': PublishedPipeline(Name: test_pipeline_endpoint,\n",
       " Description: None,\n",
       " Date updated: 2020-08-04 08:45:39.587652+00:00,\n",
       " Published by: Liyuan Wu,\n",
       " Last run submit time: None,\n",
       " Last run status: 0,\n",
       " Status: Active,\n",
       " Portal Link: https://ml.azure.com/pipeline/published/a7b3a8cb-b3ec-47ed-8d7e-7f3851fca809/detail?wsid=/subscriptions/4faaaf21-663f-4391-96fd-47197c630979/resourcegroups/DesignerTestRG/workspaces/DesignerTest-EUS),\n",
       " '104': PublishedPipeline(Name: test_pipeline_endpoint,\n",
       " Description: None,\n",
       " Date updated: 2020-08-04 08:45:09.304158+00:00,\n",
       " Published by: Liyuan Wu,\n",
       " Last run submit time: None,\n",
       " Last run status: 0,\n",
       " Status: Active,\n",
       " Portal Link: https://ml.azure.com/pipeline/published/4e5065e5-36f6-43bf-b62a-0a9e0d350154/detail?wsid=/subscriptions/4faaaf21-663f-4391-96fd-47197c630979/resourcegroups/DesignerTestRG/workspaces/DesignerTest-EUS),\n",
       " '103': PublishedPipeline(Name: test_pipeline_endpoint,\n",
       " Description: None,\n",
       " Date updated: 2020-08-04 08:42:18.333784+00:00,\n",
       " Published by: Liyuan Wu,\n",
       " Last run submit time: None,\n",
       " Last run status: 0,\n",
       " Status: Active,\n",
       " Portal Link: https://ml.azure.com/pipeline/published/755ed3a8-d579-4e2c-ab0b-05f890298fea/detail?wsid=/subscriptions/4faaaf21-663f-4391-96fd-47197c630979/resourcegroups/DesignerTestRG/workspaces/DesignerTest-EUS),\n",
       " '102': PublishedPipeline(Name: test_pipeline_endpoint,\n",
       " Description: None,\n",
       " Date updated: 2020-08-04 08:41:30.563323+00:00,\n",
       " Published by: Liyuan Wu,\n",
       " Last run submit time: None,\n",
       " Last run status: 0,\n",
       " Status: Active,\n",
       " Portal Link: https://ml.azure.com/pipeline/published/f7fcf70d-1989-44dd-9cf7-96af1a252377/detail?wsid=/subscriptions/4faaaf21-663f-4391-96fd-47197c630979/resourcegroups/DesignerTestRG/workspaces/DesignerTest-EUS),\n",
       " '101': PublishedPipeline(Name: test_pipeline_endpoint,\n",
       " Description: None,\n",
       " Date updated: 2020-08-04 07:20:55.530149+00:00,\n",
       " Published by: Liyuan Wu,\n",
       " Last run submit time: None,\n",
       " Last run status: 0,\n",
       " Status: Active,\n",
       " Portal Link: https://ml.azure.com/pipeline/published/d5685787-2a3f-42d4-b879-837deb0ddb81/detail?wsid=/subscriptions/4faaaf21-663f-4391-96fd-47197c630979/resourcegroups/DesignerTestRG/workspaces/DesignerTest-EUS),\n",
       " '100': PublishedPipeline(Name: test_pipeline_endpoint,\n",
       " Description: None,\n",
       " Date updated: 2020-08-04 07:01:58.942498+00:00,\n",
       " Published by: Liyuan Wu,\n",
       " Last run submit time: None,\n",
       " Last run status: 0,\n",
       " Status: Active,\n",
       " Portal Link: https://ml.azure.com/pipeline/published/0cace57a-6711-40c2-a690-7e38f8c5496d/detail?wsid=/subscriptions/4faaaf21-663f-4391-96fd-47197c630979/resourcegroups/DesignerTestRG/workspaces/DesignerTest-EUS),\n",
       " '99': PublishedPipeline(Name: test_pipeline_endpoint,\n",
       " Description: None,\n",
       " Date updated: 2020-08-04 06:58:13.565757+00:00,\n",
       " Published by: Liyuan Wu,\n",
       " Last run submit time: None,\n",
       " Last run status: 0,\n",
       " Status: Active,\n",
       " Portal Link: https://ml.azure.com/pipeline/published/6a6e715b-cd9e-4d30-9307-525bcf9f4b90/detail?wsid=/subscriptions/4faaaf21-663f-4391-96fd-47197c630979/resourcegroups/DesignerTestRG/workspaces/DesignerTest-EUS),\n",
       " '98': PublishedPipeline(Name: test_pipeline_endpoint,\n",
       " Description: None,\n",
       " Date updated: 2020-08-04 06:55:09.758321+00:00,\n",
       " Published by: Liyuan Wu,\n",
       " Last run submit time: None,\n",
       " Last run status: 0,\n",
       " Status: Active,\n",
       " Portal Link: https://ml.azure.com/pipeline/published/e69be26d-4efe-476e-8a22-5133266394ff/detail?wsid=/subscriptions/4faaaf21-663f-4391-96fd-47197c630979/resourcegroups/DesignerTestRG/workspaces/DesignerTest-EUS),\n",
       " '97': PublishedPipeline(Name: test_pipeline_endpoint,\n",
       " Description: None,\n",
       " Date updated: 2020-08-04 06:53:56.476355+00:00,\n",
       " Published by: Liyuan Wu,\n",
       " Last run submit time: None,\n",
       " Last run status: 0,\n",
       " Status: Active,\n",
       " Portal Link: https://ml.azure.com/pipeline/published/dbb1e782-2767-4dbd-bba4-f058d7322ff6/detail?wsid=/subscriptions/4faaaf21-663f-4391-96fd-47197c630979/resourcegroups/DesignerTestRG/workspaces/DesignerTest-EUS),\n",
       " '96': PublishedPipeline(Name: test_pipeline_endpoint,\n",
       " Description: None,\n",
       " Date updated: 2020-08-04 06:52:23.194497+00:00,\n",
       " Published by: Liyuan Wu,\n",
       " Last run submit time: 2020-08-04 06:52:47.626727+00:00,\n",
       " Last run status: 3,\n",
       " Status: Active,\n",
       " Portal Link: https://ml.azure.com/pipeline/published/6e2dc5ca-4d57-414d-832c-e9c5ce9c97da/detail?wsid=/subscriptions/4faaaf21-663f-4391-96fd-47197c630979/resourcegroups/DesignerTestRG/workspaces/DesignerTest-EUS),\n",
       " '95': PublishedPipeline(Name: test_pipeline_endpoint,\n",
       " Description: None,\n",
       " Date updated: 2020-08-04 06:51:35.465452+00:00,\n",
       " Published by: Liyuan Wu,\n",
       " Last run submit time: None,\n",
       " Last run status: 0,\n",
       " Status: Active,\n",
       " Portal Link: https://ml.azure.com/pipeline/published/8e810dc6-c344-4a5e-b5d4-22c3df3875e0/detail?wsid=/subscriptions/4faaaf21-663f-4391-96fd-47197c630979/resourcegroups/DesignerTestRG/workspaces/DesignerTest-EUS),\n",
       " '94': PublishedPipeline(Name: test_pipeline_endpoint,\n",
       " Description: None,\n",
       " Date updated: 2020-08-04 06:51:08.892724+00:00,\n",
       " Published by: Liyuan Wu,\n",
       " Last run submit time: None,\n",
       " Last run status: 0,\n",
       " Status: Active,\n",
       " Portal Link: https://ml.azure.com/pipeline/published/0afeaa0e-19af-4e64-abdd-a7a052bfad7b/detail?wsid=/subscriptions/4faaaf21-663f-4391-96fd-47197c630979/resourcegroups/DesignerTestRG/workspaces/DesignerTest-EUS),\n",
       " '93': PublishedPipeline(Name: test_pipeline_endpoint,\n",
       " Description: None,\n",
       " Date updated: 2020-08-04 06:50:15.428213+00:00,\n",
       " Published by: Liyuan Wu,\n",
       " Last run submit time: None,\n",
       " Last run status: 0,\n",
       " Status: Active,\n",
       " Portal Link: https://ml.azure.com/pipeline/published/282d08a6-237f-4e10-92e3-2e75c00b9bd6/detail?wsid=/subscriptions/4faaaf21-663f-4391-96fd-47197c630979/resourcegroups/DesignerTestRG/workspaces/DesignerTest-EUS),\n",
       " '92': PublishedPipeline(Name: test_pipeline_endpoint,\n",
       " Description: None,\n",
       " Date updated: 2020-08-04 06:49:39.682434+00:00,\n",
       " Published by: Liyuan Wu,\n",
       " Last run submit time: None,\n",
       " Last run status: 0,\n",
       " Status: Active,\n",
       " Portal Link: https://ml.azure.com/pipeline/published/511165a5-c7c3-42fa-87e4-b5a8bfa9ffcf/detail?wsid=/subscriptions/4faaaf21-663f-4391-96fd-47197c630979/resourcegroups/DesignerTestRG/workspaces/DesignerTest-EUS),\n",
       " '91': PublishedPipeline(Name: test_pipeline_endpoint,\n",
       " Description: None,\n",
       " Date updated: 2020-08-04 06:48:57.946243+00:00,\n",
       " Published by: Liyuan Wu,\n",
       " Last run submit time: None,\n",
       " Last run status: 0,\n",
       " Status: Active,\n",
       " Portal Link: https://ml.azure.com/pipeline/published/468738ae-4a51-47bf-8c13-d58eebada1e1/detail?wsid=/subscriptions/4faaaf21-663f-4391-96fd-47197c630979/resourcegroups/DesignerTestRG/workspaces/DesignerTest-EUS),\n",
       " '90': PublishedPipeline(Name: test_pipeline_endpoint,\n",
       " Description: None,\n",
       " Date updated: 2020-08-04 06:47:28.719701+00:00,\n",
       " Published by: Liyuan Wu,\n",
       " Last run submit time: None,\n",
       " Last run status: 0,\n",
       " Status: Active,\n",
       " Portal Link: https://ml.azure.com/pipeline/published/49ef61e9-ac30-4812-9400-0adfd9f860c3/detail?wsid=/subscriptions/4faaaf21-663f-4391-96fd-47197c630979/resourcegroups/DesignerTestRG/workspaces/DesignerTest-EUS),\n",
       " '89': PublishedPipeline(Name: test_pipeline_endpoint,\n",
       " Description: None,\n",
       " Date updated: 2020-08-04 04:12:19.910255+00:00,\n",
       " Published by: Liyuan Wu,\n",
       " Last run submit time: None,\n",
       " Last run status: 0,\n",
       " Status: Active,\n",
       " Portal Link: https://ml.azure.com/pipeline/published/9d614fee-dc6f-426e-a7f6-4fa6bed80981/detail?wsid=/subscriptions/4faaaf21-663f-4391-96fd-47197c630979/resourcegroups/DesignerTestRG/workspaces/DesignerTest-EUS),\n",
       " '88': PublishedPipeline(Name: test_pipeline_endpoint,\n",
       " Description: None,\n",
       " Date updated: 2020-08-04 04:11:14.610470+00:00,\n",
       " Published by: Liyuan Wu,\n",
       " Last run submit time: None,\n",
       " Last run status: 0,\n",
       " Status: Active,\n",
       " Portal Link: https://ml.azure.com/pipeline/published/f153ef20-84f7-4f07-b9e7-4cee9d59bbfb/detail?wsid=/subscriptions/4faaaf21-663f-4391-96fd-47197c630979/resourcegroups/DesignerTestRG/workspaces/DesignerTest-EUS),\n",
       " '87': PublishedPipeline(Name: test_pipeline_endpoint,\n",
       " Description: None,\n",
       " Date updated: 2020-08-04 04:07:48.189869+00:00,\n",
       " Published by: Liyuan Wu,\n",
       " Last run submit time: None,\n",
       " Last run status: 0,\n",
       " Status: Active,\n",
       " Portal Link: https://ml.azure.com/pipeline/published/c65eb2ed-8c9c-4b33-aa3c-5ee0a509dee9/detail?wsid=/subscriptions/4faaaf21-663f-4391-96fd-47197c630979/resourcegroups/DesignerTestRG/workspaces/DesignerTest-EUS),\n",
       " '86': PublishedPipeline(Name: test_pipeline_endpoint,\n",
       " Description: None,\n",
       " Date updated: 2020-08-04 04:06:38.948834+00:00,\n",
       " Published by: Liyuan Wu,\n",
       " Last run submit time: None,\n",
       " Last run status: 0,\n",
       " Status: Active,\n",
       " Portal Link: https://ml.azure.com/pipeline/published/0339e6b2-747d-4e7f-9cbc-2ef64c509069/detail?wsid=/subscriptions/4faaaf21-663f-4391-96fd-47197c630979/resourcegroups/DesignerTestRG/workspaces/DesignerTest-EUS),\n",
       " '85': PublishedPipeline(Name: test_pipeline_endpoint,\n",
       " Description: None,\n",
       " Date updated: 2020-08-04 04:01:40.145360+00:00,\n",
       " Published by: Liyuan Wu,\n",
       " Last run submit time: 2020-08-04 04:01:52.386556+00:00,\n",
       " Last run status: 3,\n",
       " Status: Active,\n",
       " Portal Link: https://ml.azure.com/pipeline/published/34ce34e0-b59b-47e1-a692-75538027a74e/detail?wsid=/subscriptions/4faaaf21-663f-4391-96fd-47197c630979/resourcegroups/DesignerTestRG/workspaces/DesignerTest-EUS),\n",
       " '84': PublishedPipeline(Name: test_pipeline_endpoint,\n",
       " Description: None,\n",
       " Date updated: 2020-08-04 04:00:41.812320+00:00,\n",
       " Published by: Liyuan Wu,\n",
       " Last run submit time: None,\n",
       " Last run status: 0,\n",
       " Status: Active,\n",
       " Portal Link: https://ml.azure.com/pipeline/published/43d2d84f-b625-4e54-a437-44590cd4e7de/detail?wsid=/subscriptions/4faaaf21-663f-4391-96fd-47197c630979/resourcegroups/DesignerTestRG/workspaces/DesignerTest-EUS),\n",
       " '83': PublishedPipeline(Name: test_pipeline_endpoint,\n",
       " Description: None,\n",
       " Date updated: 2020-08-04 03:57:27.333177+00:00,\n",
       " Published by: Liyuan Wu,\n",
       " Last run submit time: None,\n",
       " Last run status: 0,\n",
       " Status: Active,\n",
       " Portal Link: https://ml.azure.com/pipeline/published/7d2c9e85-87cc-4033-a219-e4456a196f6e/detail?wsid=/subscriptions/4faaaf21-663f-4391-96fd-47197c630979/resourcegroups/DesignerTestRG/workspaces/DesignerTest-EUS),\n",
       " '82': PublishedPipeline(Name: test_pipeline_endpoint,\n",
       " Description: None,\n",
       " Date updated: 2020-08-04 03:56:38.734845+00:00,\n",
       " Published by: Liyuan Wu,\n",
       " Last run submit time: None,\n",
       " Last run status: 0,\n",
       " Status: Active,\n",
       " Portal Link: https://ml.azure.com/pipeline/published/fb151fde-11ff-4140-a346-54bbc38714ac/detail?wsid=/subscriptions/4faaaf21-663f-4391-96fd-47197c630979/resourcegroups/DesignerTestRG/workspaces/DesignerTest-EUS),\n",
       " '81': PublishedPipeline(Name: test_pipeline_endpoint,\n",
       " Description: None,\n",
       " Date updated: 2020-08-04 03:56:05.678282+00:00,\n",
       " Published by: Liyuan Wu,\n",
       " Last run submit time: None,\n",
       " Last run status: 0,\n",
       " Status: Active,\n",
       " Portal Link: https://ml.azure.com/pipeline/published/6bcf41d0-75b3-48d9-80b1-383ac7076c68/detail?wsid=/subscriptions/4faaaf21-663f-4391-96fd-47197c630979/resourcegroups/DesignerTestRG/workspaces/DesignerTest-EUS),\n",
       " '80': PublishedPipeline(Name: test_pipeline_endpoint,\n",
       " Description: None,\n",
       " Date updated: 2020-08-04 03:52:31.825301+00:00,\n",
       " Published by: Liyuan Wu,\n",
       " Last run submit time: None,\n",
       " Last run status: 0,\n",
       " Status: Active,\n",
       " Portal Link: https://ml.azure.com/pipeline/published/e6401861-de5a-4c5d-a79c-cdbfa42bad4b/detail?wsid=/subscriptions/4faaaf21-663f-4391-96fd-47197c630979/resourcegroups/DesignerTestRG/workspaces/DesignerTest-EUS),\n",
       " '79': PublishedPipeline(Name: test_pipeline_endpoint,\n",
       " Description: None,\n",
       " Date updated: 2020-08-04 03:51:00.105545+00:00,\n",
       " Published by: Liyuan Wu,\n",
       " Last run submit time: None,\n",
       " Last run status: 0,\n",
       " Status: Active,\n",
       " Portal Link: https://ml.azure.com/pipeline/published/b776cb52-b2a6-42f4-a597-a807cc6ba058/detail?wsid=/subscriptions/4faaaf21-663f-4391-96fd-47197c630979/resourcegroups/DesignerTestRG/workspaces/DesignerTest-EUS),\n",
       " '78': PublishedPipeline(Name: test_pipeline_endpoint,\n",
       " Description: None,\n",
       " Date updated: 2020-08-04 03:46:47.414180+00:00,\n",
       " Published by: Liyuan Wu,\n",
       " Last run submit time: None,\n",
       " Last run status: 0,\n",
       " Status: Active,\n",
       " Portal Link: https://ml.azure.com/pipeline/published/74e967f1-6226-43ad-859a-c51dd71d0ced/detail?wsid=/subscriptions/4faaaf21-663f-4391-96fd-47197c630979/resourcegroups/DesignerTestRG/workspaces/DesignerTest-EUS),\n",
       " '77': PublishedPipeline(Name: test_pipeline_endpoint,\n",
       " Description: None,\n",
       " Date updated: 2020-08-04 03:46:01.060195+00:00,\n",
       " Published by: Liyuan Wu,\n",
       " Last run submit time: None,\n",
       " Last run status: 0,\n",
       " Status: Active,\n",
       " Portal Link: https://ml.azure.com/pipeline/published/4bdc5b03-8c4a-49b4-86f0-af29211c510a/detail?wsid=/subscriptions/4faaaf21-663f-4391-96fd-47197c630979/resourcegroups/DesignerTestRG/workspaces/DesignerTest-EUS),\n",
       " '76': PublishedPipeline(Name: test_pipeline_endpoint,\n",
       " Description: None,\n",
       " Date updated: 2020-08-04 03:45:22.588521+00:00,\n",
       " Published by: Liyuan Wu,\n",
       " Last run submit time: None,\n",
       " Last run status: 0,\n",
       " Status: Active,\n",
       " Portal Link: https://ml.azure.com/pipeline/published/4b813bc6-3f1e-4cfd-ac82-f052067cdeb4/detail?wsid=/subscriptions/4faaaf21-663f-4391-96fd-47197c630979/resourcegroups/DesignerTestRG/workspaces/DesignerTest-EUS),\n",
       " '75': PublishedPipeline(Name: test_pipeline_endpoint,\n",
       " Description: None,\n",
       " Date updated: 2020-08-04 03:41:26.430230+00:00,\n",
       " Published by: Liyuan Wu,\n",
       " Last run submit time: None,\n",
       " Last run status: 0,\n",
       " Status: Active,\n",
       " Portal Link: https://ml.azure.com/pipeline/published/f3cf9505-eb7c-4b9d-ba90-c79b9b0a591f/detail?wsid=/subscriptions/4faaaf21-663f-4391-96fd-47197c630979/resourcegroups/DesignerTestRG/workspaces/DesignerTest-EUS),\n",
       " '74': PublishedPipeline(Name: test_pipeline_endpoint,\n",
       " Description: None,\n",
       " Date updated: 2020-08-04 03:40:50.812203+00:00,\n",
       " Published by: Liyuan Wu,\n",
       " Last run submit time: None,\n",
       " Last run status: 0,\n",
       " Status: Active,\n",
       " Portal Link: https://ml.azure.com/pipeline/published/1b11ec2d-8b95-47f5-8079-ef4f9873b6bd/detail?wsid=/subscriptions/4faaaf21-663f-4391-96fd-47197c630979/resourcegroups/DesignerTestRG/workspaces/DesignerTest-EUS),\n",
       " '73': PublishedPipeline(Name: test_pipeline_endpoint,\n",
       " Description: None,\n",
       " Date updated: 2020-08-04 03:36:38.086310+00:00,\n",
       " Published by: Liyuan Wu,\n",
       " Last run submit time: None,\n",
       " Last run status: 0,\n",
       " Status: Active,\n",
       " Portal Link: https://ml.azure.com/pipeline/published/99cfcca5-1ffc-4d90-ba95-df86e3b5e939/detail?wsid=/subscriptions/4faaaf21-663f-4391-96fd-47197c630979/resourcegroups/DesignerTestRG/workspaces/DesignerTest-EUS),\n",
       " '72': PublishedPipeline(Name: test_pipeline_endpoint,\n",
       " Description: None,\n",
       " Date updated: 2020-08-04 03:35:44.133334+00:00,\n",
       " Published by: Liyuan Wu,\n",
       " Last run submit time: None,\n",
       " Last run status: 0,\n",
       " Status: Active,\n",
       " Portal Link: https://ml.azure.com/pipeline/published/1176a25f-b1de-428a-b559-3fb6c8d2115b/detail?wsid=/subscriptions/4faaaf21-663f-4391-96fd-47197c630979/resourcegroups/DesignerTestRG/workspaces/DesignerTest-EUS),\n",
       " '71': PublishedPipeline(Name: test_pipeline_endpoint,\n",
       " Description: None,\n",
       " Date updated: 2020-08-04 03:35:09.997047+00:00,\n",
       " Published by: Liyuan Wu,\n",
       " Last run submit time: None,\n",
       " Last run status: 0,\n",
       " Status: Active,\n",
       " Portal Link: https://ml.azure.com/pipeline/published/95118811-e59e-4f06-b67a-e4cdfdb073ab/detail?wsid=/subscriptions/4faaaf21-663f-4391-96fd-47197c630979/resourcegroups/DesignerTestRG/workspaces/DesignerTest-EUS),\n",
       " '70': PublishedPipeline(Name: test_pipeline_endpoint,\n",
       " Description: None,\n",
       " Date updated: 2020-08-04 02:44:35.391158+00:00,\n",
       " Published by: Liyuan Wu,\n",
       " Last run submit time: None,\n",
       " Last run status: 0,\n",
       " Status: Active,\n",
       " Portal Link: https://ml.azure.com/pipeline/published/7e3103e4-1826-4756-b25b-c98560649c05/detail?wsid=/subscriptions/4faaaf21-663f-4391-96fd-47197c630979/resourcegroups/DesignerTestRG/workspaces/DesignerTest-EUS),\n",
       " '69': PublishedPipeline(Name: test_pipeline_endpoint,\n",
       " Description: None,\n",
       " Date updated: 2020-08-04 02:41:27.709499+00:00,\n",
       " Published by: Liyuan Wu,\n",
       " Last run submit time: None,\n",
       " Last run status: 0,\n",
       " Status: Active,\n",
       " Portal Link: https://ml.azure.com/pipeline/published/d17e3240-bdf5-4c52-8789-1a7ce7f8c1a3/detail?wsid=/subscriptions/4faaaf21-663f-4391-96fd-47197c630979/resourcegroups/DesignerTestRG/workspaces/DesignerTest-EUS),\n",
       " '68': PublishedPipeline(Name: test_pipeline_endpoint,\n",
       " Description: None,\n",
       " Date updated: 2020-08-04 02:40:00.861646+00:00,\n",
       " Published by: Liyuan Wu,\n",
       " Last run submit time: None,\n",
       " Last run status: 0,\n",
       " Status: Active,\n",
       " Portal Link: https://ml.azure.com/pipeline/published/0550c670-58a4-4a87-849a-ab4df69fc402/detail?wsid=/subscriptions/4faaaf21-663f-4391-96fd-47197c630979/resourcegroups/DesignerTestRG/workspaces/DesignerTest-EUS),\n",
       " '67': PublishedPipeline(Name: test_pipeline_endpoint,\n",
       " Description: None,\n",
       " Date updated: 2020-08-04 02:36:54.144504+00:00,\n",
       " Published by: Liyuan Wu,\n",
       " Last run submit time: None,\n",
       " Last run status: 0,\n",
       " Status: Active,\n",
       " Portal Link: https://ml.azure.com/pipeline/published/2f5f7058-f821-424b-8a41-b8d7c78cf04b/detail?wsid=/subscriptions/4faaaf21-663f-4391-96fd-47197c630979/resourcegroups/DesignerTestRG/workspaces/DesignerTest-EUS),\n",
       " '66': PublishedPipeline(Name: test_pipeline_endpoint,\n",
       " Description: None,\n",
       " Date updated: 2020-08-04 02:35:14.344242+00:00,\n",
       " Published by: Liyuan Wu,\n",
       " Last run submit time: None,\n",
       " Last run status: 0,\n",
       " Status: Active,\n",
       " Portal Link: https://ml.azure.com/pipeline/published/70a92b54-d725-4317-9e22-f4ce6d48b686/detail?wsid=/subscriptions/4faaaf21-663f-4391-96fd-47197c630979/resourcegroups/DesignerTestRG/workspaces/DesignerTest-EUS),\n",
       " '65': PublishedPipeline(Name: test_pipeline_endpoint,\n",
       " Description: None,\n",
       " Date updated: 2020-08-04 02:30:41.458448+00:00,\n",
       " Published by: Liyuan Wu,\n",
       " Last run submit time: None,\n",
       " Last run status: 0,\n",
       " Status: Active,\n",
       " Portal Link: https://ml.azure.com/pipeline/published/a29b8458-bca4-43d0-ad38-47aa413bcf33/detail?wsid=/subscriptions/4faaaf21-663f-4391-96fd-47197c630979/resourcegroups/DesignerTestRG/workspaces/DesignerTest-EUS),\n",
       " '64': PublishedPipeline(Name: test_pipeline_endpoint,\n",
       " Description: None,\n",
       " Date updated: 2020-08-03 11:32:12.627370+00:00,\n",
       " Published by: Liyuan Wu,\n",
       " Last run submit time: None,\n",
       " Last run status: 0,\n",
       " Status: Active,\n",
       " Portal Link: https://ml.azure.com/pipeline/published/922f86a7-ba3f-4f6d-8b43-9c6ba69de8dc/detail?wsid=/subscriptions/4faaaf21-663f-4391-96fd-47197c630979/resourcegroups/DesignerTestRG/workspaces/DesignerTest-EUS),\n",
       " '63': PublishedPipeline(Name: test_pipeline_endpoint,\n",
       " Description: None,\n",
       " Date updated: 2020-08-03 10:55:46.167925+00:00,\n",
       " Published by: Liyuan Wu,\n",
       " Last run submit time: None,\n",
       " Last run status: 0,\n",
       " Status: Active,\n",
       " Portal Link: https://ml.azure.com/pipeline/published/1fc7e8c2-14ae-41e0-8844-0df0fb9c9874/detail?wsid=/subscriptions/4faaaf21-663f-4391-96fd-47197c630979/resourcegroups/DesignerTestRG/workspaces/DesignerTest-EUS),\n",
       " '62': PublishedPipeline(Name: test_pipeline_endpoint,\n",
       " Description: None,\n",
       " Date updated: 2020-08-03 09:10:15.864860+00:00,\n",
       " Published by: Liyuan Wu,\n",
       " Last run submit time: 2020-08-03 09:10:40.853733+00:00,\n",
       " Last run status: 3,\n",
       " Status: Active,\n",
       " Portal Link: https://ml.azure.com/pipeline/published/e5417c8d-84a4-4a84-bc66-c920754c768a/detail?wsid=/subscriptions/4faaaf21-663f-4391-96fd-47197c630979/resourcegroups/DesignerTestRG/workspaces/DesignerTest-EUS),\n",
       " '61': PublishedPipeline(Name: test_pipeline_endpoint,\n",
       " Description: None,\n",
       " Date updated: 2020-08-03 09:08:00.559737+00:00,\n",
       " Published by: Liyuan Wu,\n",
       " Last run submit time: None,\n",
       " Last run status: 0,\n",
       " Status: Active,\n",
       " Portal Link: https://ml.azure.com/pipeline/published/67d5d3c3-86d8-4095-9d2f-755f9f94981c/detail?wsid=/subscriptions/4faaaf21-663f-4391-96fd-47197c630979/resourcegroups/DesignerTestRG/workspaces/DesignerTest-EUS),\n",
       " '60': PublishedPipeline(Name: test_pipeline_endpoint,\n",
       " Description: None,\n",
       " Date updated: 2020-08-03 09:07:11.429566+00:00,\n",
       " Published by: Liyuan Wu,\n",
       " Last run submit time: None,\n",
       " Last run status: 0,\n",
       " Status: Active,\n",
       " Portal Link: https://ml.azure.com/pipeline/published/3b7b9f4e-1a79-4128-881b-4439dd41dfa1/detail?wsid=/subscriptions/4faaaf21-663f-4391-96fd-47197c630979/resourcegroups/DesignerTestRG/workspaces/DesignerTest-EUS),\n",
       " '59': PublishedPipeline(Name: test_pipeline_endpoint,\n",
       " Description: None,\n",
       " Date updated: 2020-08-03 08:49:25.721962+00:00,\n",
       " Published by: Liyuan Wu,\n",
       " Last run submit time: 2020-08-03 08:49:35.535418+00:00,\n",
       " Last run status: 3,\n",
       " Status: Active,\n",
       " Portal Link: https://ml.azure.com/pipeline/published/f072bd9f-9b02-4acd-ac12-86a4d345a2b5/detail?wsid=/subscriptions/4faaaf21-663f-4391-96fd-47197c630979/resourcegroups/DesignerTestRG/workspaces/DesignerTest-EUS),\n",
       " '58': PublishedPipeline(Name: test_pipeline_endpoint,\n",
       " Description: None,\n",
       " Date updated: 2020-08-03 08:47:05.475894+00:00,\n",
       " Published by: Liyuan Wu,\n",
       " Last run submit time: None,\n",
       " Last run status: 0,\n",
       " Status: Active,\n",
       " Portal Link: https://ml.azure.com/pipeline/published/8577d918-b93e-4e07-aca6-e2146abda6da/detail?wsid=/subscriptions/4faaaf21-663f-4391-96fd-47197c630979/resourcegroups/DesignerTestRG/workspaces/DesignerTest-EUS),\n",
       " '57': PublishedPipeline(Name: test_pipeline_endpoint,\n",
       " Description: None,\n",
       " Date updated: 2020-08-03 08:46:22.350362+00:00,\n",
       " Published by: Liyuan Wu,\n",
       " Last run submit time: None,\n",
       " Last run status: 0,\n",
       " Status: Active,\n",
       " Portal Link: https://ml.azure.com/pipeline/published/f612525d-e1e9-47d4-bf7e-adf810d653fd/detail?wsid=/subscriptions/4faaaf21-663f-4391-96fd-47197c630979/resourcegroups/DesignerTestRG/workspaces/DesignerTest-EUS),\n",
       " '56': PublishedPipeline(Name: test_pipeline_endpoint,\n",
       " Description: None,\n",
       " Date updated: 2020-08-03 07:34:50.701604+00:00,\n",
       " Published by: Liyuan Wu,\n",
       " Last run submit time: 2020-08-03 07:35:06.919472+00:00,\n",
       " Last run status: 3,\n",
       " Status: Active,\n",
       " Portal Link: https://ml.azure.com/pipeline/published/9af98b8d-50ce-43d7-9744-fc75af3727c9/detail?wsid=/subscriptions/4faaaf21-663f-4391-96fd-47197c630979/resourcegroups/DesignerTestRG/workspaces/DesignerTest-EUS),\n",
       " '55': PublishedPipeline(Name: test_pipeline_endpoint,\n",
       " Description: None,\n",
       " Date updated: 2020-08-03 07:32:39.103765+00:00,\n",
       " Published by: Liyuan Wu,\n",
       " Last run submit time: None,\n",
       " Last run status: 0,\n",
       " Status: Active,\n",
       " Portal Link: https://ml.azure.com/pipeline/published/50c17221-7b8b-45e7-b577-85597cf55f43/detail?wsid=/subscriptions/4faaaf21-663f-4391-96fd-47197c630979/resourcegroups/DesignerTestRG/workspaces/DesignerTest-EUS),\n",
       " '54': PublishedPipeline(Name: test_pipeline_endpoint,\n",
       " Description: None,\n",
       " Date updated: 2020-08-03 07:31:53.818916+00:00,\n",
       " Published by: Liyuan Wu,\n",
       " Last run submit time: None,\n",
       " Last run status: 0,\n",
       " Status: Active,\n",
       " Portal Link: https://ml.azure.com/pipeline/published/ebe09790-b45e-4d9c-9b2e-12c51addd809/detail?wsid=/subscriptions/4faaaf21-663f-4391-96fd-47197c630979/resourcegroups/DesignerTestRG/workspaces/DesignerTest-EUS),\n",
       " '53': PublishedPipeline(Name: test_pipeline_endpoint,\n",
       " Description: None,\n",
       " Date updated: 2020-08-03 06:53:50.691922+00:00,\n",
       " Published by: Liyuan Wu,\n",
       " Last run submit time: 2020-08-03 06:54:08.502618+00:00,\n",
       " Last run status: 3,\n",
       " Status: Active,\n",
       " Portal Link: https://ml.azure.com/pipeline/published/b4ab90fe-c4c5-4f03-a585-adaa614752e3/detail?wsid=/subscriptions/4faaaf21-663f-4391-96fd-47197c630979/resourcegroups/DesignerTestRG/workspaces/DesignerTest-EUS),\n",
       " '52': PublishedPipeline(Name: test_pipeline_endpoint,\n",
       " Description: None,\n",
       " Date updated: 2020-08-03 06:51:46.658610+00:00,\n",
       " Published by: Liyuan Wu,\n",
       " Last run submit time: None,\n",
       " Last run status: 0,\n",
       " Status: Active,\n",
       " Portal Link: https://ml.azure.com/pipeline/published/1b7e6c25-2566-47e5-863c-fe7517882832/detail?wsid=/subscriptions/4faaaf21-663f-4391-96fd-47197c630979/resourcegroups/DesignerTestRG/workspaces/DesignerTest-EUS),\n",
       " '51': PublishedPipeline(Name: test_pipeline_endpoint,\n",
       " Description: None,\n",
       " Date updated: 2020-08-03 06:51:03.912735+00:00,\n",
       " Published by: Liyuan Wu,\n",
       " Last run submit time: None,\n",
       " Last run status: 0,\n",
       " Status: Active,\n",
       " Portal Link: https://ml.azure.com/pipeline/published/3d090321-6f02-47a3-8b97-8331fe2c5dd5/detail?wsid=/subscriptions/4faaaf21-663f-4391-96fd-47197c630979/resourcegroups/DesignerTestRG/workspaces/DesignerTest-EUS),\n",
       " '50': PublishedPipeline(Name: test_pipeline_endpoint,\n",
       " Description: None,\n",
       " Date updated: 2020-08-03 06:31:37.519489+00:00,\n",
       " Published by: Liyuan Wu,\n",
       " Last run submit time: None,\n",
       " Last run status: 0,\n",
       " Status: Active,\n",
       " Portal Link: https://ml.azure.com/pipeline/published/202b47b0-c20b-4963-8957-ad1e7291b0cb/detail?wsid=/subscriptions/4faaaf21-663f-4391-96fd-47197c630979/resourcegroups/DesignerTestRG/workspaces/DesignerTest-EUS),\n",
       " '49': PublishedPipeline(Name: test_pipeline_endpoint,\n",
       " Description: None,\n",
       " Date updated: 2020-08-03 06:25:37.076205+00:00,\n",
       " Published by: Liyuan Wu,\n",
       " Last run submit time: 2020-08-03 06:25:47.014228+00:00,\n",
       " Last run status: 3,\n",
       " Status: Active,\n",
       " Portal Link: https://ml.azure.com/pipeline/published/4bcacdfd-fe49-43b2-90c0-853e6d241bc8/detail?wsid=/subscriptions/4faaaf21-663f-4391-96fd-47197c630979/resourcegroups/DesignerTestRG/workspaces/DesignerTest-EUS),\n",
       " '48': PublishedPipeline(Name: test_pipeline_endpoint,\n",
       " Description: None,\n",
       " Date updated: 2020-08-03 06:23:46.899594+00:00,\n",
       " Published by: Liyuan Wu,\n",
       " Last run submit time: None,\n",
       " Last run status: 0,\n",
       " Status: Active,\n",
       " Portal Link: https://ml.azure.com/pipeline/published/df82ed0d-ee53-48f4-a473-c721a828a750/detail?wsid=/subscriptions/4faaaf21-663f-4391-96fd-47197c630979/resourcegroups/DesignerTestRG/workspaces/DesignerTest-EUS),\n",
       " '47': PublishedPipeline(Name: test_pipeline_endpoint,\n",
       " Description: None,\n",
       " Date updated: 2020-08-03 06:23:06.831345+00:00,\n",
       " Published by: Liyuan Wu,\n",
       " Last run submit time: None,\n",
       " Last run status: 0,\n",
       " Status: Active,\n",
       " Portal Link: https://ml.azure.com/pipeline/published/f425879f-4b90-433a-9f26-8061481afeb3/detail?wsid=/subscriptions/4faaaf21-663f-4391-96fd-47197c630979/resourcegroups/DesignerTestRG/workspaces/DesignerTest-EUS),\n",
       " '43': PublishedPipeline(Name: test_pipeline_endpoint,\n",
       " Description: None,\n",
       " Date updated: 2020-08-03 06:11:09.308307+00:00,\n",
       " Published by: Liyuan Wu,\n",
       " Last run submit time: None,\n",
       " Last run status: 0,\n",
       " Status: Active,\n",
       " Portal Link: https://ml.azure.com/pipeline/published/6ae27095-4560-4565-96a7-132c96a74e68/detail?wsid=/subscriptions/4faaaf21-663f-4391-96fd-47197c630979/resourcegroups/DesignerTestRG/workspaces/DesignerTest-EUS)}"
      ]
     },
     "execution_count": 24,
     "metadata": {},
     "output_type": "execute_result"
    }
   ],
   "source": [
    "pipelines_list"
   ]
  },
  {
   "cell_type": "markdown",
   "metadata": {},
   "source": [
    "### 8. Set default\n",
    "Set the default version of PipelineEndpoint, throws an exception if the specified pipeline is not found."
   ]
  },
  {
   "cell_type": "code",
   "execution_count": 25,
   "metadata": {},
   "outputs": [
    {
     "name": "stdout",
     "output_type": "stream",
     "text": [
      "default version BEFORE set default version: 278\n",
      "default version AFTER set default version: 0\n"
     ]
    }
   ],
   "source": [
    "default_version = '0'\n",
    "default_pipeline = pipeline_endpoint.get_pipeline(version=default_version)\n",
    "print('default version BEFORE set default version:', pipeline_endpoint.default_version)\n",
    "pipeline_endpoint.set_default(pipeline=default_pipeline)\n",
    "print('default version AFTER set default version:', pipeline_endpoint.default_version)"
   ]
  },
  {
   "cell_type": "markdown",
   "metadata": {},
   "source": [
    "### 9. Set default version"
   ]
  },
  {
   "cell_type": "code",
   "execution_count": 26,
   "metadata": {},
   "outputs": [
    {
     "name": "stdout",
     "output_type": "stream",
     "text": [
      "default version BEFORE set default version: 0\n",
      "default version AFTER set default version: 0\n"
     ]
    }
   ],
   "source": [
    "default_version = '0'\n",
    "print('default version BEFORE set default version:', pipeline_endpoint.default_version)\n",
    "pipeline_endpoint.set_default_version(version=default_version)\n",
    "print('default version AFTER set default version:', pipeline_endpoint.default_version)"
   ]
  },
  {
   "cell_type": "markdown",
   "metadata": {},
   "source": [
    "# Finish"
   ]
  },
  {
   "cell_type": "code",
   "execution_count": 31,
   "metadata": {
    "pycharm": {
     "name": "#%%\n"
    }
   },
   "outputs": [],
   "source": [
    "version_list = list(pipelines_list.keys())\n",
    "pipelines_list[version_list[0]].disable()\n",
    "pipelines_list[version_list[1]].disable()"
   ]
  },
  {
   "cell_type": "code",
   "execution_count": null,
   "metadata": {},
   "outputs": [],
   "source": []
  }
 ],
 "metadata": {
  "kernelspec": {
   "display_name": "aml",
   "language": "python",
   "name": "aml"
  },
  "language_info": {
   "codemirror_mode": {
    "name": "ipython",
    "version": 3
   },
   "file_extension": ".py",
   "mimetype": "text/x-python",
   "name": "python",
   "nbconvert_exporter": "python",
   "pygments_lexer": "ipython3",
   "version": "3.7.6"
  }
 },
 "nbformat": 4,
 "nbformat_minor": 4
}
