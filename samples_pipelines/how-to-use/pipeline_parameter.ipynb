{
 "cells": [
  {
   "cell_type": "code",
   "execution_count": null,
   "metadata": {},
   "outputs": [],
   "source": [
    "import os\n",
    "from azureml.core import Workspace, Datastore, Dataset\n",
    "from azureml.pipeline.wrapper import Module, dsl\n",
    "from azureml.pipeline.wrapper._dataset import get_global_dataset_by_path\n",
    "from azureml.core.compute import AmlCompute, ComputeTarget"
   ]
  },
  {
   "cell_type": "code",
   "execution_count": null,
   "metadata": {},
   "outputs": [],
   "source": [
    "ws = Workspace.from_config()\n",
    "print(ws.name, ws.resource_group, ws.location, ws.subscription_id, sep='\\n')\n",
    "\n",
    "aml_compute_target = \"aml-compute\"\n",
    "try:\n",
    "    aml_compute = AmlCompute(ws, aml_compute_target)\n",
    "    print(\"Found existing compute target: {}\".format(aml_compute_target))\n",
    "except:\n",
    "    print(\"Creating new compute target: {}\".format(aml_compute_target))\n",
    "\n",
    "    provisioning_config = AmlCompute.provisioning_configuration(vm_size=\"STANDARD_D2_V2\",\n",
    "                                                                min_nodes=1,\n",
    "                                                                max_nodes=4)    \n",
    "    aml_compute = ComputeTarget.create(ws, aml_compute_target, provisioning_config)\n",
    "    aml_compute.wait_for_completion(show_output=True, min_node_count=None, timeout_in_minutes=20)"
   ]
  },
  {
   "cell_type": "code",
   "execution_count": null,
   "metadata": {},
   "outputs": [],
   "source": [
    "# Module\n",
    "select_columns_in_dataset = Module.load(ws, namespace='azureml', name='Select Columns in Dataset')\n",
    "clean_missing_data = Module.load(ws, namespace='azureml', name='Clean Missing Data')\n",
    "split_data = Module.load(ws, namespace='azureml', name='Split Data')\n",
    "join_data = Module.load(ws, namespace='azureml', name='Join Data')\n",
    "\n",
    "\n",
    "# Dataset\n",
    "try:\n",
    "    dset = Dataset.get_by_name(ws, 'Automobile_price_data_(Raw)')\n",
    "except Exception:\n",
    "    global_datastore = Datastore(ws, name=\"azureml_globaldatasets\")\n",
    "    dset = Dataset.File.from_files(global_datastore.path('GenericCSV/Automobile_price_data_(Raw)'))\n",
    "    dset.register(workspace=ws,\n",
    "                  name='Automobile_price_data_(Raw)',\n",
    "                  create_new_version=True)\n",
    "blob_input_data = dset"
   ]
  },
  {
   "cell_type": "code",
   "execution_count": null,
   "metadata": {},
   "outputs": [],
   "source": [
    "# sub pipeline: TODO improve this experience\n",
    "@dsl.pipeline(name='sub sub', description='sub')\n",
    "def sub_sub_pipeline(minimum_missing_value_ratio):\n",
    "    module1 = select_columns_in_dataset(\n",
    "        dataset=blob_input_data,\n",
    "        select_columns=\"{\\\"isFilter\\\":true,\\\"rules\\\":[{\\\"exclude\\\":false,\\\"ruleType\\\":\\\"AllColumns\\\"},\"\n",
    "                       \"{\\\"exclude\\\":true,\\\"ruleType\\\":\\\"ColumnNames\\\",\\\"columns\\\":[\\\"normalized-losses\\\"]}]}\"\n",
    "    )\n",
    "    module2 = clean_missing_data(\n",
    "        dataset=module1.outputs.results_dataset,\n",
    "        columns_to_be_cleaned=\"{\\\"isFilter\\\":true,\\\"rules\\\":[{\\\"ruleType\\\":\\\"AllColumns\\\",\\\"exclude\\\":false}]}\",\n",
    "        cleaning_mode='Remove entire row',\n",
    "        minimum_missing_value_ratio=minimum_missing_value_ratio\n",
    "    )\n",
    "    return module2.outputs\n",
    "\n",
    "@dsl.pipeline(name='sub', description='sub', default_compute_target='aml-compute')\n",
    "def sub_pipeline(random_seed, minimum_missing_value_ratio):\n",
    "    sub_sub_pipeline1 = sub_sub_pipeline(minimum_missing_value_ratio)\n",
    "    module3 = split_data(\n",
    "        dataset=sub_sub_pipeline1.outputs.cleaned_dataset,\n",
    "        splitting_mode='Split Rows',\n",
    "        randomized_split='True',\n",
    "        stratified_split='False',\n",
    "        random_seed=random_seed\n",
    "    )\n",
    "    return module3.outputs\n",
    "\n",
    "@dsl.pipeline(name='parent', description='parent', default_compute_target='aml-compute')\n",
    "def test_pipeline():\n",
    "    # the sub pipeline's param won't be parsed into pipeline parameter\n",
    "    sub_pipeline1 = sub_pipeline('0', 0.0)\n",
    "    sub_pipeline2 = sub_pipeline('0', 0.0)\n",
    "    module4 = join_data(\n",
    "        dataset1=sub_pipeline1.outputs.results_dataset1,\n",
    "        dataset2=sub_pipeline2.outputs.results_dataset1,\n",
    "        comma_separated_case_sensitive_names_of_join_key_columns_for_l='%7B%22isFilter%22%3Atrue%2C%22rules%22%3A%5B%7B%22'\n",
    "                                                                       'exclude%22%3Afalse%2C%22ruleType%22%3A%22AllColumns%22%7D%5D%7D',\n",
    "        comma_separated_case_sensitive_names_of_join_key_columns_for_r='%7B%22isFilter%22%3Atrue%2C%22rules%22%3A%5B%7B%22'\n",
    "                                                                       'exclude%22%3Afalse%2C%22ruleType%22%3A%22AllColumns%22%7D%5D%7D',\n",
    "    )\n",
    "    return module4.outputs\n",
    "\n",
    "# pipeline's param will be parsed into pipeline parameter\n",
    "pipeline1 = sub_pipeline('0', 0.0)\n",
    "pipeline2 = test_pipeline()"
   ]
  },
  {
   "cell_type": "code",
   "execution_count": null,
   "metadata": {
    "pycharm": {
     "name": "#%%\n"
    }
   },
   "outputs": [],
   "source": [
    "pipelines = [pipeline1, pipeline2]\n",
    "\n",
    "for pipeline in pipelines:\n",
    "    run = pipeline.submit(\n",
    "        experiment_name='module_SDK_pipeline_parameter_test'\n",
    "    )\n",
    "    run.wait_for_completion()\n",
    "    pipeline.save(\n",
    "        experiment_name='module_SDK_pipeline_parameter_test'\n",
    "    )\n"
   ]
  },
  {
   "cell_type": "code",
   "execution_count": null,
   "outputs": [],
   "source": [
    "pipeline2.outputs\n",
    "\n"
   ],
   "metadata": {
    "collapsed": false,
    "pycharm": {
     "name": "#%%\n"
    }
   }
  }
 ],
 "metadata": {
  "authors": [
   {
    "name": "clwan"
   }
  ],
  "file_extension": ".py",
  "kernelspec": {
   "display_name": "Python (aml1)",
   "language": "python",
   "name": "aml1"
  },
  "language_info": {
   "codemirror_mode": {
    "name": "ipython",
    "version": 3
   },
   "file_extension": ".py",
   "mimetype": "text/x-python",
   "name": "python",
   "nbconvert_exporter": "python",
   "pygments_lexer": "ipython3",
   "version": "3.6.5-final"
  },
  "mimetype": "text/x-python",
  "name": "python",
  "npconvert_exporter": "python",
  "pygments_lexer": "ipython3",
  "version": 3
 },
 "nbformat": 4,
 "nbformat_minor": 2
}