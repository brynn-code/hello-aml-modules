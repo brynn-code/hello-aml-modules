{
 "cells": [
  {
   "cell_type": "code",
   "execution_count": 1,
   "metadata": {},
   "outputs": [
    {
     "name": "stderr",
     "output_type": "stream",
     "text": [
      "Failure while loading azureml_run_type_providers. Failed to load entrypoint azureml.scriptrun = azureml.core.script_run:ScriptRun._from_run_dto with exception (azure-mgmt-network 11.0.0 (c:\\users\\biyi\\anaconda3\\envs\\aml\\lib\\site-packages), Requirement.parse('azure-mgmt-network~=10.0')).\n",
      "Failure while loading azureml_run_type_providers. Failed to load entrypoint azureml.PipelineRun = azureml.pipeline.core.run:PipelineRun._from_dto with exception (azure-mgmt-network 11.0.0 (c:\\users\\biyi\\anaconda3\\envs\\aml\\lib\\site-packages), Requirement.parse('azure-mgmt-network~=10.0'), {'azureml-core'}).\n",
      "Failure while loading azureml_run_type_providers. Failed to load entrypoint azureml.ReusedStepRun = azureml.pipeline.core.run:StepRun._from_reused_dto with exception (azure-mgmt-network 11.0.0 (c:\\users\\biyi\\anaconda3\\envs\\aml\\lib\\site-packages), Requirement.parse('azure-mgmt-network~=10.0'), {'azureml-core'}).\n",
      "Failure while loading azureml_run_type_providers. Failed to load entrypoint azureml.StepRun = azureml.pipeline.core.run:StepRun._from_dto with exception (azure-mgmt-network 11.0.0 (c:\\users\\biyi\\anaconda3\\envs\\aml\\lib\\site-packages), Requirement.parse('azure-mgmt-network~=10.0'), {'azureml-core'}).\n",
      "Failure while loading azureml_run_type_providers. Failed to load entrypoint hyperdrive = azureml.train.hyperdrive:HyperDriveRun._from_run_dto with exception (azure-mgmt-network 11.0.0 (c:\\users\\biyi\\anaconda3\\envs\\aml\\lib\\site-packages), Requirement.parse('azure-mgmt-network~=10.0'), {'azureml-core'}).\n",
      "Warning: Falling back to use azure cli login credentials.\n",
      "If you run your code in unattended mode, i.e., where you can't give a user input, then we recommend to use ServicePrincipalAuthentication or MsiAuthentication.\n",
      "Please refer to aka.ms/aml-notebook-auth for different authentication mechanisms in azureml-sdk.\n"
     ]
    },
    {
     "name": "stdout",
     "output_type": "stream",
     "text": [
      "DesignerTest-EUS\n",
      "DesignerTestRG\n",
      "eastus\n",
      "4faaaf21-663f-4391-96fd-47197c630979\n",
      "Found existing compute target: gpu-cluster\n"
     ]
    }
   ],
   "source": [
    "import os\n",
    "\n",
    "from azureml.core import Workspace, Dataset\n",
    "from azureml.core.compute import AmlCompute, ComputeTarget\n",
    "\n",
    "from azureml.pipeline.wrapper import Module, dsl\n",
    "from azureml.pipeline.wrapper._dataset import get_global_dataset_by_path\n",
    "ws = Workspace.from_config()\n",
    "#ws = Workspace.get(name='itp-pilot', subscription_id='4aaa645c-5ae2-4ae9-a17a-84b9023bc56a', resource_group='itp-pilot-ResGrp')\n",
    "print(ws.name, ws.resource_group, ws.location, ws.subscription_id, sep='\\n')\n",
    "\n",
    "# prepare compite\n",
    "pipeline_compute = \"gpu-cluster\"\n",
    "try:\n",
    "    aml_compute = AmlCompute(ws, pipeline_compute)\n",
    "    print(\"Found existing compute target: {}\".format(pipeline_compute))\n",
    "except:\n",
    "    print(\"Creating new compute target: {}\".format(pipeline_compute))\n",
    "    \n",
    "    provisioning_config = AmlCompute.provisioning_configuration(vm_size = \"STANDARD_D2_V2\",\n",
    "                                                                min_nodes = 1, \n",
    "                                                                max_nodes = 4)    \n",
    "    aml_compute = ComputeTarget.create(ws, pipeline_compute, provisioning_config)\n",
    "    aml_compute.wait_for_completion(show_output=True, min_node_count=None, timeout_in_minutes=20)"
   ]
  },
  {
   "cell_type": "code",
   "execution_count": 2,
   "metadata": {},
   "outputs": [],
   "source": [
    "# prepare module functions\n",
    "base_module_dir = os.path.join('.', 'modules', 'train-score-eval')\n",
    "try:\n",
    "    train_module_func = Module.load(ws, namespace='microsoft.com/aml/samples', name='MPI Train')\n",
    "except Exception:\n",
    "    train_module_func = Module.register(ws, yaml_file=os.path.join(base_module_dir, 'mpi_train.yaml'))\n",
    "\n",
    "\n",
    "try:\n",
    "    score_module_func = Module.load(ws, namespace='microsoft.com/aml/samples', name='Score')\n",
    "except Exception:\n",
    "    score_module_func = Module.register(ws, yaml_file=os.path.join(base_module_dir, 'score.yaml'))    \n",
    "\n",
    "    \n",
    "try:\n",
    "    eval_module_func = Module.load(ws, namespace='microsoft.com/aml/samples', name='Evaluate')\n",
    "except Exception:\n",
    "    eval_module_func = Module.register(ws, yaml_file=os.path.join(base_module_dir, 'evaluate.yaml'))    \n",
    "    \n",
    "\n",
    "try:\n",
    "    compare_module_func = Module.load(ws, namespace='microsoft.com/aml/samples', name='Compare 2 Models')\n",
    "except Exception:\n",
    "    compare_module_func = Module.register(ws, yaml_file=os.path.join(base_module_dir, 'compare2.yaml'))    "
   ]
  },
  {
   "cell_type": "code",
   "execution_count": 3,
   "metadata": {},
   "outputs": [
    {
     "name": "stdout",
     "output_type": "stream",
     "text": [
      "Training dataset found in workspace\n"
     ]
    }
   ],
   "source": [
    "# prepare dataset\n",
    "training_data_name = 'aml_module_training_data'\n",
    "\n",
    "if training_data_name not in ws.datasets:\n",
    "    print('Registering a training dataset for sample pipeline ...')\n",
    "    train_data = Dataset.File.from_files(path=['https://dprepdata.blob.core.windows.net/demo/Titanic.csv'])\n",
    "    train_data.register(workspace=ws,\n",
    "                        name=training_data_name,\n",
    "                        description='Training data (just for illustrative purpose)')\n",
    "    print('Registerd')\n",
    "else:\n",
    "    train_data = ws.datasets[training_data_name]\n",
    "    print('Training dataset found in workspace')\n",
    "\n",
    "test_data = get_global_dataset_by_path(ws, 'Automobile_price_data', 'GenericCSV/Automobile_price_data_(Raw)')"
   ]
  },
  {
   "cell_type": "code",
   "execution_count": 4,
   "metadata": {},
   "outputs": [],
   "source": [
    "@dsl.pipeline(name = 'A sub pipeline including train/score/eval',\n",
    "              description = 'train model and evaluate model perf')\n",
    "def training_pipeline(input_data, test_data, learning_rate):\n",
    "   train = train_module_func(\n",
    "       training_data=input_data,\n",
    "       max_epochs=5,\n",
    "       learning_rate=learning_rate)\n",
    "\n",
    "   train.runsettings.configure(process_count_per_node = 2, node_count = 2)\n",
    "\n",
    "   score = score_module_func(\n",
    "       model_input=train.outputs.model_output,\n",
    "       test_data=test_data)\n",
    "\n",
    "   eval = eval_module_func(scoring_result=score.outputs.score_output)\n",
    "\n",
    "   return {'eval_output': eval.outputs.eval_output, 'model_output': train.outputs.model_output}\n",
    "\n",
    "@dsl.pipeline(name = 'A dummy pipeline that trains multiple models and output the best one',\n",
    "              description = 'select best model trained with different learning rate',\n",
    "              default_compute_target = pipeline_compute)\n",
    "def dummy_automl_pipeline():\n",
    "    train_and_evalute_model1 = training_pipeline(train_data, test_data, 0.01)\n",
    "    train_and_evalute_model2 = training_pipeline(train_data, test_data, 0.02)\n",
    "\n",
    "    compare = compare_module_func(\n",
    "        model1=train_and_evalute_model1.outputs.model_output,\n",
    "        eval_result1=train_and_evalute_model1.outputs.eval_output,\n",
    "        model2=train_and_evalute_model2.outputs.model_output,\n",
    "        eval_result2=train_and_evalute_model2.outputs.eval_output\n",
    "    )\n",
    "\n",
    "    return {'best_model': compare.outputs.best_model}\n"
   ]
  },
  {
   "cell_type": "code",
   "execution_count": 5,
   "metadata": {},
   "outputs": [
    {
     "data": {
      "application/javascript": [
       "try {\n",
       "    require.undef(\"validate_widget\")\n",
       "\n",
       "    define('validate_widget', [\"@jupyter-widgets/base\"], function(widgets) {\n",
       "        var ValidateView = widgets.DOMWidgetView.extend({\n",
       "            render () {\n",
       "                window.widget_self = this\n",
       "                var visualize_id = this.model.get('visualize_id')\n",
       "\n",
       "                if (!window._renderLock) {\n",
       "                    window._renderLock = {}\n",
       "                }\n",
       "                if (window._renderLock[visualize_id]) {\n",
       "                    return\n",
       "                }\n",
       "                window._renderLock[visualize_id] = \"widget\"\n",
       "                console.log(\"load as widget\", Date.now())\n",
       "\n",
       "                var lib_url = this.model.get('lib_url')\n",
       "                var graph_json = JSON.parse(this.model.get('graph_json'))\n",
       "                var env_json = JSON.parse(this.model.get('env_json'))\n",
       "                var container_id = this.model.get('container_id')\n",
       "\n",
       "                window.render_container_id = container_id\n",
       "                window.graph_json = graph_json\n",
       "                window.graph_json_to_compare = undefined\n",
       "                window.env_json = env_json\n",
       "                window.before_script = performance.now()\n",
       "\n",
       "                var container = document.createElement('div')\n",
       "                container.id = container_id\n",
       "                this.el.appendChild(container)\n",
       "\n",
       "                var style = document.createElement('style')\n",
       "                style.innerHTML = [\n",
       "                    \"#\", container_id, \" svg.react-dag-editor-svg-container { height: 800px; }\",\n",
       "                    \".cell-output-ipywidget-background { background: transparent !important }\"\n",
       "                ].join('')\n",
       "                this.el.appendChild(style)\n",
       "\n",
       "                this.model.on('msg:custom', dispatchMessage, this);\n",
       "\n",
       "                if (!window.__event_hub) {\n",
       "                    window.__event_hub = {}\n",
       "                }\n",
       "                if (!window.__event_hub[container_id]) {\n",
       "                    window.__event_hub[container_id] = {}\n",
       "                }\n",
       "\n",
       "                if (!window.__send_event) {\n",
       "                    window.__send_event = {}\n",
       "                }\n",
       "                window.__send_event[container_id] = sendMessage.bind(this)\n",
       "\n",
       "                function sendMessage(message, uid, content) {\n",
       "                    return new Promise((resolve) => {\n",
       "                        this.model.send({\n",
       "                            message: `${message}:request`,\n",
       "                            body: {\n",
       "                                uid,\n",
       "                                content\n",
       "                            }\n",
       "                        })\n",
       "    \n",
       "                        var respMessageKey = `${message}:response`\n",
       "                        if (!window.__event_hub[container_id][respMessageKey]) {\n",
       "                            window.__event_hub[container_id][respMessageKey] = []\n",
       "                        }\n",
       "                        window.__event_hub[container_id][respMessageKey].push(callback)\n",
       "    \n",
       "                        function callback (response) {\n",
       "                            if (response.uid !== uid) {\n",
       "                                return\n",
       "                            }\n",
       "\n",
       "                            var idx = window.__event_hub[container_id][respMessageKey].indexOf(callback) \n",
       "                            window.__event_hub[container_id][respMessageKey].splice(idx, 1)\n",
       "                            \n",
       "                            resolve(response)\n",
       "                        }\n",
       "                    })\n",
       "                }\n",
       "\n",
       "                function dispatchMessage (rawMessage) {\n",
       "                    var message = rawMessage.message\n",
       "                    var body = rawMessage.body\n",
       "\n",
       "                    if (!window.__event_hub[container_id][message]) {\n",
       "                        window.__event_hub[container_id][message] = []\n",
       "                    }\n",
       "                    var listeners = window.__event_hub[container_id][message]\n",
       "\n",
       "                    listeners.forEach(cb => {\n",
       "                        try {\n",
       "                            cb(body)\n",
       "                        } catch (e) {\n",
       "                            console.error(\"Unexpected error in listener\", e)\n",
       "                        }\n",
       "                    })\n",
       "\n",
       "                    console.log(body)\n",
       "                }\n",
       "\n",
       "                var script = document.createElement('script')\n",
       "                script.src = lib_url\n",
       "                this.el.appendChild(script)\n",
       "            }\n",
       "        });\n",
       "\n",
       "        return {\n",
       "            ValidateView\n",
       "        }\n",
       "    })\n",
       "} catch (e) {\n",
       "    console.log(\"create validation widget failed\", e)\n",
       "}"
      ],
      "text/plain": [
       "<IPython.core.display.Javascript object>"
      ]
     },
     "metadata": {},
     "output_type": "display_data"
    },
    {
     "data": {
      "application/vnd.jupyter.widget-view+json": {
       "model_id": "7e0a4bc6600a4e229d4f23c65ba2aab4",
       "version_major": 2,
       "version_minor": 0
      },
      "text/plain": [
       "ValidateView(container_id='container_id_87e9715e-37f9-4adc-bfc6-1ca437213537_widget', env_json='{\"subscription…"
      ]
     },
     "metadata": {},
     "output_type": "display_data"
    },
    {
     "data": {
      "text/html": [
       "\n",
       "        <style>\n",
       "        #container_id_87e9715e-37f9-4adc-bfc6-1ca437213537_script svg.react-dag-editor-svg-container {\n",
       "            height: 800px;\n",
       "        }\n",
       "        </style>\n",
       "        <div id=\"container_id_87e9715e-37f9-4adc-bfc6-1ca437213537_script\"></div>\n",
       "        <script>\n",
       "            (function () {\n",
       "                if (!window._renderLock) {\n",
       "                    window._renderLock = {}\n",
       "                }\n",
       "                if (window._renderLock[\"87e9715e-37f9-4adc-bfc6-1ca437213537\"]) {\n",
       "                    return\n",
       "                }\n",
       "                window._renderLock[\"87e9715e-37f9-4adc-bfc6-1ca437213537\"] = \"script\"\n",
       "                console.log(\"load as script\", Date.now())\n",
       "                window.render_container_id=\"container_id_87e9715e-37f9-4adc-bfc6-1ca437213537_script\";\n",
       "                window.graph_json={\"pipeline\": {\"name\": [\"A dummy pipeline that trains multiple models and output the best one\"], \"data_references\": {\"aml_module_training_data\": {\"dataset_id\": \"26244731-3820-4c47-a871-70461c69eee1\"}, \"genericcsv_automobile_price_data_raw\": {\"datastore\": \"azureml_globaldatasets\", \"path_on_datastore\": \"GenericCSV/Automobile_price_data_(Raw)\"}}, \"steps\": {\"48df602e\": {\"inputs\": {\"training_data\": {\"source\": \"aml_module_training_data\"}}, \"outputs\": {\"model_output\": {\"destination\": \"8acc07e9-1bb8-462b-b76a-59592e5d77de_model_output\"}}, \"module\": {\"id\": \"8cd644a9-f71c-4128-b76a-08b027b27629\", \"version\": \"0.0.5\"}, \"parameters\": {\"max_epochs\": 5, \"learning_rate\": 0.01}, \"validate\": {\"error\": [], \"module_id\": \"8cd644a9-f71c-4128-b76a-08b027b27629\", \"namespace\": \"microsoft.com/aml/samples\", \"module_name\": \"MPI Train\", \"module_version\": \"0.0.5\"}}, \"e1b85fe2\": {\"inputs\": {\"model_input\": {\"source\": \"8acc07e9-1bb8-462b-b76a-59592e5d77de_model_output\"}, \"test_data\": {\"source\": \"genericcsv_automobile_price_data_raw\"}}, \"outputs\": {\"score_output\": {\"destination\": \"e6d610de-eafe-466f-8206-28c9e4a35aea_score_output\"}}, \"module\": {\"id\": \"46dad2ad-5774-4dc3-91d8-8502ac565024\", \"version\": \"0.0.3\"}, \"parameters\": {}, \"validate\": {\"error\": [], \"module_id\": \"46dad2ad-5774-4dc3-91d8-8502ac565024\", \"namespace\": \"microsoft.com/aml/samples\", \"module_name\": \"Score\", \"module_version\": \"0.0.3\"}}, \"9aaa2011\": {\"inputs\": {\"scoring_result\": {\"source\": \"e6d610de-eafe-466f-8206-28c9e4a35aea_score_output\"}}, \"outputs\": {\"eval_output\": {\"destination\": \"42e675a4-57a9-436b-972a-f0c3ca1a1c04_eval_output\"}}, \"module\": {\"id\": \"1af793be-561f-49f9-9c61-f4dfce75d027\", \"version\": \"0.0.4\"}, \"parameters\": {}, \"validate\": {\"error\": [], \"module_id\": \"1af793be-561f-49f9-9c61-f4dfce75d027\", \"namespace\": \"microsoft.com/aml/samples\", \"module_name\": \"Evaluate\", \"module_version\": \"0.0.4\"}}, \"be4bb297\": {\"inputs\": {\"training_data\": {\"source\": \"aml_module_training_data\"}}, \"outputs\": {\"model_output\": {\"destination\": \"d6dfb8b9-7af5-4479-97c2-e549b9c499f9_model_output\"}}, \"module\": {\"id\": \"8cd644a9-f71c-4128-b76a-08b027b27629\", \"version\": \"0.0.5\"}, \"parameters\": {\"max_epochs\": 5, \"learning_rate\": 0.02}, \"validate\": {\"error\": [], \"module_id\": \"8cd644a9-f71c-4128-b76a-08b027b27629\", \"namespace\": \"microsoft.com/aml/samples\", \"module_name\": \"MPI Train\", \"module_version\": \"0.0.5\"}}, \"ff4bc63a\": {\"inputs\": {\"model_input\": {\"source\": \"d6dfb8b9-7af5-4479-97c2-e549b9c499f9_model_output\"}, \"test_data\": {\"source\": \"genericcsv_automobile_price_data_raw\"}}, \"outputs\": {\"score_output\": {\"destination\": \"f605a034-0370-4b12-9142-77fa7affbe36_score_output\"}}, \"module\": {\"id\": \"46dad2ad-5774-4dc3-91d8-8502ac565024\", \"version\": \"0.0.3\"}, \"parameters\": {}, \"validate\": {\"error\": [], \"module_id\": \"46dad2ad-5774-4dc3-91d8-8502ac565024\", \"namespace\": \"microsoft.com/aml/samples\", \"module_name\": \"Score\", \"module_version\": \"0.0.3\"}}, \"27db526d\": {\"inputs\": {\"scoring_result\": {\"source\": \"f605a034-0370-4b12-9142-77fa7affbe36_score_output\"}}, \"outputs\": {\"eval_output\": {\"destination\": \"814b408d-4b1e-47df-aecc-82ea634bb4b3_eval_output\"}}, \"module\": {\"id\": \"1af793be-561f-49f9-9c61-f4dfce75d027\", \"version\": \"0.0.4\"}, \"parameters\": {}, \"validate\": {\"error\": [], \"module_id\": \"1af793be-561f-49f9-9c61-f4dfce75d027\", \"namespace\": \"microsoft.com/aml/samples\", \"module_name\": \"Evaluate\", \"module_version\": \"0.0.4\"}}, \"7c12938f\": {\"inputs\": {\"model1\": {\"source\": \"8acc07e9-1bb8-462b-b76a-59592e5d77de_model_output\"}, \"eval_result1\": {\"source\": \"42e675a4-57a9-436b-972a-f0c3ca1a1c04_eval_output\"}, \"model2\": {\"source\": \"d6dfb8b9-7af5-4479-97c2-e549b9c499f9_model_output\"}, \"eval_result2\": {\"source\": \"814b408d-4b1e-47df-aecc-82ea634bb4b3_eval_output\"}}, \"outputs\": {\"best_model\": {\"destination\": \"0dabe67f-f7ab-4083-b49f-c90657db3db1_best_model\"}, \"best_result\": {\"destination\": \"0dabe67f-f7ab-4083-b49f-c90657db3db1_best_result\"}}, \"module\": {\"id\": \"636ec5fe-bdf5-49c8-948d-ab733315fb2f\", \"version\": \"0.0.5\"}, \"parameters\": {}, \"validate\": {\"error\": [], \"module_id\": \"636ec5fe-bdf5-49c8-948d-ab733315fb2f\", \"namespace\": \"microsoft.com/aml/samples\", \"module_name\": \"Compare 2 Models\", \"module_version\": \"0.0.5\"}}}}, \"modules\": [{\"module_id\": \"8cd644a9-f71c-4128-b76a-08b027b27629\", \"version\": \"0.0.5\", \"name\": \"MPI Train\", \"namespace\": \"microsoft.com/aml/samples\", \"structured_interface\": {\"inputs\": [{\"name\": \"training_data\", \"label\": \"training_data\", \"description\": \"Training data organized in the torchvision format/structure\", \"data_type_ids_list\": [\"AnyFile\", \"AnyDirectory\"]}], \"outputs\": [{\"name\": \"model_output\", \"label\": \"model_output\", \"description\": \"The output model (zipped)\", \"data_type_id\": \"AnyFile\"}]}}, {\"module_id\": \"46dad2ad-5774-4dc3-91d8-8502ac565024\", \"version\": \"0.0.3\", \"name\": \"Score\", \"namespace\": \"microsoft.com/aml/samples\", \"structured_interface\": {\"inputs\": [{\"name\": \"model_input\", \"label\": \"model_input\", \"description\": null, \"data_type_ids_list\": [\"AnyFile\"]}, {\"name\": \"test_data\", \"label\": \"test_data\", \"description\": null, \"data_type_ids_list\": [\"AnyFile\", \"AnyDirectory\"]}], \"outputs\": [{\"name\": \"score_output\", \"label\": \"score_output\", \"description\": null, \"data_type_id\": \"AnyFile\"}]}}, {\"module_id\": \"1af793be-561f-49f9-9c61-f4dfce75d027\", \"version\": \"0.0.4\", \"name\": \"Evaluate\", \"namespace\": \"microsoft.com/aml/samples\", \"structured_interface\": {\"inputs\": [{\"name\": \"scoring_result\", \"label\": \"scoring_result\", \"description\": null, \"data_type_ids_list\": [\"AnyFile\"]}], \"outputs\": [{\"name\": \"eval_output\", \"label\": \"eval_output\", \"description\": null, \"data_type_id\": \"AnyDirectory\"}]}}, {\"module_id\": \"636ec5fe-bdf5-49c8-948d-ab733315fb2f\", \"version\": \"0.0.5\", \"name\": \"Compare 2 Models\", \"namespace\": \"microsoft.com/aml/samples\", \"structured_interface\": {\"inputs\": [{\"name\": \"model1\", \"label\": \"model1\", \"description\": null, \"data_type_ids_list\": [\"AnyFile\"]}, {\"name\": \"eval_result1\", \"label\": \"eval_result1\", \"description\": null, \"data_type_ids_list\": [\"AnyFile\"]}, {\"name\": \"model2\", \"label\": \"model2\", \"description\": null, \"data_type_ids_list\": [\"AnyFile\"]}, {\"name\": \"eval_result2\", \"label\": \"eval_result2\", \"description\": null, \"data_type_ids_list\": [\"AnyFile\"]}], \"outputs\": [{\"name\": \"best_model\", \"label\": \"best_model\", \"description\": null, \"data_type_id\": \"AnyFile\"}, {\"name\": \"best_result\", \"label\": \"best_result\", \"description\": null, \"data_type_id\": \"AnyFile\"}]}}], \"datasources\": [{\"name\": \"aml_module_training_data\", \"description\": \"Training data (just for illustrative purpose)\", \"version\": 1, \"tags\": {}, \"registered_id\": \"26244731-3820-4c47-a871-70461c69eee1\", \"saved_id\": \"3680fe5e-306b-4489-ba3d-02e9afd12d9d\", \"nodeId\": \"e49c009e-ced8-3190-914e-d445fe95197a\"}, {\"data_reference_name\": \"genericcsv_automobile_price_data_raw\", \"path_on_datastore\": \"GenericCSV/Automobile_price_data_(Raw)\", \"datastore\": \"azureml_globaldatasets\", \"nodeId\": \"fada1314-c106-37d2-81dc-6ea1068f7f9a\"}], \"subGraphInfo\": [{\"name\": \"A dummy pipeline that trains multiple models and output the best one\", \"description\": \"select best model trained with different learning rate\", \"default_compute_target\": {\"name\": \"gpu-cluster\"}, \"default_data_store\": {\"data_store_name\": \"workspaceblobstore\"}, \"id\": \"bb58d9f5-8a2f-4c6e-a8cc-914d096d5a04\", \"pipeline_definition_id\": \"92f9c0e3-a3d1-431b-9ee5-b7440f31ca02\", \"sub_graph_parameter_assignment\": [], \"sub_graph_data_path_parameter_assignment\": [], \"sub_graph_default_compute_target_nodes\": [\"7c12938f\"], \"sub_graph_default_data_store_nodes\": [\"7c12938f\"], \"inputs\": [], \"outputs\": [{\"name\": \"best_model\", \"internal\": [{\"node_id\": \"7c12938f\", \"port_name\": \"best_model\"}], \"external\": []}]}, {\"name\": \"A sub pipeline including train/score/eval\", \"description\": \"train model and evaluate model perf\", \"default_compute_target\": {}, \"default_data_store\": {\"data_store_name\": \"workspaceblobstore\"}, \"id\": \"e37b64e8-e8b4-4297-b8df-ffa340ab231d\", \"parent_graph_id\": \"bb58d9f5-8a2f-4c6e-a8cc-914d096d5a04\", \"pipeline_definition_id\": \"71501857-379b-4618-8b85-5588465a4512\", \"sub_graph_parameter_assignment\": [{\"parameter\": {\"name\": \"input_data\"}, \"parameter_assignments\": [{\"node_id\": \"48df602e\", \"parameter_name\": \"training_data\"}]}, {\"parameter\": {\"name\": \"test_data\"}, \"parameter_assignments\": [{\"node_id\": \"e1b85fe2\", \"parameter_name\": \"test_data\"}]}, {\"parameter\": {\"name\": \"learning_rate\"}, \"parameter_assignments\": [{\"node_id\": \"48df602e\", \"parameter_name\": \"learning_rate\"}]}], \"sub_graph_data_path_parameter_assignment\": [{\"data_set_path_parameter\": {\"name\": \"input_data\", \"default_value\": {\"data_set_reference\": {\"id\": \"26244731-3820-4c47-a871-70461c69eee1\", \"version\": \"1\"}}, \"is_optional\": false, \"data_type_id\": \"DataFrameDirectory\"}, \"data_set_path_parameter_assignments\": []}], \"sub_graph_default_compute_target_nodes\": [\"48df602e\", \"e1b85fe2\", \"9aaa2011\"], \"sub_graph_default_data_store_nodes\": [], \"inputs\": [{\"name\": \"input_data\", \"internal\": [{\"node_id\": \"48df602e\", \"port_name\": \"training_data\"}], \"external\": [{\"node_id\": \"e49c009e-ced8-3190-914e-d445fe95197a\", \"port_name\": \"output\"}]}, {\"name\": \"test_data\", \"internal\": [{\"node_id\": \"e1b85fe2\", \"port_name\": \"test_data\"}], \"external\": [{\"node_id\": \"fada1314-c106-37d2-81dc-6ea1068f7f9a\", \"port_name\": \"output\"}]}], \"outputs\": [{\"name\": \"eval_output\", \"internal\": [{\"node_id\": \"9aaa2011\", \"port_name\": \"eval_output\"}], \"external\": [{\"node_id\": \"7c12938f\", \"port_name\": \"eval_result1\"}]}, {\"name\": \"model_output\", \"internal\": [{\"node_id\": \"48df602e\", \"port_name\": \"model_output\"}], \"external\": [{\"node_id\": \"e1b85fe2\", \"port_name\": \"model_input\"}, {\"node_id\": \"7c12938f\", \"port_name\": \"model1\"}]}]}, {\"name\": \"A sub pipeline including train/score/eval\", \"description\": \"train model and evaluate model perf\", \"default_compute_target\": {}, \"default_data_store\": {\"data_store_name\": \"workspaceblobstore\"}, \"id\": \"22e2aa26-6ef9-45ad-b2c2-9ee3ad0f9f48\", \"parent_graph_id\": \"bb58d9f5-8a2f-4c6e-a8cc-914d096d5a04\", \"pipeline_definition_id\": \"71501857-379b-4618-8b85-5588465a4512\", \"sub_graph_parameter_assignment\": [{\"parameter\": {\"name\": \"input_data\"}, \"parameter_assignments\": [{\"node_id\": \"be4bb297\", \"parameter_name\": \"training_data\"}]}, {\"parameter\": {\"name\": \"test_data\"}, \"parameter_assignments\": [{\"node_id\": \"ff4bc63a\", \"parameter_name\": \"test_data\"}]}, {\"parameter\": {\"name\": \"learning_rate\"}, \"parameter_assignments\": [{\"node_id\": \"be4bb297\", \"parameter_name\": \"learning_rate\"}]}], \"sub_graph_data_path_parameter_assignment\": [{\"data_set_path_parameter\": {\"name\": \"input_data\", \"default_value\": {\"data_set_reference\": {\"id\": \"26244731-3820-4c47-a871-70461c69eee1\", \"version\": \"1\"}}, \"is_optional\": false, \"data_type_id\": \"DataFrameDirectory\"}, \"data_set_path_parameter_assignments\": []}], \"sub_graph_default_compute_target_nodes\": [\"be4bb297\", \"ff4bc63a\", \"27db526d\"], \"sub_graph_default_data_store_nodes\": [], \"inputs\": [{\"name\": \"input_data\", \"internal\": [{\"node_id\": \"be4bb297\", \"port_name\": \"training_data\"}], \"external\": [{\"node_id\": \"e49c009e-ced8-3190-914e-d445fe95197a\", \"port_name\": \"output\"}]}, {\"name\": \"test_data\", \"internal\": [{\"node_id\": \"ff4bc63a\", \"port_name\": \"test_data\"}], \"external\": [{\"node_id\": \"fada1314-c106-37d2-81dc-6ea1068f7f9a\", \"port_name\": \"output\"}]}], \"outputs\": [{\"name\": \"eval_output\", \"internal\": [{\"node_id\": \"27db526d\", \"port_name\": \"eval_output\"}], \"external\": [{\"node_id\": \"7c12938f\", \"port_name\": \"eval_result2\"}]}, {\"name\": \"model_output\", \"internal\": [{\"node_id\": \"be4bb297\", \"port_name\": \"model_output\"}], \"external\": [{\"node_id\": \"ff4bc63a\", \"port_name\": \"model_input\"}, {\"node_id\": \"7c12938f\", \"port_name\": \"model2\"}]}]}], \"nodeIdToSubGraphIdMapping\": {\"48df602e\": \"e37b64e8-e8b4-4297-b8df-ffa340ab231d\", \"e1b85fe2\": \"e37b64e8-e8b4-4297-b8df-ffa340ab231d\", \"9aaa2011\": \"e37b64e8-e8b4-4297-b8df-ffa340ab231d\", \"be4bb297\": \"22e2aa26-6ef9-45ad-b2c2-9ee3ad0f9f48\", \"ff4bc63a\": \"22e2aa26-6ef9-45ad-b2c2-9ee3ad0f9f48\", \"27db526d\": \"22e2aa26-6ef9-45ad-b2c2-9ee3ad0f9f48\", \"7c12938f\": \"bb58d9f5-8a2f-4c6e-a8cc-914d096d5a04\"}, \"subPipelineDefinition\": [{\"name\": \"A dummy pipeline that trains multiple models and output the best one\", \"description\": \"select best model trained with different learning rate\", \"default_compute_target\": {\"name\": \"gpu-cluster\"}, \"default_data_store\": {\"data_store_name\": \"workspaceblobstore\"}, \"pipeline_function_name\": \"dummy_automl_pipeline\", \"id\": \"92f9c0e3-a3d1-431b-9ee5-b7440f31ca02\", \"from_module_name\": \"__main__\", \"parameter_list\": []}, {\"name\": \"A sub pipeline including train/score/eval\", \"description\": \"train model and evaluate model perf\", \"default_compute_target\": {}, \"default_data_store\": {\"data_store_name\": \"workspaceblobstore\"}, \"pipeline_function_name\": \"training_pipeline\", \"id\": \"71501857-379b-4618-8b85-5588465a4512\", \"from_module_name\": \"__main__\", \"parameter_list\": [{\"key\": \"input_data\"}, {\"key\": \"test_data\"}, {\"key\": \"learning_rate\"}]}]};\n",
       "                window.graph_json_to_compare=undefined;\n",
       "                window.env_json={\"subscription_id\": \"4faaaf21-663f-4391-96fd-47197c630979\"};\n",
       "                window.before_script = performance.now();\n",
       "                var script = document.createElement('script')\n",
       "                script.src = \"https://yucongj-test.azureedge.net/libs/test/index.js?t=1597374065\"\n",
       "                document.getElementById(\"container_id_87e9715e-37f9-4adc-bfc6-1ca437213537_script\").appendChild(script)\n",
       "            })()\n",
       "        </script>\n",
       "        "
      ],
      "text/plain": [
       "<IPython.core.display.HTML object>"
      ]
     },
     "metadata": {},
     "output_type": "display_data"
    },
    {
     "data": {
      "text/plain": [
       "{'result': 'validation passed', 'errors': []}"
      ]
     },
     "execution_count": 5,
     "metadata": {},
     "output_type": "execute_result"
    }
   ],
   "source": [
    "pipeline = dummy_automl_pipeline()\n",
    "pipeline.validate()\n"
   ]
  },
  {
   "cell_type": "code",
   "execution_count": 6,
   "metadata": {},
   "outputs": [
    {
     "name": "stdout",
     "output_type": "stream",
     "text": [
      "Successfully dump yaml file at .\\data\\a_dummy_pipeline_that_trains_multiple_models_and_output_the_best_one\\a_dummy_pipeline_that_trains_multiple_models_and_output_the_best_one.yaml\n",
      "Successfully dump yaml file at .\\data\\a_dummy_pipeline_that_trains_multiple_models_and_output_the_best_one\\a_sub_pipeline_including_train_score_eval.yaml\n",
      "Successfully dump yaml file at .\\data\\a_dummy_pipeline_that_trains_multiple_models_and_output_the_best_one\\modules\\mpi_train.yaml\n",
      "Successfully dump yaml file at .\\data\\a_dummy_pipeline_that_trains_multiple_models_and_output_the_best_one\\modules\\score.yaml\n",
      "Successfully dump yaml file at .\\data\\a_dummy_pipeline_that_trains_multiple_models_and_output_the_best_one\\modules\\evaluate.yaml\n",
      "Successfully dump yaml file at .\\data\\a_dummy_pipeline_that_trains_multiple_models_and_output_the_best_one\\modules\\compare_2_models.yaml\n",
      "Successfully dump yaml file at .\\data\\a_dummy_pipeline_that_trains_multiple_models_and_output_the_best_one\\datasets\\aml_module_training_data.yaml\n",
      "Successfully dump yaml file at .\\data\\a_dummy_pipeline_that_trains_multiple_models_and_output_the_best_one\\datasets\\genericcsv_automobile_price_data_raw.yaml\n"
     ]
    },
    {
     "data": {
      "text/plain": [
       "'.\\\\data\\\\a_dummy_pipeline_that_trains_multiple_models_and_output_the_best_one'"
      ]
     },
     "execution_count": 6,
     "metadata": {},
     "output_type": "execute_result"
    }
   ],
   "source": [
    "pipeline.export(directory=os.path.join('.', 'data'))"
   ]
  }
 ],
 "metadata": {
  "kernelspec": {
   "display_name": "Python (aml)",
   "language": "python",
   "name": "aml"
  },
  "language_info": {
   "codemirror_mode": {
    "name": "ipython",
    "version": 3
   },
   "file_extension": ".py",
   "mimetype": "text/x-python",
   "name": "python",
   "nbconvert_exporter": "python",
   "pygments_lexer": "ipython3",
   "version": "3.6.5"
  }
 },
 "nbformat": 4,
 "nbformat_minor": 4
}
