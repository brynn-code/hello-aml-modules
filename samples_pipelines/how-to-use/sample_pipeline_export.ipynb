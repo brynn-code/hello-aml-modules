{
 "cells": [
  {
   "cell_type": "code",
   "execution_count": 1,
   "metadata": {},
   "outputs": [
    {
     "name": "stderr",
     "output_type": "stream",
     "text": [
      "Failure while loading azureml_run_type_providers. Failed to load entrypoint azureml.scriptrun = azureml.core.script_run:ScriptRun._from_run_dto with exception The 'azure-mgmt-network~=10.0' distribution was not found and is required by the application.\n",
      "Failure while loading azureml_run_type_providers. Failed to load entrypoint azureml.PipelineRun = azureml.pipeline.core.run:PipelineRun._from_dto with exception The 'azure-mgmt-network~=10.0' distribution was not found and is required by azureml-core.\n",
      "Failure while loading azureml_run_type_providers. Failed to load entrypoint azureml.ReusedStepRun = azureml.pipeline.core.run:StepRun._from_reused_dto with exception The 'azure-mgmt-network~=10.0' distribution was not found and is required by azureml-core.\n",
      "Failure while loading azureml_run_type_providers. Failed to load entrypoint azureml.StepRun = azureml.pipeline.core.run:StepRun._from_dto with exception The 'azure-mgmt-network~=10.0' distribution was not found and is required by azureml-core.\n",
      "Failure while loading azureml_run_type_providers. Failed to load entrypoint hyperdrive = azureml.train.hyperdrive:HyperDriveRun._from_run_dto with exception The 'azure-mgmt-network~=10.0' distribution was not found and is required by azureml-core.\n",
      "Warning: Falling back to use azure cli login credentials.\n",
      "If you run your code in unattended mode, i.e., where you can't give a user input, then we recommend to use ServicePrincipalAuthentication or MsiAuthentication.\n",
      "Please refer to aka.ms/aml-notebook-auth for different authentication mechanisms in azureml-sdk.\n"
     ]
    },
    {
     "name": "stdout",
     "output_type": "stream",
     "text": [
      "DesignerTest-EUS\n",
      "DesignerTestRG\n",
      "eastus\n",
      "4faaaf21-663f-4391-96fd-47197c630979\n",
      "Found existing compute target: gpu-cluster\n"
     ]
    }
   ],
   "source": [
    "import os\n",
    "\n",
    "from azureml.core import Workspace, Dataset\n",
    "from azureml.core.compute import AmlCompute, ComputeTarget\n",
    "\n",
    "from azureml.pipeline.wrapper import Module, dsl\n",
    "from azureml.pipeline.wrapper._dataset import get_global_dataset_by_path\n",
    "ws = Workspace.from_config()\n",
    "#ws = Workspace.get(name='itp-pilot', subscription_id='4aaa645c-5ae2-4ae9-a17a-84b9023bc56a', resource_group='itp-pilot-ResGrp')\n",
    "print(ws.name, ws.resource_group, ws.location, ws.subscription_id, sep='\\n')\n",
    "\n",
    "# prepare compite\n",
    "pipeline_compute = \"gpu-cluster\"\n",
    "try:\n",
    "    aml_compute = AmlCompute(ws, pipeline_compute)\n",
    "    print(\"Found existing compute target: {}\".format(pipeline_compute))\n",
    "except:\n",
    "    print(\"Creating new compute target: {}\".format(pipeline_compute))\n",
    "    \n",
    "    provisioning_config = AmlCompute.provisioning_configuration(vm_size = \"STANDARD_D2_V2\",\n",
    "                                                                min_nodes = 1, \n",
    "                                                                max_nodes = 4)    \n",
    "    aml_compute = ComputeTarget.create(ws, pipeline_compute, provisioning_config)\n",
    "    aml_compute.wait_for_completion(show_output=True, min_node_count=None, timeout_in_minutes=20)"
   ]
  },
  {
   "cell_type": "code",
   "execution_count": 9,
   "metadata": {},
   "outputs": [],
   "source": [
    "# prepare module functions\n",
    "base_module_dir = os.path.join('.', 'modules', 'train-score-eval')\n",
    "try:\n",
    "    train_module_func = Module.load(ws, namespace='microsoft.com/aml/samples', name='MPI Train')\n",
    "except Exception:\n",
    "    train_module_func = Module.register(ws, yaml_file=os.path.join(base_module_dir, 'mpi_train.yaml'))\n",
    "\n",
    "\n",
    "try:\n",
    "    score_module_func = Module.load(ws, namespace='microsoft.com/aml/samples', name='Score')\n",
    "except Exception:\n",
    "    score_module_func = Module.register(ws, yaml_file=os.path.join(base_module_dir, 'score.yaml'))    \n",
    "\n",
    "    \n",
    "try:\n",
    "    eval_module_func = Module.load(ws, namespace='microsoft.com/aml/samples', name='Evaluate')\n",
    "except Exception:\n",
    "    eval_module_func = Module.register(ws, yaml_file=os.path.join(base_module_dir, 'evaluate.yaml'))    \n",
    "    \n",
    "\n",
    "try:\n",
    "    compare_module_func = Module.load(ws, namespace='microsoft.com/aml/samples', name='Compare 2 Models')\n",
    "except Exception:\n",
    "    compare_module_func = Module.register(ws, yaml_file=os.path.join(base_module_dir, 'compare2.yaml'))    "
   ]
  },
  {
   "cell_type": "code",
   "execution_count": 3,
   "metadata": {},
   "outputs": [
    {
     "name": "stdout",
     "output_type": "stream",
     "text": [
      "Training dataset found in workspace\n"
     ]
    }
   ],
   "source": [
    "# prepare dataset\n",
    "training_data_name = 'aml_module_training_data'\n",
    "\n",
    "if training_data_name not in ws.datasets:\n",
    "    print('Registering a training dataset for sample pipeline ...')\n",
    "    train_data = Dataset.File.from_files(path=['https://dprepdata.blob.core.windows.net/demo/Titanic.csv'])\n",
    "    train_data.register(workspace=ws,\n",
    "                        name=training_data_name,\n",
    "                        description='Training data (just for illustrative purpose)')\n",
    "    print('Registerd')\n",
    "else:\n",
    "    train_data = ws.datasets[training_data_name]\n",
    "    print('Training dataset found in workspace')\n",
    "\n",
    "test_data = get_global_dataset_by_path(ws, 'Automobile_price_data', 'GenericCSV/Automobile_price_data_(Raw)')"
   ]
  },
  {
   "cell_type": "code",
   "execution_count": 14,
   "metadata": {},
   "outputs": [],
   "source": [
    "@dsl.pipeline(name = 'A sub pipeline including train/score/eval',\n",
    "              description = 'train model and evaluate model perf')\n",
    "def training_pipeline(input_data, test_data, learning_rate):\n",
    "   train = train_module_func(\n",
    "       training_data=input_data,\n",
    "       max_epochs=5,\n",
    "       learning_rate=learning_rate)\n",
    "\n",
    "   train.runsettings.configure(process_count_per_node = 2, node_count = 2)\n",
    "\n",
    "   score = score_module_func(\n",
    "       model_input=train.outputs.model_output,\n",
    "       test_data=test_data)\n",
    "\n",
    "   eval = eval_module_func(scoring_result=score.outputs.score_output)\n",
    "\n",
    "   return {'eval_output': eval.outputs.eval_output, 'model_output': train.outputs.model_output}\n",
    "\n",
    "@dsl.pipeline(name = 'A dummy pipeline that trains multiple models and output the best one',\n",
    "              description = 'select best model trained with different learning rate',\n",
    "              default_compute_target = pipeline_compute)\n",
    "def dummy_automl_pipeline():\n",
    "    train_and_evalute_model1 = training_pipeline(train_data, test_data, 0.01)\n",
    "    train_and_evalute_model2 = training_pipeline(train_data, test_data, 0.02)\n",
    "\n",
    "    compare = compare_module_func(\n",
    "        model1=train_and_evalute_model1.outputs.model_output,\n",
    "        eval_result1=train_and_evalute_model1.outputs.eval_output,\n",
    "        model2=train_and_evalute_model2.outputs.model_output,\n",
    "        eval_result2=train_and_evalute_model2.outputs.eval_output\n",
    "    )\n",
    "\n",
    "    return {'best_model': compare.outputs.best_model}\n"
   ]
  },
  {
   "cell_type": "code",
   "execution_count": 15,
   "metadata": {},
   "outputs": [
    {
     "data": {
      "application/javascript": [
       "try {\n",
       "    require.undef(\"validate_widget\")\n",
       "\n",
       "    define('validate_widget', [\"@jupyter-widgets/base\"], function(widgets) {\n",
       "        var ValidateView = widgets.DOMWidgetView.extend({\n",
       "            render () {\n",
       "                window.widget_self = this\n",
       "                var visualize_id = this.model.get('visualize_id')\n",
       "\n",
       "                if (!window._renderLock) {\n",
       "                    window._renderLock = {}\n",
       "                }\n",
       "                if (window._renderLock[visualize_id]) {\n",
       "                    return\n",
       "                }\n",
       "                window._renderLock[visualize_id] = \"widget\"\n",
       "                console.log(\"load as widget\", Date.now())\n",
       "\n",
       "                var lib_url = this.model.get('lib_url')\n",
       "                var graph_json = JSON.parse(this.model.get('graph_json'))\n",
       "                var env_json = JSON.parse(this.model.get('env_json'))\n",
       "                var container_id = this.model.get('container_id')\n",
       "\n",
       "                window.render_container_id = container_id\n",
       "                window.graph_json = graph_json\n",
       "                window.graph_json_to_compare = undefined\n",
       "                window.env_json = env_json\n",
       "                window.before_script = performance.now()\n",
       "\n",
       "                var container = document.createElement('div')\n",
       "                container.id = container_id\n",
       "                this.el.appendChild(container)\n",
       "\n",
       "                var style = document.createElement('style')\n",
       "                style.innerHTML = [\n",
       "                    \"#\", container_id, \" svg.react-dag-editor-svg-container { height: 800px; }\",\n",
       "                    \".cell-output-ipywidget-background { background: transparent !important }\"\n",
       "                ].join('')\n",
       "                this.el.appendChild(style)\n",
       "\n",
       "                this.model.on('msg:custom', dispatchMessage, this);\n",
       "\n",
       "                if (!window.__event_hub) {\n",
       "                    window.__event_hub = {}\n",
       "                }\n",
       "                if (!window.__event_hub[container_id]) {\n",
       "                    window.__event_hub[container_id] = {}\n",
       "                }\n",
       "\n",
       "                if (!window.__send_event) {\n",
       "                    window.__send_event = {}\n",
       "                }\n",
       "                window.__send_event[container_id] = sendMessage.bind(this)\n",
       "\n",
       "                function sendMessage(message, uid, content) {\n",
       "                    return new Promise((resolve) => {\n",
       "                        this.model.send({\n",
       "                            message: `${message}:request`,\n",
       "                            body: {\n",
       "                                uid,\n",
       "                                content\n",
       "                            }\n",
       "                        })\n",
       "    \n",
       "                        var respMessageKey = `${message}:response`\n",
       "                        if (!window.__event_hub[container_id][respMessageKey]) {\n",
       "                            window.__event_hub[container_id][respMessageKey] = []\n",
       "                        }\n",
       "                        window.__event_hub[container_id][respMessageKey].push(callback)\n",
       "    \n",
       "                        function callback (response) {\n",
       "                            if (response.uid !== uid) {\n",
       "                                return\n",
       "                            }\n",
       "\n",
       "                            var idx = window.__event_hub[container_id][respMessageKey].indexOf(callback) \n",
       "                            window.__event_hub[container_id][respMessageKey].splice(idx, 1)\n",
       "                            \n",
       "                            resolve(response)\n",
       "                        }\n",
       "                    })\n",
       "                }\n",
       "\n",
       "                function dispatchMessage (rawMessage) {\n",
       "                    var message = rawMessage.message\n",
       "                    var body = rawMessage.body\n",
       "\n",
       "                    if (!window.__event_hub[container_id][message]) {\n",
       "                        window.__event_hub[container_id][message] = []\n",
       "                    }\n",
       "                    var listeners = window.__event_hub[container_id][message]\n",
       "\n",
       "                    listeners.forEach(cb => {\n",
       "                        try {\n",
       "                            cb(body)\n",
       "                        } catch (e) {\n",
       "                            console.error(\"Unexpected error in listener\", e)\n",
       "                        }\n",
       "                    })\n",
       "\n",
       "                    console.log(body)\n",
       "                }\n",
       "\n",
       "                var script = document.createElement('script')\n",
       "                script.src = lib_url\n",
       "                this.el.appendChild(script)\n",
       "            }\n",
       "        });\n",
       "\n",
       "        return {\n",
       "            ValidateView\n",
       "        }\n",
       "    })\n",
       "} catch (e) {\n",
       "    console.log(\"create validation widget failed\", e)\n",
       "}"
      ],
      "text/plain": [
       "<IPython.core.display.Javascript object>"
      ]
     },
     "metadata": {},
     "output_type": "display_data"
    },
    {
     "data": {
      "application/vnd.jupyter.widget-view+json": {
       "model_id": "7413a29d39804f18838118d54585b63f",
       "version_major": 2,
       "version_minor": 0
      },
      "text/plain": [
       "ValidateView(container_id='container_id_f920dd35-8e33-42ad-b9ca-9b44d6fab917_widget', env_json='{\"subscription…"
      ]
     },
     "metadata": {},
     "output_type": "display_data"
    },
    {
     "data": {
      "text/html": [
       "\n",
       "        <style>\n",
       "        #container_id_f920dd35-8e33-42ad-b9ca-9b44d6fab917_script svg.react-dag-editor-svg-container {\n",
       "            height: 800px;\n",
       "        }\n",
       "        </style>\n",
       "        <div id=\"container_id_f920dd35-8e33-42ad-b9ca-9b44d6fab917_script\"></div>\n",
       "        <script>\n",
       "            (function () {\n",
       "                if (!window._renderLock) {\n",
       "                    window._renderLock = {}\n",
       "                }\n",
       "                if (window._renderLock[\"f920dd35-8e33-42ad-b9ca-9b44d6fab917\"]) {\n",
       "                    return\n",
       "                }\n",
       "                window._renderLock[\"f920dd35-8e33-42ad-b9ca-9b44d6fab917\"] = \"script\"\n",
       "                console.log(\"load as script\", Date.now())\n",
       "                window.render_container_id=\"container_id_f920dd35-8e33-42ad-b9ca-9b44d6fab917_script\";\n",
       "                window.graph_json={\"pipeline\": {\"name\": [\"A dummy pipeline that trains multiple models and output the best one\"], \"data_references\": {\"aml_module_training_data\": {\"dataset_id\": \"26244731-3820-4c47-a871-70461c69eee1\"}, \"genericcsv_automobile_price_data_raw\": {\"datastore\": \"azureml_globaldatasets\", \"path_on_datastore\": \"GenericCSV/Automobile_price_data_(Raw)\"}}, \"steps\": {\"7ee46027\": {\"inputs\": {\"training_data\": {\"source\": \"aml_module_training_data\"}}, \"outputs\": {\"model_output\": {\"destination\": \"41d9bc58-103b-48f6-ab52-205f5f1210f8_model_output\"}}, \"module\": {\"id\": \"8cd644a9-f71c-4128-b76a-08b027b27629\", \"version\": \"0.0.5\"}, \"parameters\": {\"max_epochs\": 5, \"learning_rate\": 0.01}, \"validate\": {\"error\": [], \"module_id\": \"8cd644a9-f71c-4128-b76a-08b027b27629\", \"namespace\": \"microsoft.com/aml/samples\", \"module_name\": \"MPI Train\", \"module_version\": \"0.0.5\"}}, \"43c49725\": {\"inputs\": {\"model_input\": {\"source\": \"41d9bc58-103b-48f6-ab52-205f5f1210f8_model_output\"}, \"test_data\": {\"source\": \"genericcsv_automobile_price_data_raw\"}}, \"outputs\": {\"score_output\": {\"destination\": \"2d5d5ee5-c6eb-4892-b691-ba2ac8adc4e1_score_output\"}}, \"module\": {\"id\": \"46dad2ad-5774-4dc3-91d8-8502ac565024\", \"version\": \"0.0.3\"}, \"parameters\": {}, \"validate\": {\"error\": [], \"module_id\": \"46dad2ad-5774-4dc3-91d8-8502ac565024\", \"namespace\": \"microsoft.com/aml/samples\", \"module_name\": \"Score\", \"module_version\": \"0.0.3\"}}, \"96fe7741\": {\"inputs\": {\"scoring_result\": {\"source\": \"2d5d5ee5-c6eb-4892-b691-ba2ac8adc4e1_score_output\"}}, \"outputs\": {\"eval_output\": {\"destination\": \"5d3d161f-06fc-4b51-8fa1-c5da3671d5f3_eval_output\"}}, \"module\": {\"id\": \"1af793be-561f-49f9-9c61-f4dfce75d027\", \"version\": \"0.0.4\"}, \"parameters\": {}, \"validate\": {\"error\": [], \"module_id\": \"1af793be-561f-49f9-9c61-f4dfce75d027\", \"namespace\": \"microsoft.com/aml/samples\", \"module_name\": \"Evaluate\", \"module_version\": \"0.0.4\"}}, \"d3a56667\": {\"inputs\": {\"training_data\": {\"source\": \"aml_module_training_data\"}}, \"outputs\": {\"model_output\": {\"destination\": \"216ef5e4-d282-4605-bbe6-48cbb70a50e9_model_output\"}}, \"module\": {\"id\": \"8cd644a9-f71c-4128-b76a-08b027b27629\", \"version\": \"0.0.5\"}, \"parameters\": {\"max_epochs\": 5, \"learning_rate\": 0.02}, \"validate\": {\"error\": [], \"module_id\": \"8cd644a9-f71c-4128-b76a-08b027b27629\", \"namespace\": \"microsoft.com/aml/samples\", \"module_name\": \"MPI Train\", \"module_version\": \"0.0.5\"}}, \"842837f2\": {\"inputs\": {\"model_input\": {\"source\": \"216ef5e4-d282-4605-bbe6-48cbb70a50e9_model_output\"}, \"test_data\": {\"source\": \"genericcsv_automobile_price_data_raw\"}}, \"outputs\": {\"score_output\": {\"destination\": \"59bf5bf0-8300-4f2a-8bb9-d61c421b24b7_score_output\"}}, \"module\": {\"id\": \"46dad2ad-5774-4dc3-91d8-8502ac565024\", \"version\": \"0.0.3\"}, \"parameters\": {}, \"validate\": {\"error\": [], \"module_id\": \"46dad2ad-5774-4dc3-91d8-8502ac565024\", \"namespace\": \"microsoft.com/aml/samples\", \"module_name\": \"Score\", \"module_version\": \"0.0.3\"}}, \"8688ea47\": {\"inputs\": {\"scoring_result\": {\"source\": \"59bf5bf0-8300-4f2a-8bb9-d61c421b24b7_score_output\"}}, \"outputs\": {\"eval_output\": {\"destination\": \"8568a291-4497-4494-aaa5-b36adb48fc75_eval_output\"}}, \"module\": {\"id\": \"1af793be-561f-49f9-9c61-f4dfce75d027\", \"version\": \"0.0.4\"}, \"parameters\": {}, \"validate\": {\"error\": [], \"module_id\": \"1af793be-561f-49f9-9c61-f4dfce75d027\", \"namespace\": \"microsoft.com/aml/samples\", \"module_name\": \"Evaluate\", \"module_version\": \"0.0.4\"}}, \"fe5a887e\": {\"inputs\": {\"model1\": {\"source\": \"41d9bc58-103b-48f6-ab52-205f5f1210f8_model_output\"}, \"eval_result1\": {\"source\": \"5d3d161f-06fc-4b51-8fa1-c5da3671d5f3_eval_output\"}, \"model2\": {\"source\": \"216ef5e4-d282-4605-bbe6-48cbb70a50e9_model_output\"}, \"eval_result2\": {\"source\": \"8568a291-4497-4494-aaa5-b36adb48fc75_eval_output\"}}, \"outputs\": {\"best_model\": {\"destination\": \"ee27ab15-ce22-48cf-80f6-b0645df3d213_best_model\"}, \"best_result\": {\"destination\": \"ee27ab15-ce22-48cf-80f6-b0645df3d213_best_result\"}}, \"module\": {\"id\": \"636ec5fe-bdf5-49c8-948d-ab733315fb2f\", \"version\": \"0.0.5\"}, \"parameters\": {}, \"validate\": {\"error\": [], \"module_id\": \"636ec5fe-bdf5-49c8-948d-ab733315fb2f\", \"namespace\": \"microsoft.com/aml/samples\", \"module_name\": \"Compare 2 Models\", \"module_version\": \"0.0.5\"}}}}, \"modules\": [{\"module_id\": \"8cd644a9-f71c-4128-b76a-08b027b27629\", \"version\": \"0.0.5\", \"name\": \"MPI Train\", \"namespace\": \"microsoft.com/aml/samples\", \"structured_interface\": {\"inputs\": [{\"name\": \"training_data\", \"label\": \"training_data\", \"description\": \"Training data organized in the torchvision format/structure\", \"data_type_ids_list\": [\"AnyFile\", \"AnyDirectory\"]}], \"outputs\": [{\"name\": \"model_output\", \"label\": \"model_output\", \"description\": \"The output model (zipped)\", \"data_type_id\": \"AnyFile\"}]}}, {\"module_id\": \"46dad2ad-5774-4dc3-91d8-8502ac565024\", \"version\": \"0.0.3\", \"name\": \"Score\", \"namespace\": \"microsoft.com/aml/samples\", \"structured_interface\": {\"inputs\": [{\"name\": \"model_input\", \"label\": \"model_input\", \"description\": null, \"data_type_ids_list\": [\"AnyFile\"]}, {\"name\": \"test_data\", \"label\": \"test_data\", \"description\": null, \"data_type_ids_list\": [\"AnyFile\", \"AnyDirectory\"]}], \"outputs\": [{\"name\": \"score_output\", \"label\": \"score_output\", \"description\": null, \"data_type_id\": \"AnyFile\"}]}}, {\"module_id\": \"1af793be-561f-49f9-9c61-f4dfce75d027\", \"version\": \"0.0.4\", \"name\": \"Evaluate\", \"namespace\": \"microsoft.com/aml/samples\", \"structured_interface\": {\"inputs\": [{\"name\": \"scoring_result\", \"label\": \"scoring_result\", \"description\": null, \"data_type_ids_list\": [\"AnyFile\"]}], \"outputs\": [{\"name\": \"eval_output\", \"label\": \"eval_output\", \"description\": null, \"data_type_id\": \"AnyDirectory\"}]}}, {\"module_id\": \"636ec5fe-bdf5-49c8-948d-ab733315fb2f\", \"version\": \"0.0.5\", \"name\": \"Compare 2 Models\", \"namespace\": \"microsoft.com/aml/samples\", \"structured_interface\": {\"inputs\": [{\"name\": \"model1\", \"label\": \"model1\", \"description\": null, \"data_type_ids_list\": [\"AnyFile\"]}, {\"name\": \"eval_result1\", \"label\": \"eval_result1\", \"description\": null, \"data_type_ids_list\": [\"AnyFile\"]}, {\"name\": \"model2\", \"label\": \"model2\", \"description\": null, \"data_type_ids_list\": [\"AnyFile\"]}, {\"name\": \"eval_result2\", \"label\": \"eval_result2\", \"description\": null, \"data_type_ids_list\": [\"AnyFile\"]}], \"outputs\": [{\"name\": \"best_model\", \"label\": \"best_model\", \"description\": null, \"data_type_id\": \"AnyFile\"}, {\"name\": \"best_result\", \"label\": \"best_result\", \"description\": null, \"data_type_id\": \"AnyFile\"}]}}], \"datasources\": [{\"name\": \"aml_module_training_data\", \"description\": \"Training data (just for illustrative purpose)\", \"version\": 1, \"tags\": {}, \"registered_id\": \"26244731-3820-4c47-a871-70461c69eee1\", \"saved_id\": \"3680fe5e-306b-4489-ba3d-02e9afd12d9d\", \"nodeId\": \"e49c009e-ced8-3190-914e-d445fe95197a\"}, {\"data_reference_name\": \"genericcsv_automobile_price_data_raw\", \"path_on_datastore\": \"GenericCSV/Automobile_price_data_(Raw)\", \"datastore\": \"azureml_globaldatasets\", \"nodeId\": \"fada1314-c106-37d2-81dc-6ea1068f7f9a\"}], \"subGraphInfo\": [{\"name\": \"A dummy pipeline that trains multiple models and output the best one\", \"description\": \"select best model trained with different learning rate\", \"default_compute_target\": {\"name\": \"gpu-cluster\"}, \"default_data_store\": {\"data_store_name\": \"workspaceblobstore\"}, \"id\": \"fe4acfe5-aec4-4266-8d3b-2c21939c01c6\", \"pipeline_definition_id\": \"3bb6bd78-8ce1-4652-954b-363995467531\", \"sub_graph_parameter_assignment\": [], \"sub_graph_data_path_parameter_assignment\": [], \"sub_graph_default_compute_target_nodes\": [\"fe5a887e\"], \"sub_graph_default_data_store_nodes\": [\"fe5a887e\"], \"inputs\": [], \"outputs\": [{\"name\": \"best_model\", \"internal\": [{\"node_id\": \"fe5a887e\", \"port_name\": \"best_model\"}], \"external\": []}]}, {\"name\": \"A sub pipeline including train/score/eval\", \"description\": \"train model and evaluate model perf\", \"default_compute_target\": {}, \"default_data_store\": {\"data_store_name\": \"workspaceblobstore\"}, \"id\": \"07bda28a-86e5-4a71-b9f1-24286b683dbf\", \"parent_graph_id\": \"fe4acfe5-aec4-4266-8d3b-2c21939c01c6\", \"pipeline_definition_id\": \"bafe0a64-32ce-4e7e-98e8-7b5fc1b5b658\", \"sub_graph_parameter_assignment\": [{\"parameter\": {\"name\": \"input_data\"}, \"parameter_assignments\": [{\"node_id\": \"7ee46027\", \"parameter_name\": \"training_data\"}]}, {\"parameter\": {\"name\": \"test_data\"}, \"parameter_assignments\": [{\"node_id\": \"43c49725\", \"parameter_name\": \"test_data\"}]}, {\"parameter\": {\"name\": \"learning_rate\"}, \"parameter_assignments\": [{\"node_id\": \"7ee46027\", \"parameter_name\": \"learning_rate\"}]}], \"sub_graph_data_path_parameter_assignment\": [{\"data_set_path_parameter\": {\"name\": \"input_data\", \"default_value\": {\"data_set_reference\": {\"id\": \"26244731-3820-4c47-a871-70461c69eee1\", \"version\": \"1\"}}, \"is_optional\": false, \"data_type_id\": \"DataFrameDirectory\"}, \"data_set_path_parameter_assignments\": []}], \"sub_graph_default_compute_target_nodes\": [\"7ee46027\", \"43c49725\", \"96fe7741\"], \"sub_graph_default_data_store_nodes\": [], \"inputs\": [{\"name\": \"input_data\", \"internal\": [{\"node_id\": \"7ee46027\", \"port_name\": \"training_data\"}], \"external\": [{\"node_id\": \"e49c009e-ced8-3190-914e-d445fe95197a\", \"port_name\": \"output\"}]}, {\"name\": \"test_data\", \"internal\": [{\"node_id\": \"43c49725\", \"port_name\": \"test_data\"}], \"external\": [{\"node_id\": \"fada1314-c106-37d2-81dc-6ea1068f7f9a\", \"port_name\": \"output\"}]}], \"outputs\": [{\"name\": \"eval_output\", \"internal\": [{\"node_id\": \"96fe7741\", \"port_name\": \"eval_output\"}], \"external\": [{\"node_id\": \"fe5a887e\", \"port_name\": \"eval_result1\"}]}, {\"name\": \"model_output\", \"internal\": [{\"node_id\": \"7ee46027\", \"port_name\": \"model_output\"}], \"external\": [{\"node_id\": \"43c49725\", \"port_name\": \"model_input\"}, {\"node_id\": \"fe5a887e\", \"port_name\": \"model1\"}]}]}, {\"name\": \"A sub pipeline including train/score/eval\", \"description\": \"train model and evaluate model perf\", \"default_compute_target\": {}, \"default_data_store\": {\"data_store_name\": \"workspaceblobstore\"}, \"id\": \"a299ff98-94db-4c3e-be1b-e8c5e019d116\", \"parent_graph_id\": \"fe4acfe5-aec4-4266-8d3b-2c21939c01c6\", \"pipeline_definition_id\": \"bafe0a64-32ce-4e7e-98e8-7b5fc1b5b658\", \"sub_graph_parameter_assignment\": [{\"parameter\": {\"name\": \"input_data\"}, \"parameter_assignments\": [{\"node_id\": \"d3a56667\", \"parameter_name\": \"training_data\"}]}, {\"parameter\": {\"name\": \"test_data\"}, \"parameter_assignments\": [{\"node_id\": \"842837f2\", \"parameter_name\": \"test_data\"}]}, {\"parameter\": {\"name\": \"learning_rate\"}, \"parameter_assignments\": [{\"node_id\": \"d3a56667\", \"parameter_name\": \"learning_rate\"}]}], \"sub_graph_data_path_parameter_assignment\": [{\"data_set_path_parameter\": {\"name\": \"input_data\", \"default_value\": {\"data_set_reference\": {\"id\": \"26244731-3820-4c47-a871-70461c69eee1\", \"version\": \"1\"}}, \"is_optional\": false, \"data_type_id\": \"DataFrameDirectory\"}, \"data_set_path_parameter_assignments\": []}], \"sub_graph_default_compute_target_nodes\": [\"d3a56667\", \"842837f2\", \"8688ea47\"], \"sub_graph_default_data_store_nodes\": [], \"inputs\": [{\"name\": \"input_data\", \"internal\": [{\"node_id\": \"d3a56667\", \"port_name\": \"training_data\"}], \"external\": [{\"node_id\": \"e49c009e-ced8-3190-914e-d445fe95197a\", \"port_name\": \"output\"}]}, {\"name\": \"test_data\", \"internal\": [{\"node_id\": \"842837f2\", \"port_name\": \"test_data\"}], \"external\": [{\"node_id\": \"fada1314-c106-37d2-81dc-6ea1068f7f9a\", \"port_name\": \"output\"}]}], \"outputs\": [{\"name\": \"eval_output\", \"internal\": [{\"node_id\": \"8688ea47\", \"port_name\": \"eval_output\"}], \"external\": [{\"node_id\": \"fe5a887e\", \"port_name\": \"eval_result2\"}]}, {\"name\": \"model_output\", \"internal\": [{\"node_id\": \"d3a56667\", \"port_name\": \"model_output\"}], \"external\": [{\"node_id\": \"842837f2\", \"port_name\": \"model_input\"}, {\"node_id\": \"fe5a887e\", \"port_name\": \"model2\"}]}]}], \"nodeIdToSubGraphIdMapping\": {\"7ee46027\": \"07bda28a-86e5-4a71-b9f1-24286b683dbf\", \"43c49725\": \"07bda28a-86e5-4a71-b9f1-24286b683dbf\", \"96fe7741\": \"07bda28a-86e5-4a71-b9f1-24286b683dbf\", \"d3a56667\": \"a299ff98-94db-4c3e-be1b-e8c5e019d116\", \"842837f2\": \"a299ff98-94db-4c3e-be1b-e8c5e019d116\", \"8688ea47\": \"a299ff98-94db-4c3e-be1b-e8c5e019d116\", \"fe5a887e\": \"fe4acfe5-aec4-4266-8d3b-2c21939c01c6\"}, \"subPipelineDefinition\": [{\"name\": \"A dummy pipeline that trains multiple models and output the best one\", \"description\": \"select best model trained with different learning rate\", \"default_compute_target\": {\"name\": \"gpu-cluster\"}, \"default_data_store\": {\"data_store_name\": \"workspaceblobstore\"}, \"pipeline_function_name\": \"dummy_automl_pipeline\", \"id\": \"3bb6bd78-8ce1-4652-954b-363995467531\", \"from_module_name\": \"__main__\", \"parameter_list\": []}, {\"name\": \"A sub pipeline including train/score/eval\", \"description\": \"train model and evaluate model perf\", \"default_compute_target\": {}, \"default_data_store\": {\"data_store_name\": \"workspaceblobstore\"}, \"pipeline_function_name\": \"training_pipeline\", \"id\": \"bafe0a64-32ce-4e7e-98e8-7b5fc1b5b658\", \"from_module_name\": \"__main__\", \"parameter_list\": [{\"key\": \"input_data\"}, {\"key\": \"test_data\"}, {\"key\": \"learning_rate\"}]}]};\n",
       "                window.graph_json_to_compare=None;\n",
       "                window.env_json={\"subscription_id\": \"4faaaf21-663f-4391-96fd-47197c630979\"};\n",
       "                window.before_script = performance.now();\n",
       "                var script = document.createElement('script')\n",
       "                script.src = \"https://yucongj-test.azureedge.net/libs/test/index.js?t=1597031240\"\n",
       "                document.getElementById(\"container_id_f920dd35-8e33-42ad-b9ca-9b44d6fab917_script\").appendChild(script)\n",
       "            })()\n",
       "        </script>\n",
       "        "
      ],
      "text/plain": [
       "<IPython.core.display.HTML object>"
      ]
     },
     "metadata": {},
     "output_type": "display_data"
    },
    {
     "name": "stdout",
     "output_type": "stream",
     "text": [
      "Submitted PipelineRun 4024fe5b-87e8-48de-a8a5-418cdbdb690e\n",
      "Link to Azure Machine Learning Portal: https://ml.azure.com/experiments/pipeline_export_test/runs/4024fe5b-87e8-48de-a8a5-418cdbdb690e?wsid=/subscriptions/4faaaf21-663f-4391-96fd-47197c630979/resourcegroups/DesignerTestRG/workspaces/DesignerTest-EUS\n"
     ]
    },
    {
     "data": {
      "text/html": [
       "<table style=\"width:100%\"><tr><th>Experiment</th><th>Id</th><th>Type</th><th>Status</th><th>Details Page</th><th>Docs Page</th></tr><tr><td>pipeline_export_test</td><td>4024fe5b-87e8-48de-a8a5-418cdbdb690e</td><td>azureml.PipelineRun</td><td>NotStarted</td><td><a href=\"https://ml.azure.com/experiments/pipeline_export_test/runs/4024fe5b-87e8-48de-a8a5-418cdbdb690e?wsid=/subscriptions/4faaaf21-663f-4391-96fd-47197c630979/resourcegroups/DesignerTestRG/workspaces/DesignerTest-EUS\" target=\"_blank\" rel=\"noopener\">Link to Azure Machine Learning studio</a></td><td><a href=\"https://docs.microsoft.com/en-us/python/api/overview/azure/ml/intro?view=azure-ml-py\" target=\"_blank\" rel=\"noopener\">Link to Documentation</a></td></tr></table>"
      ],
      "text/plain": [
       "Run(Experiment: pipeline_export_test,\n",
       "Id: 4024fe5b-87e8-48de-a8a5-418cdbdb690e,\n",
       "Type: azureml.PipelineRun,\n",
       "Status: NotStarted)"
      ]
     },
     "execution_count": 15,
     "metadata": {},
     "output_type": "execute_result"
    }
   ],
   "source": [
    "pipeline = dummy_automl_pipeline()\n",
    "pipeline.validate()\n",
    "\n",
    "pipeline.submit(experiment_name='pipeline_export_test')"
   ]
  },
  {
   "cell_type": "code",
   "execution_count": 16,
   "metadata": {},
   "outputs": [
    {
     "name": "stderr",
     "output_type": "stream",
     "text": [
      "method export: This is an experimental method, and may change at any time.<br/>For more information, see https://aka.ms/azuremlexperimental.\n"
     ]
    },
    {
     "name": "stdout",
     "output_type": "stream",
     "text": [
      "Successfully dump yaml file at .\\data\\a_dummy_pipeline_that_trains_multiple_models_and_output_the_best_one\\a_dummy_pipeline_that_trains_multiple_models_and_output_the_best_one.yaml\n",
      "Successfully dump yaml file at .\\data\\a_dummy_pipeline_that_trains_multiple_models_and_output_the_best_one\\a_sub_pipeline_including_train_score_eval.yaml\n",
      "Successfully dump yaml file at .\\data\\a_dummy_pipeline_that_trains_multiple_models_and_output_the_best_one\\modules\\mpi_train.yaml\n",
      "Successfully dump yaml file at .\\data\\a_dummy_pipeline_that_trains_multiple_models_and_output_the_best_one\\modules\\score.yaml\n",
      "Successfully dump yaml file at .\\data\\a_dummy_pipeline_that_trains_multiple_models_and_output_the_best_one\\modules\\evaluate.yaml\n"
     ]
    },
    {
     "name": "stderr",
     "output_type": "stream",
     "text": [
      "method export: This is an experimental method, and may change at any time.<br/>For more information, see https://aka.ms/azuremlexperimental.\n"
     ]
    },
    {
     "name": "stdout",
     "output_type": "stream",
     "text": [
      "Successfully dump yaml file at .\\data\\a_dummy_pipeline_that_trains_multiple_models_and_output_the_best_one\\modules\\compare_2_models.yaml\n",
      "Successfully dump yaml file at .\\data\\a_dummy_pipeline_that_trains_multiple_models_and_output_the_best_one\\datasets\\aml_module_training_data.yaml\n",
      "Successfully dump yaml file at .\\data\\a_dummy_pipeline_that_trains_multiple_models_and_output_the_best_one\\datasets\\genericcsv_automobile_price_data_raw.yaml\n",
      "Successfully dump yaml file at .\\data\\a_dummy_pipeline_that_trains_multiple_models_and_output_the_best_one.yaml\n"
     ]
    },
    {
     "data": {
      "text/plain": [
       "'.\\\\data'"
      ]
     },
     "execution_count": 16,
     "metadata": {},
     "output_type": "execute_result"
    }
   ],
   "source": [
    "pipeline.export(os.path.join('.', 'data'))\n",
    "pipeline.export(os.path.join('.', 'data'), separate_file=False)"
   ]
  }
 ],
 "metadata": {
  "kernelspec": {
   "display_name": "Python (aml)",
   "language": "python",
   "name": "aml"
  },
  "language_info": {
   "codemirror_mode": {
    "name": "ipython",
    "version": 3
   },
   "file_extension": ".py",
   "mimetype": "text/x-python",
   "name": "python",
   "nbconvert_exporter": "python",
   "pygments_lexer": "ipython3",
   "version": "3.6.5"
  }
 },
 "nbformat": 4,
 "nbformat_minor": 4
}
