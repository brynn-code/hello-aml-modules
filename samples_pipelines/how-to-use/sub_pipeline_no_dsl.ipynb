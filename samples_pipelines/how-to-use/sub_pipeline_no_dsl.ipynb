{
 "cells": [
  {
   "cell_type": "code",
   "execution_count": null,
   "metadata": {
    "tags": []
   },
   "outputs": [],
   "source": [
    "import json\n",
    "from azureml.core import Workspace, Dataset\n",
    "from azureml.pipeline.wrapper import Module, dsl, Pipeline\n",
    "from azureml.pipeline.wrapper._dataset import get_global_dataset_by_path"
   ]
  },
  {
   "cell_type": "code",
   "execution_count": null,
   "metadata": {
    "tags": []
   },
   "outputs": [],
   "source": [
    "ws = Workspace.from_config()\n",
    "print(ws.name, ws.resource_group, ws.location, ws.subscription_id, sep='\\n')"
   ]
  },
  {
   "cell_type": "code",
   "execution_count": null,
   "metadata": {},
   "outputs": [],
   "source": [
    "# Module\n",
    "execute_python_script_module = Module.load(ws, namespace='azureml', name='Execute Python Script')\n",
    "\n",
    "\n",
    "# Dataset\n",
    "global_input_data = get_global_dataset_by_path(ws, 'Automobile_price_data', 'GenericCSV/Automobile_price_data_(Raw)')"
   ]
  },
  {
   "cell_type": "code",
   "execution_count": null,
   "metadata": {
    "tags": []
   },
   "outputs": [],
   "source": [
    "training_data_name = 'aml_module_training_data'\n",
    "\n",
    "if training_data_name not in ws.datasets:\n",
    "    print('Registering a training dataset for sample pipeline ...')\n",
    "    train_data = Dataset.File.from_files(path=['https://dprepdata.blob.core.windows.net/demo/Titanic.csv'])\n",
    "    train_data.register(workspace=ws,\n",
    "                        name=training_data_name,\n",
    "                        description='Training data (just for illustrative purpose)')\n",
    "    print('Registerd')\n",
    "else:\n",
    "    train_data = ws.datasets[training_data_name]\n",
    "    print('Training dataset found in workspace')"
   ]
  },
  {
   "cell_type": "code",
   "execution_count": null,
   "metadata": {},
   "outputs": [],
   "source": [
    "module1 = execute_python_script_module(\n",
    "    dataset1=global_input_data,\n",
    ")\n",
    "module2 = execute_python_script_module(\n",
    "    dataset1=module1.outputs.result_dataset,\n",
    ")\n",
    "pipeline1 = Pipeline(nodes=[module2, module1], outputs=module2.outputs, name=\"p1\", default_compute_target='aml-compute')\n",
    "\n",
    "module3 = execute_python_script_module(\n",
    "    dataset1=pipeline1.outputs.result_dataset,\n",
    ")\n",
    "module4 = execute_python_script_module(\n",
    "    dataset1=module3.outputs.result_dataset,\n",
    ")\n",
    "pipeline2 = Pipeline(nodes=[module3, module4, pipeline1], outputs=module4.outputs, name=\"p2\")\n",
    "\n",
    "module5 = execute_python_script_module(\n",
    "    dataset1=train_data,\n",
    "    dataset2=pipeline2.outputs.result_dataset\n",
    ")\n",
    "\n",
    "pipeline = Pipeline(nodes=[pipeline2, module5], outputs=module5.outputs, default_compute_target='aml-compute')"
   ]
  },
  {
   "cell_type": "code",
   "execution_count": null,
   "metadata": {},
   "outputs": [],
   "source": [
    "pipeline1.validate()"
   ]
  },
  {
   "cell_type": "code",
   "execution_count": null,
   "metadata": {},
   "outputs": [],
   "source": [
    "pipeline.validate()"
   ]
  },
  {
   "cell_type": "code",
   "execution_count": null,
   "metadata": {
    "tags": []
   },
   "outputs": [],
   "source": [
    "run = pipeline.submit(\n",
    "    experiment_name='sample_sub_pipeline_no_dsl'\n",
    ")\n",
    "run.wait_for_completion()\n",
    "\n",
    "pipeline.save(\n",
    "    experiment_name='sample_sub_pipeline_no_dsl'\n",
    ")"
   ]
  }
 ],
 "metadata": {
  "authors": [
   {
    "name": "clwan"
   }
  ],
  "file_extension": ".py",
  "kernelspec": {
   "display_name": "Python 3.6.2 64-bit ('envs': virtualenv)",
   "language": "python",
   "name": "python_defaultSpec_1595403276698"
  },
  "language_info": {
   "codemirror_mode": {
    "name": "ipython",
    "version": 3
   },
   "file_extension": ".py",
   "mimetype": "text/x-python",
   "name": "python",
   "nbconvert_exporter": "python",
   "pygments_lexer": "ipython3",
   "version": "3.6.2-final"
  },
  "mimetype": "text/x-python",
  "name": "python",
  "npconvert_exporter": "python",
  "pygments_lexer": "ipython3",
  "version": 3
 },
 "nbformat": 4,
 "nbformat_minor": 2
}